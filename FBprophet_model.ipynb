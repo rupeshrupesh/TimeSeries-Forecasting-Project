{
 "cells": [
  {
   "cell_type": "code",
   "execution_count": 1,
   "metadata": {},
   "outputs": [
    {
     "name": "stderr",
     "output_type": "stream",
     "text": [
      "/home/rupeshr/anaconda3/lib/python3.7/site-packages/pandas/compat/_optional.py:138: UserWarning: Pandas requires version '2.7.0' or newer of 'numexpr' (version '2.6.9' currently installed).\n",
      "  warnings.warn(msg, UserWarning)\n"
     ]
    }
   ],
   "source": [
    "import pandas as pd\n",
    "from prophet import Prophet"
   ]
  },
  {
   "cell_type": "code",
   "execution_count": 2,
   "metadata": {},
   "outputs": [],
   "source": [
    "def train_test_split(data, train_ratio):\n",
    "    len_data = len(data)\n",
    "    train_size = int(len_data * train_ratio)\n",
    "    train, test = data[0:train_size], data[train_size:len_data]\n",
    "    return train, test"
   ]
  },
  {
   "cell_type": "code",
   "execution_count": 3,
   "metadata": {},
   "outputs": [],
   "source": [
    "def fb_prophet(*,data, date_col, target_col, exog_col=None, custom_seasonalities=None,country_based_holidays=None,ratio, freq, future_period):\n",
    "    try:\n",
    "        if exog_col == None:\n",
    "            data=data[[date_col,target_col]]\n",
    "        else:\n",
    "            data=data[[date_col,target_col, exog_col]]\n",
    "        \n",
    "        data[date_col]=pd.to_datetime(data[date_col])    \n",
    "        \n",
    "        train, test = train_test_split(data, ratio)\n",
    "        \n",
    "        m = Prophet(changepoint_prior_scale=0.1, seasonality_prior_scale=10,seasonality_mode='multiplicative')\n",
    "        \n",
    "        if custom_seasonalities ==None:\n",
    "            pass\n",
    "        else:\n",
    "            print('Adding Custom Seasonalities')\n",
    "            custom_seasonalities=custom_seasonalities\n",
    "            m.add_seasonality(name=custom_seasonalities[0], period=custom_seasonalities[1], fourier_order=custom_seasonalities[2])\n",
    "        \n",
    "        if country_based_holidays ==None:\n",
    "            pass\n",
    "        else:\n",
    "            print('Adding Holiday Region')\n",
    "            m.add_country_holidays(country_name=country_based_holidays)\n",
    "     \n",
    "        if exog_col ==None:\n",
    "            pass\n",
    "        else:\n",
    "            print('Adding Regressor')\n",
    "            if len(exog_col)==1: \n",
    "                m.add_regressor(exog_col)\n",
    "            elif len(exog_col) >1 and len(exog_col)==2: #maximum 2\n",
    "                m.add_regressor(exog_col[0])\n",
    "                m.add_regressor(exog_col[1])\n",
    "            else:\n",
    "                print(\"kindly use less or equal to 2 variables in exog field\")\n",
    "                   \n",
    "        m.fit(train)\n",
    "        pred = m.make_future_dataframe(periods=len(test), freq=freq,include_history=False)\n",
    "        prediction = m.predict(pred)\n",
    "        fut=m.make_future_dataframe(periods=len(test)+future_period,freq=freq,include_history=False)\n",
    "        future=m.predict(fut)\n",
    "        future = future[len(test):]\n",
    "        return train, test, prediction, future\n",
    "    except Exception as e:\n",
    "        print(e)\n",
    "        return"
   ]
  },
  {
   "cell_type": "code",
   "execution_count": 6,
   "metadata": {},
   "outputs": [
    {
     "name": "stderr",
     "output_type": "stream",
     "text": [
      "INFO:prophet:Disabling weekly seasonality. Run prophet with weekly_seasonality=True to override this.\n",
      "INFO:prophet:Disabling daily seasonality. Run prophet with daily_seasonality=True to override this.\n",
      "INFO:prophet:n_changepoints greater than number of observations. Using 24.\n"
     ]
    },
    {
     "name": "stdout",
     "output_type": "stream",
     "text": [
      "Adding Custom Seasonalities\n",
      "Adding Holiday Region\n"
     ]
    }
   ],
   "source": [
    "data = pd.read_csv('/home/rupeshr/Desktop/TSA_Python/dataset/data_new/06-07/sales-cars.csv')\n",
    "data.rename(columns = {\"Month\": \"ds\",'Sales':'y'}, inplace=True)\n",
    "date_col='ds'\n",
    "target_col='y'\n",
    "exog_col=None\n",
    "custom_seasonalities=None #['quarterly',4,10]\n",
    "country_based_holidays= None'US'\n",
    "ratio =0.90\n",
    "freq='MS'\n",
    "future_period=5\n",
    "train, test, prediction, future=fb_prophet(data=data, date_col=date_col, target_col=target_col,exog_col=exog_col, custom_seasonalities=custom_seasonalities,country_based_holidays=country_based_holidays,ratio=ratio, freq=freq, future_period=future_period)\n"
   ]
  },
  {
   "cell_type": "code",
   "execution_count": 7,
   "metadata": {},
   "outputs": [
    {
     "data": {
      "image/png": "[encoded data removed]",
      "text/plain": [
       "<Figure size 432x288 with 1 Axes>"
      ]
     },
     "metadata": {
      "needs_background": "light"
     },
     "output_type": "display_data"
    }
   ],
   "source": [
    "train.set_index('ds', inplace=True)\n",
    "test.set_index('ds', inplace=True)\n",
    "prediction.set_index('ds', inplace=True)\n",
    "future.set_index('ds', inplace=True)\n",
    "import matplotlib.pyplot as plt\n",
    "plt.plot(train['y'])\n",
    "plt.plot(test['y'])\n",
    "plt.plot(prediction['yhat'])\n",
    "plt.plot(future['yhat'])\n",
    "plt.show()"
   ]
  },
  {
   "cell_type": "code",
   "execution_count": null,
   "metadata": {},
   "outputs": [],
   "source": [
    "#saving model using json instead of pickel ...\n",
    "'''\n",
    "In Python, models should not be saved with pickle; the Stan backend attached to the model \n",
    "object will not pickle well, and will produce issues under certain versions of Python. \n",
    "Instead, you should use the built-in  serialization functions to serialize the model to json:'''"
   ]
  },
  {
   "cell_type": "code",
   "execution_count": null,
   "metadata": {},
   "outputs": [],
   "source": [
    "import json\n",
    "from prophet.serialize import model_to_json, model_from_json\n",
    "\n",
    "with open('serialized_model.json', 'w') as fout:\n",
    "    json.dump(model_to_json(m), fout)  # Save model\n",
    "\n",
    "with open('serialized_model.json', 'r') as fin:\n",
    "    m = model_from_json(json.load(fin))  # Load model"
   ]
  }
 ],
 "metadata": {
  "kernelspec": {
   "display_name": "Python [conda env:root] *",
   "language": "python",
   "name": "conda-root-py"
  },
  "language_info": {
   "codemirror_mode": {
    "name": "ipython",
    "version": 3
   },
   "file_extension": ".py",
   "mimetype": "text/x-python",
   "name": "python",
   "nbconvert_exporter": "python",
   "pygments_lexer": "ipython3",
   "version": "3.7.3"
  }
 },
 "nbformat": 4,
 "nbformat_minor": 2
}
