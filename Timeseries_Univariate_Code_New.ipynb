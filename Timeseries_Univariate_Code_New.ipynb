{
 "cells": [
  {
   "cell_type": "code",
   "execution_count": 1,
   "metadata": {},
   "outputs": [],
   "source": [
    "import pandas as pd\n",
    "import numpy as np\n",
    "import warnings\n",
    "warnings.simplefilter('ignore')\n",
    "from pandas import read_csv\n",
    "import matplotlib.pyplot as plt\n",
    "import matplotlib.dates as mdates\n",
    "plt.style.use('Solarize_Light2')\n",
    "import seaborn as sns\n",
    "from datetime import datetime as dat, timedelta\n",
    "from pandas import datetime\n",
    "from dateutil.relativedelta import relativedelta\n",
    "import statsmodels as sm\n",
    "import statsmodels.api as sm  \n",
    "from statsmodels.tsa.seasonal import seasonal_decompose\n",
    "from statsmodels.tsa.stattools import adfuller\n",
    "from statsmodels.graphics.tsaplots import plot_acf, plot_pacf\n",
    "from statsmodels.tsa.api import ExponentialSmoothing, SimpleExpSmoothing, Holt\n",
    "from statsmodels.tsa.arima_model import ARIMA\n",
    "from statsmodels.tsa.statespace.sarimax import SARIMAX\n",
    "from pmdarima.arima import ADFTest\n",
    "from pmdarima.arima import auto_arima\n",
    "from statsmodels.tsa.vector_ar.var_model import VAR\n",
    "from statsmodels.tsa.statespace.varmax import VARMAX\n",
    "from math import sqrt\n",
    "from sklearn.metrics import mean_absolute_error\n",
    "from sklearn.metrics import mean_squared_error"
   ]
  },
  {
   "cell_type": "code",
   "execution_count": 2,
   "metadata": {},
   "outputs": [],
   "source": [
    "def timeseries_conversion(path,datecol):\n",
    "    df = pd.read_csv(path)\n",
    "    #df.drop('State',axis=1,inplace=True)\n",
    "    #df1 = df[[datecol,targcol]]\n",
    "    df.dropna(how='all',inplace = True)\n",
    "    df[datecol]= pd.to_datetime(df[datecol])\n",
    "    #df1[targcol] = df1[targcol].astype(float)\n",
    "    df = df.sort_values(by=datecol)\n",
    "    weeknum = df[datecol].dt.dayofweek\n",
    "    df=df.set_index(datecol)\n",
    "    #df=df.astype(float)\n",
    "    return df,weeknum\n",
    "path='/home/rupeshr/Desktop/india_covid.csv'\n",
    "datecol='date'\n",
    "#targcol='Temp'\n",
    "df1,weeknum=timeseries_conversion(path,datecol)"
   ]
  },
  {
   "cell_type": "code",
   "execution_count": 3,
   "metadata": {},
   "outputs": [
    {
     "data": {
      "text/html": [
       "<div>\n",
       "<style scoped>\n",
       "    .dataframe tbody tr th:only-of-type {\n",
       "        vertical-align: middle;\n",
       "    }\n",
       "\n",
       "    .dataframe tbody tr th {\n",
       "        vertical-align: top;\n",
       "    }\n",
       "\n",
       "    .dataframe thead th {\n",
       "        text-align: right;\n",
       "    }\n",
       "</style>\n",
       "<table border=\"1\" class=\"dataframe\">\n",
       "  <thead>\n",
       "    <tr style=\"text-align: right;\">\n",
       "      <th></th>\n",
       "      <th>iso_code</th>\n",
       "      <th>continent</th>\n",
       "      <th>Country</th>\n",
       "      <th>total_cases</th>\n",
       "      <th>new_cases</th>\n",
       "      <th>total_deaths</th>\n",
       "      <th>new_deaths</th>\n",
       "      <th>total_cases_per_million</th>\n",
       "      <th>new_cases_per_million</th>\n",
       "      <th>total_deaths_per_million</th>\n",
       "      <th>...</th>\n",
       "      <th>extreme_poverty</th>\n",
       "      <th>cardiovasc_death_rate</th>\n",
       "      <th>diabetes_prevalence</th>\n",
       "      <th>female_smokers</th>\n",
       "      <th>male_smokers</th>\n",
       "      <th>handwashing_facilities</th>\n",
       "      <th>hospital_beds_per_thousand</th>\n",
       "      <th>life_expectancy</th>\n",
       "      <th>human_development_index</th>\n",
       "      <th>excess_mortality</th>\n",
       "    </tr>\n",
       "    <tr>\n",
       "      <th>date</th>\n",
       "      <th></th>\n",
       "      <th></th>\n",
       "      <th></th>\n",
       "      <th></th>\n",
       "      <th></th>\n",
       "      <th></th>\n",
       "      <th></th>\n",
       "      <th></th>\n",
       "      <th></th>\n",
       "      <th></th>\n",
       "      <th></th>\n",
       "      <th></th>\n",
       "      <th></th>\n",
       "      <th></th>\n",
       "      <th></th>\n",
       "      <th></th>\n",
       "      <th></th>\n",
       "      <th></th>\n",
       "      <th></th>\n",
       "      <th></th>\n",
       "      <th></th>\n",
       "    </tr>\n",
       "  </thead>\n",
       "  <tbody>\n",
       "    <tr>\n",
       "      <th>2020-05-18</th>\n",
       "      <td>IND</td>\n",
       "      <td>Asia</td>\n",
       "      <td>India</td>\n",
       "      <td>100328</td>\n",
       "      <td>4630</td>\n",
       "      <td>3156</td>\n",
       "      <td>131</td>\n",
       "      <td>72.701</td>\n",
       "      <td>3.355</td>\n",
       "      <td>2.287</td>\n",
       "      <td>...</td>\n",
       "      <td>21.2</td>\n",
       "      <td>282.28</td>\n",
       "      <td>10.39</td>\n",
       "      <td>1.9</td>\n",
       "      <td>20.6</td>\n",
       "      <td>59.55</td>\n",
       "      <td>0.53</td>\n",
       "      <td>69.66</td>\n",
       "      <td>0.645</td>\n",
       "      <td>NaN</td>\n",
       "    </tr>\n",
       "    <tr>\n",
       "      <th>2020-05-19</th>\n",
       "      <td>IND</td>\n",
       "      <td>Asia</td>\n",
       "      <td>India</td>\n",
       "      <td>106475</td>\n",
       "      <td>6147</td>\n",
       "      <td>3302</td>\n",
       "      <td>146</td>\n",
       "      <td>77.156</td>\n",
       "      <td>4.454</td>\n",
       "      <td>2.393</td>\n",
       "      <td>...</td>\n",
       "      <td>21.2</td>\n",
       "      <td>282.28</td>\n",
       "      <td>10.39</td>\n",
       "      <td>1.9</td>\n",
       "      <td>20.6</td>\n",
       "      <td>59.55</td>\n",
       "      <td>0.53</td>\n",
       "      <td>69.66</td>\n",
       "      <td>0.645</td>\n",
       "      <td>NaN</td>\n",
       "    </tr>\n",
       "    <tr>\n",
       "      <th>2020-05-20</th>\n",
       "      <td>IND</td>\n",
       "      <td>Asia</td>\n",
       "      <td>India</td>\n",
       "      <td>112028</td>\n",
       "      <td>5553</td>\n",
       "      <td>3434</td>\n",
       "      <td>132</td>\n",
       "      <td>81.179</td>\n",
       "      <td>4.024</td>\n",
       "      <td>2.488</td>\n",
       "      <td>...</td>\n",
       "      <td>21.2</td>\n",
       "      <td>282.28</td>\n",
       "      <td>10.39</td>\n",
       "      <td>1.9</td>\n",
       "      <td>20.6</td>\n",
       "      <td>59.55</td>\n",
       "      <td>0.53</td>\n",
       "      <td>69.66</td>\n",
       "      <td>0.645</td>\n",
       "      <td>NaN</td>\n",
       "    </tr>\n",
       "    <tr>\n",
       "      <th>2020-05-21</th>\n",
       "      <td>IND</td>\n",
       "      <td>Asia</td>\n",
       "      <td>India</td>\n",
       "      <td>118226</td>\n",
       "      <td>6198</td>\n",
       "      <td>3584</td>\n",
       "      <td>150</td>\n",
       "      <td>85.671</td>\n",
       "      <td>4.491</td>\n",
       "      <td>2.597</td>\n",
       "      <td>...</td>\n",
       "      <td>21.2</td>\n",
       "      <td>282.28</td>\n",
       "      <td>10.39</td>\n",
       "      <td>1.9</td>\n",
       "      <td>20.6</td>\n",
       "      <td>59.55</td>\n",
       "      <td>0.53</td>\n",
       "      <td>69.66</td>\n",
       "      <td>0.645</td>\n",
       "      <td>NaN</td>\n",
       "    </tr>\n",
       "    <tr>\n",
       "      <th>2020-05-22</th>\n",
       "      <td>IND</td>\n",
       "      <td>Asia</td>\n",
       "      <td>India</td>\n",
       "      <td>124794</td>\n",
       "      <td>6568</td>\n",
       "      <td>3726</td>\n",
       "      <td>142</td>\n",
       "      <td>90.430</td>\n",
       "      <td>4.759</td>\n",
       "      <td>2.700</td>\n",
       "      <td>...</td>\n",
       "      <td>21.2</td>\n",
       "      <td>282.28</td>\n",
       "      <td>10.39</td>\n",
       "      <td>1.9</td>\n",
       "      <td>20.6</td>\n",
       "      <td>59.55</td>\n",
       "      <td>0.53</td>\n",
       "      <td>69.66</td>\n",
       "      <td>0.645</td>\n",
       "      <td>NaN</td>\n",
       "    </tr>\n",
       "  </tbody>\n",
       "</table>\n",
       "<p>5 rows × 51 columns</p>\n",
       "</div>"
      ],
      "text/plain": [
       "           iso_code continent Country  total_cases  new_cases  total_deaths  \\\n",
       "date                                                                          \n",
       "2020-05-18      IND      Asia   India       100328       4630          3156   \n",
       "2020-05-19      IND      Asia   India       106475       6147          3302   \n",
       "2020-05-20      IND      Asia   India       112028       5553          3434   \n",
       "2020-05-21      IND      Asia   India       118226       6198          3584   \n",
       "2020-05-22      IND      Asia   India       124794       6568          3726   \n",
       "\n",
       "            new_deaths  total_cases_per_million  new_cases_per_million  \\\n",
       "date                                                                     \n",
       "2020-05-18         131                   72.701                  3.355   \n",
       "2020-05-19         146                   77.156                  4.454   \n",
       "2020-05-20         132                   81.179                  4.024   \n",
       "2020-05-21         150                   85.671                  4.491   \n",
       "2020-05-22         142                   90.430                  4.759   \n",
       "\n",
       "            total_deaths_per_million  ...  extreme_poverty  \\\n",
       "date                                  ...                    \n",
       "2020-05-18                     2.287  ...             21.2   \n",
       "2020-05-19                     2.393  ...             21.2   \n",
       "2020-05-20                     2.488  ...             21.2   \n",
       "2020-05-21                     2.597  ...             21.2   \n",
       "2020-05-22                     2.700  ...             21.2   \n",
       "\n",
       "            cardiovasc_death_rate  diabetes_prevalence  female_smokers  \\\n",
       "date                                                                     \n",
       "2020-05-18                 282.28                10.39             1.9   \n",
       "2020-05-19                 282.28                10.39             1.9   \n",
       "2020-05-20                 282.28                10.39             1.9   \n",
       "2020-05-21                 282.28                10.39             1.9   \n",
       "2020-05-22                 282.28                10.39             1.9   \n",
       "\n",
       "            male_smokers  handwashing_facilities  hospital_beds_per_thousand  \\\n",
       "date                                                                           \n",
       "2020-05-18          20.6                   59.55                        0.53   \n",
       "2020-05-19          20.6                   59.55                        0.53   \n",
       "2020-05-20          20.6                   59.55                        0.53   \n",
       "2020-05-21          20.6                   59.55                        0.53   \n",
       "2020-05-22          20.6                   59.55                        0.53   \n",
       "\n",
       "            life_expectancy  human_development_index  excess_mortality  \n",
       "date                                                                    \n",
       "2020-05-18            69.66                    0.645               NaN  \n",
       "2020-05-19            69.66                    0.645               NaN  \n",
       "2020-05-20            69.66                    0.645               NaN  \n",
       "2020-05-21            69.66                    0.645               NaN  \n",
       "2020-05-22            69.66                    0.645               NaN  \n",
       "\n",
       "[5 rows x 51 columns]"
      ]
     },
     "execution_count": 3,
     "metadata": {},
     "output_type": "execute_result"
    }
   ],
   "source": [
    "df1.head()"
   ]
  },
  {
   "cell_type": "code",
   "execution_count": 4,
   "metadata": {},
   "outputs": [
    {
     "name": "stdout",
     "output_type": "stream",
     "text": [
      "D\n"
     ]
    }
   ],
   "source": [
    "freq = pd.infer_freq(df1.index)\n",
    "print(freq)"
   ]
  },
  {
   "cell_type": "code",
   "execution_count": 7,
   "metadata": {},
   "outputs": [
    {
     "data": {
      "text/plain": [
       "(20345, 4)"
      ]
     },
     "execution_count": 7,
     "metadata": {},
     "output_type": "execute_result"
    }
   ],
   "source": [
    "df1=df1.loc[df1['out_or_in'] == 'In'] \n",
    "df1.shape"
   ]
  },
  {
   "cell_type": "code",
   "execution_count": 4,
   "metadata": {},
   "outputs": [],
   "source": [
    "df1.drop(['Unnamed: 3','Unnamed: 4','id'], axis=1,inplace=True)"
   ]
  },
  {
   "cell_type": "code",
   "execution_count": 15,
   "metadata": {},
   "outputs": [],
   "source": [
    "df1.drop(['out_or_in'], axis=1,inplace=True)"
   ]
  },
  {
   "cell_type": "code",
   "execution_count": 5,
   "metadata": {},
   "outputs": [
    {
     "data": {
      "text/plain": [
       "<matplotlib.axes._subplots.AxesSubplot at 0x7fd5c4350828>"
      ]
     },
     "execution_count": 5,
     "metadata": {},
     "output_type": "execute_result"
    },
    {
     "data": {
      "image/png": "[encoded data removed]",
      "text/plain": [
       "<Figure size 432x288 with 1 Axes>"
      ]
     },
     "metadata": {},
     "output_type": "display_data"
    }
   ],
   "source": [
    "df1.plot()"
   ]
  },
  {
   "cell_type": "code",
   "execution_count": 15,
   "metadata": {},
   "outputs": [
    {
     "data": {
      "text/html": [
       "<div>\n",
       "<style scoped>\n",
       "    .dataframe tbody tr th:only-of-type {\n",
       "        vertical-align: middle;\n",
       "    }\n",
       "\n",
       "    .dataframe tbody tr th {\n",
       "        vertical-align: top;\n",
       "    }\n",
       "\n",
       "    .dataframe thead th {\n",
       "        text-align: right;\n",
       "    }\n",
       "</style>\n",
       "<table border=\"1\" class=\"dataframe\">\n",
       "  <thead>\n",
       "    <tr style=\"text-align: right;\">\n",
       "      <th></th>\n",
       "      <th>datetime</th>\n",
       "      <th>Accelerometer1RMS</th>\n",
       "      <th>Accelerometer2RMS</th>\n",
       "      <th>Current</th>\n",
       "      <th>Pressure</th>\n",
       "      <th>Temperature</th>\n",
       "      <th>Thermocouple</th>\n",
       "      <th>Voltage</th>\n",
       "      <th>Volume Flow RateRMS</th>\n",
       "      <th>anomaly</th>\n",
       "      <th>changepoint</th>\n",
       "    </tr>\n",
       "  </thead>\n",
       "  <tbody>\n",
       "    <tr>\n",
       "      <th>0</th>\n",
       "      <td>2020-02-08 13:30:47</td>\n",
       "      <td>0.206030</td>\n",
       "      <td>0.277924</td>\n",
       "      <td>1.81019</td>\n",
       "      <td>0.382638</td>\n",
       "      <td>90.1740</td>\n",
       "      <td>26.7760</td>\n",
       "      <td>228.208</td>\n",
       "      <td>121.664</td>\n",
       "      <td>NaN</td>\n",
       "      <td>NaN</td>\n",
       "    </tr>\n",
       "    <tr>\n",
       "      <th>1</th>\n",
       "      <td>2020-02-08 13:30:48</td>\n",
       "      <td>0.204366</td>\n",
       "      <td>0.275727</td>\n",
       "      <td>2.66317</td>\n",
       "      <td>-0.273216</td>\n",
       "      <td>90.2836</td>\n",
       "      <td>26.7760</td>\n",
       "      <td>227.245</td>\n",
       "      <td>122.000</td>\n",
       "      <td>NaN</td>\n",
       "      <td>NaN</td>\n",
       "    </tr>\n",
       "    <tr>\n",
       "      <th>2</th>\n",
       "      <td>2020-02-08 13:30:49</td>\n",
       "      <td>0.206103</td>\n",
       "      <td>0.278526</td>\n",
       "      <td>2.63758</td>\n",
       "      <td>0.382638</td>\n",
       "      <td>89.8666</td>\n",
       "      <td>26.7821</td>\n",
       "      <td>237.872</td>\n",
       "      <td>122.000</td>\n",
       "      <td>NaN</td>\n",
       "      <td>NaN</td>\n",
       "    </tr>\n",
       "    <tr>\n",
       "      <th>3</th>\n",
       "      <td>2020-02-08 13:30:51</td>\n",
       "      <td>0.204775</td>\n",
       "      <td>0.276948</td>\n",
       "      <td>2.32851</td>\n",
       "      <td>0.382638</td>\n",
       "      <td>90.2192</td>\n",
       "      <td>26.7773</td>\n",
       "      <td>230.422</td>\n",
       "      <td>121.338</td>\n",
       "      <td>NaN</td>\n",
       "      <td>NaN</td>\n",
       "    </tr>\n",
       "    <tr>\n",
       "      <th>4</th>\n",
       "      <td>2020-02-08 13:30:52</td>\n",
       "      <td>0.206052</td>\n",
       "      <td>0.278141</td>\n",
       "      <td>2.53422</td>\n",
       "      <td>0.382638</td>\n",
       "      <td>90.1449</td>\n",
       "      <td>26.7773</td>\n",
       "      <td>219.454</td>\n",
       "      <td>121.664</td>\n",
       "      <td>NaN</td>\n",
       "      <td>NaN</td>\n",
       "    </tr>\n",
       "  </tbody>\n",
       "</table>\n",
       "</div>"
      ],
      "text/plain": [
       "             datetime  Accelerometer1RMS  Accelerometer2RMS  Current  \\\n",
       "0 2020-02-08 13:30:47           0.206030           0.277924  1.81019   \n",
       "1 2020-02-08 13:30:48           0.204366           0.275727  2.66317   \n",
       "2 2020-02-08 13:30:49           0.206103           0.278526  2.63758   \n",
       "3 2020-02-08 13:30:51           0.204775           0.276948  2.32851   \n",
       "4 2020-02-08 13:30:52           0.206052           0.278141  2.53422   \n",
       "\n",
       "   Pressure  Temperature  Thermocouple  Voltage  Volume Flow RateRMS  anomaly  \\\n",
       "0  0.382638      90.1740       26.7760  228.208              121.664      NaN   \n",
       "1 -0.273216      90.2836       26.7760  227.245              122.000      NaN   \n",
       "2  0.382638      89.8666       26.7821  237.872              122.000      NaN   \n",
       "3  0.382638      90.2192       26.7773  230.422              121.338      NaN   \n",
       "4  0.382638      90.1449       26.7773  219.454              121.664      NaN   \n",
       "\n",
       "   changepoint  \n",
       "0          NaN  \n",
       "1          NaN  \n",
       "2          NaN  \n",
       "3          NaN  \n",
       "4          NaN  "
      ]
     },
     "execution_count": 15,
     "metadata": {},
     "output_type": "execute_result"
    }
   ],
   "source": [
    "df1.reset_index(inplace=True)\n",
    "df1.head()"
   ]
  },
  {
   "cell_type": "code",
   "execution_count": 14,
   "metadata": {},
   "outputs": [
    {
     "data": {
      "text/html": [
       "<div>\n",
       "<style scoped>\n",
       "    .dataframe tbody tr th:only-of-type {\n",
       "        vertical-align: middle;\n",
       "    }\n",
       "\n",
       "    .dataframe tbody tr th {\n",
       "        vertical-align: top;\n",
       "    }\n",
       "\n",
       "    .dataframe thead th {\n",
       "        text-align: right;\n",
       "    }\n",
       "</style>\n",
       "<table border=\"1\" class=\"dataframe\">\n",
       "  <thead>\n",
       "    <tr style=\"text-align: right;\">\n",
       "      <th></th>\n",
       "      <th>DateTime</th>\n",
       "      <th>Vehicles</th>\n",
       "    </tr>\n",
       "  </thead>\n",
       "  <tbody>\n",
       "    <tr>\n",
       "      <th>0</th>\n",
       "      <td>2015-11-01 00:00:00</td>\n",
       "      <td>15</td>\n",
       "    </tr>\n",
       "    <tr>\n",
       "      <th>1</th>\n",
       "      <td>2015-11-01 00:00:00</td>\n",
       "      <td>6</td>\n",
       "    </tr>\n",
       "    <tr>\n",
       "      <th>2</th>\n",
       "      <td>2015-11-01 00:00:00</td>\n",
       "      <td>9</td>\n",
       "    </tr>\n",
       "    <tr>\n",
       "      <th>3</th>\n",
       "      <td>2015-11-01 01:00:00</td>\n",
       "      <td>7</td>\n",
       "    </tr>\n",
       "    <tr>\n",
       "      <th>4</th>\n",
       "      <td>2015-11-01 01:00:00</td>\n",
       "      <td>13</td>\n",
       "    </tr>\n",
       "  </tbody>\n",
       "</table>\n",
       "</div>"
      ],
      "text/plain": [
       "             DateTime  Vehicles\n",
       "0 2015-11-01 00:00:00        15\n",
       "1 2015-11-01 00:00:00         6\n",
       "2 2015-11-01 00:00:00         9\n",
       "3 2015-11-01 01:00:00         7\n",
       "4 2015-11-01 01:00:00        13"
      ]
     },
     "execution_count": 14,
     "metadata": {},
     "output_type": "execute_result"
    }
   ],
   "source": [
    "df1.drop('index',axis=1, inplace=True)\n",
    "df1.head()"
   ]
  },
  {
   "cell_type": "code",
   "execution_count": 15,
   "metadata": {},
   "outputs": [
    {
     "ename": "ValueError",
     "evalue": "cannot reindex from a duplicate axis",
     "output_type": "error",
     "traceback": [
      "\u001b[0;31m---------------------------------------------------------------------------\u001b[0m",
      "\u001b[0;31mValueError\u001b[0m                                Traceback (most recent call last)",
      "\u001b[0;32m<ipython-input-15-3301639f9f3e>\u001b[0m in \u001b[0;36m<module>\u001b[0;34m\u001b[0m\n\u001b[1;32m      1\u001b[0m \u001b[0mdf1\u001b[0m\u001b[0;34m.\u001b[0m\u001b[0mshape\u001b[0m\u001b[0;34m\u001b[0m\u001b[0;34m\u001b[0m\u001b[0m\n\u001b[0;32m----> 2\u001b[0;31m \u001b[0mdf1\u001b[0m\u001b[0;34m=\u001b[0m\u001b[0mdf1\u001b[0m\u001b[0;34m.\u001b[0m\u001b[0mset_index\u001b[0m\u001b[0;34m(\u001b[0m\u001b[0;34m'DateTime'\u001b[0m\u001b[0;34m)\u001b[0m\u001b[0;34m.\u001b[0m\u001b[0masfreq\u001b[0m\u001b[0;34m(\u001b[0m\u001b[0;34m'H'\u001b[0m\u001b[0;34m)\u001b[0m\u001b[0;34m\u001b[0m\u001b[0;34m\u001b[0m\u001b[0m\n\u001b[0m\u001b[1;32m      3\u001b[0m \u001b[0mdf1\u001b[0m\u001b[0;34m.\u001b[0m\u001b[0mshape\u001b[0m\u001b[0;34m\u001b[0m\u001b[0;34m\u001b[0m\u001b[0m\n",
      "\u001b[0;32m~/.local/lib/python3.6/site-packages/pandas/core/generic.py\u001b[0m in \u001b[0;36masfreq\u001b[0;34m(self, freq, method, how, normalize, fill_value)\u001b[0m\n\u001b[1;32m   7679\u001b[0m             \u001b[0mhow\u001b[0m\u001b[0;34m=\u001b[0m\u001b[0mhow\u001b[0m\u001b[0;34m,\u001b[0m\u001b[0;34m\u001b[0m\u001b[0;34m\u001b[0m\u001b[0m\n\u001b[1;32m   7680\u001b[0m             \u001b[0mnormalize\u001b[0m\u001b[0;34m=\u001b[0m\u001b[0mnormalize\u001b[0m\u001b[0;34m,\u001b[0m\u001b[0;34m\u001b[0m\u001b[0;34m\u001b[0m\u001b[0m\n\u001b[0;32m-> 7681\u001b[0;31m             \u001b[0mfill_value\u001b[0m\u001b[0;34m=\u001b[0m\u001b[0mfill_value\u001b[0m\u001b[0;34m,\u001b[0m\u001b[0;34m\u001b[0m\u001b[0;34m\u001b[0m\u001b[0m\n\u001b[0m\u001b[1;32m   7682\u001b[0m         )\n\u001b[1;32m   7683\u001b[0m \u001b[0;34m\u001b[0m\u001b[0m\n",
      "\u001b[0;32m~/.local/lib/python3.6/site-packages/pandas/core/resample.py\u001b[0m in \u001b[0;36masfreq\u001b[0;34m(obj, freq, method, how, normalize, fill_value)\u001b[0m\n\u001b[1;32m   1793\u001b[0m         \u001b[0mdti\u001b[0m \u001b[0;34m=\u001b[0m \u001b[0mdate_range\u001b[0m\u001b[0;34m(\u001b[0m\u001b[0mobj\u001b[0m\u001b[0;34m.\u001b[0m\u001b[0mindex\u001b[0m\u001b[0;34m[\u001b[0m\u001b[0;36m0\u001b[0m\u001b[0;34m]\u001b[0m\u001b[0;34m,\u001b[0m \u001b[0mobj\u001b[0m\u001b[0;34m.\u001b[0m\u001b[0mindex\u001b[0m\u001b[0;34m[\u001b[0m\u001b[0;34m-\u001b[0m\u001b[0;36m1\u001b[0m\u001b[0;34m]\u001b[0m\u001b[0;34m,\u001b[0m \u001b[0mfreq\u001b[0m\u001b[0;34m=\u001b[0m\u001b[0mfreq\u001b[0m\u001b[0;34m)\u001b[0m\u001b[0;34m\u001b[0m\u001b[0;34m\u001b[0m\u001b[0m\n\u001b[1;32m   1794\u001b[0m         \u001b[0mdti\u001b[0m\u001b[0;34m.\u001b[0m\u001b[0mname\u001b[0m \u001b[0;34m=\u001b[0m \u001b[0mobj\u001b[0m\u001b[0;34m.\u001b[0m\u001b[0mindex\u001b[0m\u001b[0;34m.\u001b[0m\u001b[0mname\u001b[0m\u001b[0;34m\u001b[0m\u001b[0;34m\u001b[0m\u001b[0m\n\u001b[0;32m-> 1795\u001b[0;31m         \u001b[0mnew_obj\u001b[0m \u001b[0;34m=\u001b[0m \u001b[0mobj\u001b[0m\u001b[0;34m.\u001b[0m\u001b[0mreindex\u001b[0m\u001b[0;34m(\u001b[0m\u001b[0mdti\u001b[0m\u001b[0;34m,\u001b[0m \u001b[0mmethod\u001b[0m\u001b[0;34m=\u001b[0m\u001b[0mmethod\u001b[0m\u001b[0;34m,\u001b[0m \u001b[0mfill_value\u001b[0m\u001b[0;34m=\u001b[0m\u001b[0mfill_value\u001b[0m\u001b[0;34m)\u001b[0m\u001b[0;34m\u001b[0m\u001b[0;34m\u001b[0m\u001b[0m\n\u001b[0m\u001b[1;32m   1796\u001b[0m         \u001b[0;32mif\u001b[0m \u001b[0mnormalize\u001b[0m\u001b[0;34m:\u001b[0m\u001b[0;34m\u001b[0m\u001b[0;34m\u001b[0m\u001b[0m\n\u001b[1;32m   1797\u001b[0m             \u001b[0mnew_obj\u001b[0m\u001b[0;34m.\u001b[0m\u001b[0mindex\u001b[0m \u001b[0;34m=\u001b[0m \u001b[0mnew_obj\u001b[0m\u001b[0;34m.\u001b[0m\u001b[0mindex\u001b[0m\u001b[0;34m.\u001b[0m\u001b[0mnormalize\u001b[0m\u001b[0;34m(\u001b[0m\u001b[0;34m)\u001b[0m\u001b[0;34m\u001b[0m\u001b[0;34m\u001b[0m\u001b[0m\n",
      "\u001b[0;32m~/.local/lib/python3.6/site-packages/pandas/util/_decorators.py\u001b[0m in \u001b[0;36mwrapper\u001b[0;34m(*args, **kwargs)\u001b[0m\n\u001b[1;32m    225\u001b[0m         \u001b[0;34m@\u001b[0m\u001b[0mwraps\u001b[0m\u001b[0;34m(\u001b[0m\u001b[0mfunc\u001b[0m\u001b[0;34m)\u001b[0m\u001b[0;34m\u001b[0m\u001b[0;34m\u001b[0m\u001b[0m\n\u001b[1;32m    226\u001b[0m         \u001b[0;32mdef\u001b[0m \u001b[0mwrapper\u001b[0m\u001b[0;34m(\u001b[0m\u001b[0;34m*\u001b[0m\u001b[0margs\u001b[0m\u001b[0;34m,\u001b[0m \u001b[0;34m**\u001b[0m\u001b[0mkwargs\u001b[0m\u001b[0;34m)\u001b[0m \u001b[0;34m->\u001b[0m \u001b[0mCallable\u001b[0m\u001b[0;34m[\u001b[0m\u001b[0;34m...\u001b[0m\u001b[0;34m,\u001b[0m \u001b[0mAny\u001b[0m\u001b[0;34m]\u001b[0m\u001b[0;34m:\u001b[0m\u001b[0;34m\u001b[0m\u001b[0;34m\u001b[0m\u001b[0m\n\u001b[0;32m--> 227\u001b[0;31m             \u001b[0;32mreturn\u001b[0m \u001b[0mfunc\u001b[0m\u001b[0;34m(\u001b[0m\u001b[0;34m*\u001b[0m\u001b[0margs\u001b[0m\u001b[0;34m,\u001b[0m \u001b[0;34m**\u001b[0m\u001b[0mkwargs\u001b[0m\u001b[0;34m)\u001b[0m\u001b[0;34m\u001b[0m\u001b[0;34m\u001b[0m\u001b[0m\n\u001b[0m\u001b[1;32m    228\u001b[0m \u001b[0;34m\u001b[0m\u001b[0m\n\u001b[1;32m    229\u001b[0m         \u001b[0mkind\u001b[0m \u001b[0;34m=\u001b[0m \u001b[0minspect\u001b[0m\u001b[0;34m.\u001b[0m\u001b[0mParameter\u001b[0m\u001b[0;34m.\u001b[0m\u001b[0mPOSITIONAL_OR_KEYWORD\u001b[0m\u001b[0;34m\u001b[0m\u001b[0;34m\u001b[0m\u001b[0m\n",
      "\u001b[0;32m~/.local/lib/python3.6/site-packages/pandas/core/frame.py\u001b[0m in \u001b[0;36mreindex\u001b[0;34m(self, *args, **kwargs)\u001b[0m\n\u001b[1;32m   3854\u001b[0m         \u001b[0mkwargs\u001b[0m\u001b[0;34m.\u001b[0m\u001b[0mpop\u001b[0m\u001b[0;34m(\u001b[0m\u001b[0;34m\"axis\"\u001b[0m\u001b[0;34m,\u001b[0m \u001b[0;32mNone\u001b[0m\u001b[0;34m)\u001b[0m\u001b[0;34m\u001b[0m\u001b[0;34m\u001b[0m\u001b[0m\n\u001b[1;32m   3855\u001b[0m         \u001b[0mkwargs\u001b[0m\u001b[0;34m.\u001b[0m\u001b[0mpop\u001b[0m\u001b[0;34m(\u001b[0m\u001b[0;34m\"labels\"\u001b[0m\u001b[0;34m,\u001b[0m \u001b[0;32mNone\u001b[0m\u001b[0;34m)\u001b[0m\u001b[0;34m\u001b[0m\u001b[0;34m\u001b[0m\u001b[0m\n\u001b[0;32m-> 3856\u001b[0;31m         \u001b[0;32mreturn\u001b[0m \u001b[0msuper\u001b[0m\u001b[0;34m(\u001b[0m\u001b[0;34m)\u001b[0m\u001b[0;34m.\u001b[0m\u001b[0mreindex\u001b[0m\u001b[0;34m(\u001b[0m\u001b[0;34m**\u001b[0m\u001b[0mkwargs\u001b[0m\u001b[0;34m)\u001b[0m\u001b[0;34m\u001b[0m\u001b[0;34m\u001b[0m\u001b[0m\n\u001b[0m\u001b[1;32m   3857\u001b[0m \u001b[0;34m\u001b[0m\u001b[0m\n\u001b[1;32m   3858\u001b[0m     def drop(\n",
      "\u001b[0;32m~/.local/lib/python3.6/site-packages/pandas/core/generic.py\u001b[0m in \u001b[0;36mreindex\u001b[0;34m(self, *args, **kwargs)\u001b[0m\n\u001b[1;32m   4542\u001b[0m         \u001b[0;31m# perform the reindex on the axes\u001b[0m\u001b[0;34m\u001b[0m\u001b[0;34m\u001b[0m\u001b[0;34m\u001b[0m\u001b[0m\n\u001b[1;32m   4543\u001b[0m         return self._reindex_axes(\n\u001b[0;32m-> 4544\u001b[0;31m             \u001b[0maxes\u001b[0m\u001b[0;34m,\u001b[0m \u001b[0mlevel\u001b[0m\u001b[0;34m,\u001b[0m \u001b[0mlimit\u001b[0m\u001b[0;34m,\u001b[0m \u001b[0mtolerance\u001b[0m\u001b[0;34m,\u001b[0m \u001b[0mmethod\u001b[0m\u001b[0;34m,\u001b[0m \u001b[0mfill_value\u001b[0m\u001b[0;34m,\u001b[0m \u001b[0mcopy\u001b[0m\u001b[0;34m\u001b[0m\u001b[0;34m\u001b[0m\u001b[0m\n\u001b[0m\u001b[1;32m   4545\u001b[0m         ).__finalize__(self)\n\u001b[1;32m   4546\u001b[0m \u001b[0;34m\u001b[0m\u001b[0m\n",
      "\u001b[0;32m~/.local/lib/python3.6/site-packages/pandas/core/frame.py\u001b[0m in \u001b[0;36m_reindex_axes\u001b[0;34m(self, axes, level, limit, tolerance, method, fill_value, copy)\u001b[0m\n\u001b[1;32m   3742\u001b[0m         \u001b[0;32mif\u001b[0m \u001b[0mindex\u001b[0m \u001b[0;32mis\u001b[0m \u001b[0;32mnot\u001b[0m \u001b[0;32mNone\u001b[0m\u001b[0;34m:\u001b[0m\u001b[0;34m\u001b[0m\u001b[0;34m\u001b[0m\u001b[0m\n\u001b[1;32m   3743\u001b[0m             frame = frame._reindex_index(\n\u001b[0;32m-> 3744\u001b[0;31m                 \u001b[0mindex\u001b[0m\u001b[0;34m,\u001b[0m \u001b[0mmethod\u001b[0m\u001b[0;34m,\u001b[0m \u001b[0mcopy\u001b[0m\u001b[0;34m,\u001b[0m \u001b[0mlevel\u001b[0m\u001b[0;34m,\u001b[0m \u001b[0mfill_value\u001b[0m\u001b[0;34m,\u001b[0m \u001b[0mlimit\u001b[0m\u001b[0;34m,\u001b[0m \u001b[0mtolerance\u001b[0m\u001b[0;34m\u001b[0m\u001b[0;34m\u001b[0m\u001b[0m\n\u001b[0m\u001b[1;32m   3745\u001b[0m             )\n\u001b[1;32m   3746\u001b[0m \u001b[0;34m\u001b[0m\u001b[0m\n",
      "\u001b[0;32m~/.local/lib/python3.6/site-packages/pandas/core/frame.py\u001b[0m in \u001b[0;36m_reindex_index\u001b[0;34m(self, new_index, method, copy, level, fill_value, limit, tolerance)\u001b[0m\n\u001b[1;32m   3764\u001b[0m             \u001b[0mcopy\u001b[0m\u001b[0;34m=\u001b[0m\u001b[0mcopy\u001b[0m\u001b[0;34m,\u001b[0m\u001b[0;34m\u001b[0m\u001b[0;34m\u001b[0m\u001b[0m\n\u001b[1;32m   3765\u001b[0m             \u001b[0mfill_value\u001b[0m\u001b[0;34m=\u001b[0m\u001b[0mfill_value\u001b[0m\u001b[0;34m,\u001b[0m\u001b[0;34m\u001b[0m\u001b[0;34m\u001b[0m\u001b[0m\n\u001b[0;32m-> 3766\u001b[0;31m             \u001b[0mallow_dups\u001b[0m\u001b[0;34m=\u001b[0m\u001b[0;32mFalse\u001b[0m\u001b[0;34m,\u001b[0m\u001b[0;34m\u001b[0m\u001b[0;34m\u001b[0m\u001b[0m\n\u001b[0m\u001b[1;32m   3767\u001b[0m         )\n\u001b[1;32m   3768\u001b[0m \u001b[0;34m\u001b[0m\u001b[0m\n",
      "\u001b[0;32m~/.local/lib/python3.6/site-packages/pandas/core/generic.py\u001b[0m in \u001b[0;36m_reindex_with_indexers\u001b[0;34m(self, reindexers, fill_value, copy, allow_dups)\u001b[0m\n\u001b[1;32m   4611\u001b[0m                 \u001b[0mfill_value\u001b[0m\u001b[0;34m=\u001b[0m\u001b[0mfill_value\u001b[0m\u001b[0;34m,\u001b[0m\u001b[0;34m\u001b[0m\u001b[0;34m\u001b[0m\u001b[0m\n\u001b[1;32m   4612\u001b[0m                 \u001b[0mallow_dups\u001b[0m\u001b[0;34m=\u001b[0m\u001b[0mallow_dups\u001b[0m\u001b[0;34m,\u001b[0m\u001b[0;34m\u001b[0m\u001b[0;34m\u001b[0m\u001b[0m\n\u001b[0;32m-> 4613\u001b[0;31m                 \u001b[0mcopy\u001b[0m\u001b[0;34m=\u001b[0m\u001b[0mcopy\u001b[0m\u001b[0;34m,\u001b[0m\u001b[0;34m\u001b[0m\u001b[0;34m\u001b[0m\u001b[0m\n\u001b[0m\u001b[1;32m   4614\u001b[0m             )\n\u001b[1;32m   4615\u001b[0m \u001b[0;34m\u001b[0m\u001b[0m\n",
      "\u001b[0;32m~/.local/lib/python3.6/site-packages/pandas/core/internals/managers.py\u001b[0m in \u001b[0;36mreindex_indexer\u001b[0;34m(self, new_axis, indexer, axis, fill_value, allow_dups, copy)\u001b[0m\n\u001b[1;32m   1249\u001b[0m         \u001b[0;31m# some axes don't allow reindexing with dups\u001b[0m\u001b[0;34m\u001b[0m\u001b[0;34m\u001b[0m\u001b[0;34m\u001b[0m\u001b[0m\n\u001b[1;32m   1250\u001b[0m         \u001b[0;32mif\u001b[0m \u001b[0;32mnot\u001b[0m \u001b[0mallow_dups\u001b[0m\u001b[0;34m:\u001b[0m\u001b[0;34m\u001b[0m\u001b[0;34m\u001b[0m\u001b[0m\n\u001b[0;32m-> 1251\u001b[0;31m             \u001b[0mself\u001b[0m\u001b[0;34m.\u001b[0m\u001b[0maxes\u001b[0m\u001b[0;34m[\u001b[0m\u001b[0maxis\u001b[0m\u001b[0;34m]\u001b[0m\u001b[0;34m.\u001b[0m\u001b[0m_can_reindex\u001b[0m\u001b[0;34m(\u001b[0m\u001b[0mindexer\u001b[0m\u001b[0;34m)\u001b[0m\u001b[0;34m\u001b[0m\u001b[0;34m\u001b[0m\u001b[0m\n\u001b[0m\u001b[1;32m   1252\u001b[0m \u001b[0;34m\u001b[0m\u001b[0m\n\u001b[1;32m   1253\u001b[0m         \u001b[0;32mif\u001b[0m \u001b[0maxis\u001b[0m \u001b[0;34m>=\u001b[0m \u001b[0mself\u001b[0m\u001b[0;34m.\u001b[0m\u001b[0mndim\u001b[0m\u001b[0;34m:\u001b[0m\u001b[0;34m\u001b[0m\u001b[0;34m\u001b[0m\u001b[0m\n",
      "\u001b[0;32m~/.local/lib/python3.6/site-packages/pandas/core/indexes/base.py\u001b[0m in \u001b[0;36m_can_reindex\u001b[0;34m(self, indexer)\u001b[0m\n\u001b[1;32m   3097\u001b[0m         \u001b[0;31m# trying to reindex on an axis with duplicates\u001b[0m\u001b[0;34m\u001b[0m\u001b[0;34m\u001b[0m\u001b[0;34m\u001b[0m\u001b[0m\n\u001b[1;32m   3098\u001b[0m         \u001b[0;32mif\u001b[0m \u001b[0;32mnot\u001b[0m \u001b[0mself\u001b[0m\u001b[0;34m.\u001b[0m\u001b[0mis_unique\u001b[0m \u001b[0;32mand\u001b[0m \u001b[0mlen\u001b[0m\u001b[0;34m(\u001b[0m\u001b[0mindexer\u001b[0m\u001b[0;34m)\u001b[0m\u001b[0;34m:\u001b[0m\u001b[0;34m\u001b[0m\u001b[0;34m\u001b[0m\u001b[0m\n\u001b[0;32m-> 3099\u001b[0;31m             \u001b[0;32mraise\u001b[0m \u001b[0mValueError\u001b[0m\u001b[0;34m(\u001b[0m\u001b[0;34m\"cannot reindex from a duplicate axis\"\u001b[0m\u001b[0;34m)\u001b[0m\u001b[0;34m\u001b[0m\u001b[0;34m\u001b[0m\u001b[0m\n\u001b[0m\u001b[1;32m   3100\u001b[0m \u001b[0;34m\u001b[0m\u001b[0m\n\u001b[1;32m   3101\u001b[0m     \u001b[0;32mdef\u001b[0m \u001b[0mreindex\u001b[0m\u001b[0;34m(\u001b[0m\u001b[0mself\u001b[0m\u001b[0;34m,\u001b[0m \u001b[0mtarget\u001b[0m\u001b[0;34m,\u001b[0m \u001b[0mmethod\u001b[0m\u001b[0;34m=\u001b[0m\u001b[0;32mNone\u001b[0m\u001b[0;34m,\u001b[0m \u001b[0mlevel\u001b[0m\u001b[0;34m=\u001b[0m\u001b[0;32mNone\u001b[0m\u001b[0;34m,\u001b[0m \u001b[0mlimit\u001b[0m\u001b[0;34m=\u001b[0m\u001b[0;32mNone\u001b[0m\u001b[0;34m,\u001b[0m \u001b[0mtolerance\u001b[0m\u001b[0;34m=\u001b[0m\u001b[0;32mNone\u001b[0m\u001b[0;34m)\u001b[0m\u001b[0;34m:\u001b[0m\u001b[0;34m\u001b[0m\u001b[0;34m\u001b[0m\u001b[0m\n",
      "\u001b[0;31mValueError\u001b[0m: cannot reindex from a duplicate axis"
     ]
    }
   ],
   "source": [
    "df1.shape\n",
    "df1=df1.set_index('DateTime').asfreq('H')\n",
    "df1.shape"
   ]
  },
  {
   "cell_type": "code",
   "execution_count": 53,
   "metadata": {},
   "outputs": [
    {
     "name": "stdout",
     "output_type": "stream",
     "text": [
      "Date\n",
      "1995-01-01     NaN\n",
      "1995-02-01    -2.5\n",
      "1995-03-01     1.2\n",
      "1995-04-01     8.1\n",
      "1995-05-01    25.0\n",
      "              ... \n",
      "2015-08-01    51.5\n",
      "2015-09-01    57.0\n",
      "2015-10-01    33.9\n",
      "2015-11-01    89.7\n",
      "2015-12-01    58.5\n",
      "Name: Money, Length: 252, dtype: float64\n"
     ]
    }
   ],
   "source": [
    "# print(df1['Monthly beer production'])\n",
    "\n",
    "# print(df1['Monthly beer production'].shift(1, freq='Q'))\n",
    "\n",
    "s=df1['Money'] - df1['Money'].shift(1)\n",
    "print(s)"
   ]
  },
  {
   "cell_type": "code",
   "execution_count": 48,
   "metadata": {},
   "outputs": [
    {
     "data": {
      "text/plain": [
       "<matplotlib.axes._subplots.AxesSubplot at 0x7fd5c16264e0>"
      ]
     },
     "execution_count": 48,
     "metadata": {},
     "output_type": "execute_result"
    },
    {
     "data": {
      "image/png": "[encoded data removed]",
      "text/plain": [
       "<Figure size 432x288 with 1 Axes>"
      ]
     },
     "metadata": {},
     "output_type": "display_data"
    }
   ],
   "source": [
    "s.plot()"
   ]
  },
  {
   "cell_type": "code",
   "execution_count": 54,
   "metadata": {},
   "outputs": [
    {
     "name": "stdout",
     "output_type": "stream",
     "text": [
      "Date\n",
      "1995-01-01     NaN\n",
      "1995-02-01     NaN\n",
      "1995-03-01     3.7\n",
      "1995-04-01     6.9\n",
      "1995-05-01    16.9\n",
      "              ... \n",
      "2015-08-01    -0.7\n",
      "2015-09-01     5.5\n",
      "2015-10-01   -23.1\n",
      "2015-11-01    55.8\n",
      "2015-12-01   -31.2\n",
      "Name: Money, Length: 252, dtype: float64\n"
     ]
    }
   ],
   "source": [
    "c=s-s.shift(1)\n",
    "print(c)"
   ]
  },
  {
   "cell_type": "code",
   "execution_count": 45,
   "metadata": {},
   "outputs": [
    {
     "data": {
      "text/plain": [
       "<matplotlib.axes._subplots.AxesSubplot at 0x7fd5c1704400>"
      ]
     },
     "execution_count": 45,
     "metadata": {},
     "output_type": "execute_result"
    },
    {
     "data": {
      "image/png": "[encoded data removed]",
      "text/plain": [
       "<Figure size 432x288 with 1 Axes>"
      ]
     },
     "metadata": {},
     "output_type": "display_data"
    }
   ],
   "source": [
    "c.plot()"
   ]
  },
  {
   "cell_type": "code",
   "execution_count": 15,
   "metadata": {},
   "outputs": [
    {
     "name": "stdout",
     "output_type": "stream",
     "text": [
      "Date\n",
      "1995-01-01      NaN\n",
      "1995-02-01      NaN\n",
      "1995-03-01      NaN\n",
      "1995-04-01      6.8\n",
      "1995-05-01     34.3\n",
      "              ...  \n",
      "2015-08-01    149.2\n",
      "2015-09-01    160.7\n",
      "2015-10-01    142.4\n",
      "2015-11-01    180.6\n",
      "2015-12-01    182.1\n",
      "Name: Money, Length: 252, dtype: float64\n"
     ]
    }
   ],
   "source": [
    "s=df1['Money'].diff(3)\n",
    "print(s)"
   ]
  },
  {
   "cell_type": "code",
   "execution_count": 16,
   "metadata": {},
   "outputs": [],
   "source": [
    "# data slicing \n",
    "def slicing(df1,st,en):\n",
    "    df1=df1[st:en]\n",
    "    return df1\n",
    "st='20000101000000'\n",
    "en='20100101000000'\n",
    "df1=slicing(df1,st,en)"
   ]
  },
  {
   "cell_type": "code",
   "execution_count": 17,
   "metadata": {},
   "outputs": [
    {
     "data": {
      "text/html": [
       "<div>\n",
       "<style scoped>\n",
       "    .dataframe tbody tr th:only-of-type {\n",
       "        vertical-align: middle;\n",
       "    }\n",
       "\n",
       "    .dataframe tbody tr th {\n",
       "        vertical-align: top;\n",
       "    }\n",
       "\n",
       "    .dataframe thead th {\n",
       "        text-align: right;\n",
       "    }\n",
       "</style>\n",
       "<table border=\"1\" class=\"dataframe\">\n",
       "  <thead>\n",
       "    <tr style=\"text-align: right;\">\n",
       "      <th></th>\n",
       "      <th>Sunspots</th>\n",
       "    </tr>\n",
       "    <tr>\n",
       "      <th>Month</th>\n",
       "      <th></th>\n",
       "    </tr>\n",
       "  </thead>\n",
       "  <tbody>\n",
       "    <tr>\n",
       "      <th>2000-01-01</th>\n",
       "      <td>84.6</td>\n",
       "    </tr>\n",
       "    <tr>\n",
       "      <th>2000-02-01</th>\n",
       "      <td>90.1</td>\n",
       "    </tr>\n",
       "    <tr>\n",
       "      <th>2000-03-01</th>\n",
       "      <td>112.9</td>\n",
       "    </tr>\n",
       "    <tr>\n",
       "      <th>2000-04-01</th>\n",
       "      <td>138.5</td>\n",
       "    </tr>\n",
       "    <tr>\n",
       "      <th>2000-05-01</th>\n",
       "      <td>125.5</td>\n",
       "    </tr>\n",
       "  </tbody>\n",
       "</table>\n",
       "</div>"
      ],
      "text/plain": [
       "            Sunspots\n",
       "Month               \n",
       "2000-01-01      84.6\n",
       "2000-02-01      90.1\n",
       "2000-03-01     112.9\n",
       "2000-04-01     138.5\n",
       "2000-05-01     125.5"
      ]
     },
     "execution_count": 17,
     "metadata": {},
     "output_type": "execute_result"
    }
   ],
   "source": [
    "df1.head()"
   ]
  },
  {
   "cell_type": "code",
   "execution_count": 6,
   "metadata": {},
   "outputs": [
    {
     "data": {
      "image/png": "[encoded data removed]",
      "text/plain": [
       "<Figure size 720x576 with 4 Axes>"
      ]
     },
     "metadata": {},
     "output_type": "display_data"
    }
   ],
   "source": [
    "import statsmodels.api as sm  \n",
    "def seasonal_decompose(df1):\n",
    "    decomposition = sm.tsa.seasonal_decompose(df1, model = 'additive')\n",
    "    plt.figure(figsize=(10, 8))\n",
    "    trend = decomposition.trend\n",
    "    #trend.plot()\n",
    "    seasonal = decomposition.seasonal\n",
    "    residual = decomposition.resid\n",
    "\n",
    "    plt.subplot(221)\n",
    "    plt.plot(df1, color='#00b8ff', label='Original')\n",
    "    plt.legend(loc='best')\n",
    "    plt.subplot(222)\n",
    "    plt.plot(trend, 'b', label='Trend')\n",
    "    plt.legend(loc='best')\n",
    "\n",
    "    plt.subplot(223)\n",
    "    plt.plot(seasonal, color='#ff00ff', label='Seasonality')\n",
    "    plt.legend(loc='best')\n",
    "    plt.subplot(224)\n",
    "    plt.plot(residual, 'y', label='Residuals')\n",
    "    plt.legend(loc='best')\n",
    "    plt.tight_layout()\n",
    "    plt.show()\n",
    "    return\n",
    "seasonal_decompose(df1)"
   ]
  },
  {
   "cell_type": "code",
   "execution_count": 7,
   "metadata": {},
   "outputs": [
    {
     "name": "stdout",
     "output_type": "stream",
     "text": [
      "            Customers\n",
      "date                 \n",
      "2018-01-01         44\n",
      "2018-01-02         30\n",
      "2018-01-03         38\n",
      "2018-01-04         33\n",
      "2018-01-05         37\n",
      "2018-01-06         46\n",
      "2018-01-07         35\n",
      "2018-01-08         21\n",
      "2018-01-09         34\n",
      "2018-01-10         30             Customers\n",
      "date                 \n",
      "2018-01-02         74\n",
      "2018-01-09        244\n",
      "2018-01-16        227\n",
      "2018-01-23        279\n",
      "2018-01-30        244\n",
      "2018-02-06        237\n",
      "2018-02-13        211\n",
      "2018-02-20        248\n",
      "2018-02-27        266\n",
      "2018-03-06        204\n"
     ]
    }
   ],
   "source": [
    "def resamplingtechnique(df1,weeknum,resamplemethod,resampletype,frequencytype,imputation):\n",
    "    weekday1= weeknum[len(weeknum)-1]\n",
    "    def weekdays(weekday1):\n",
    "        if weekday1 == 0:\n",
    "            day = 'W-MON'\n",
    "        elif weekday1 == 1:\n",
    "            day = 'W-TUE'\n",
    "        elif weekday1 == 2:\n",
    "            day = 'W-WED'\n",
    "        elif weekday1 == 3:\n",
    "            day = 'W-THU'\n",
    "        elif weekday1 == 4:\n",
    "            day = 'W-FRI'\n",
    "        elif weekday1 == 5:\n",
    "            day = 'W-SAT'\n",
    "        elif weekday1 == 6:\n",
    "            day = 'W-SUN'\n",
    "        return day\n",
    "    #valueddata = adfuller_test(df1)\n",
    "    if resamplemethod == 'no':\n",
    "        pass\n",
    "    elif resamplemethod =='upsample':\n",
    "        if resampletype =='no':\n",
    "            pass\n",
    "        elif resampletype =='linear':\n",
    "            second=df1.resample('S').interpolate(method='linear')\n",
    "            minute=df1.resample('T').interpolate(method='linear')\n",
    "            hourly = df1.resample('H').interpolate(method='linear') # two columns( one date column and one target column) as the base data frame.\n",
    "            daily = df1.resample('D').interpolate(method='linear')\n",
    "            weekly = df1.resample(weekdays(weekday1)).interpolate(method='linear')\n",
    "            monthly = df1.resample('M').interpolate(method='linear')\n",
    "            quarterly = df1.resample('Q').interpolate(method='linear')\n",
    "            yearly =df1.resample('Y').interpolate(method='linear')\n",
    "\n",
    "        elif resampletype == 'spline':\n",
    "            seconds=df1.resample('S').interpolate(method='spline',order=2)\n",
    "            minutes=df1.resample('T').interpolate(method='spline',order=2)\n",
    "            hourly = df1.resample('H').interpolate(method='spline',order=2)  # two columns( one date column and one target column) as the base data frame.\n",
    "            daily = df1.resample('D').interpolate(method='spline', order=2)\n",
    "            weekly = df1.resample(weekdays(weekday1)).interpolate(method='spline', order=2)\n",
    "            monthly = df1.resample('M').interpolate(method='spline', order=2)\n",
    "            quarterly = df1.resample('Q').interpolate(method='spline', order=2)\n",
    "            yearly = df1.resample('Y').interpolate(method='spline', order=2)\n",
    "        \n",
    "        elif resampletype =='polynomial':\n",
    "            second=df1.resample('S').interpolate(method='polynomial',order=2)\n",
    "            minute=df1.resample('T').interpolate(method='polynomial',order=2)\n",
    "            hourly = df1.resample('H').interpolate(method='polynomial',order=2)  # two columns( one date column and one target column) as the base data frame.\n",
    "            daily = df1.resample('D').interpolate(method='polynomial', order=2)\n",
    "            weekly = df1.resample(weekdays(weekday1)).interpolate(method='polynomial', order=2)\n",
    "            monthly = df1.resample('M').interpolate(method='polynomial', order=2)\n",
    "            quarterly = df1.resample('Q').interpolate(method='polynomial', order=2)\n",
    "            yearly = df1.resample('Y').interpolate(method='polynomial', order=2)\n",
    "        \n",
    "        elif resampletype =='cubic':\n",
    "            second=df1.resample('S').interpolate(method='cubic')\n",
    "            minute=df1.resample('T').interpolate(method='cubic')\n",
    "            hourly = df1.resample('H').interpolate(method='cubic') # two columns( one date column and one target column) as the base data frame.\n",
    "            daily = df1.resample('D').interpolate(method='cubic')\n",
    "            weekly = df1.resample(weekdays(weekday1)).interpolate(method='cubic')\n",
    "            monthly = df1.resample('M').interpolate(method='cubic')\n",
    "            quarterly = df1.resample('Q').interpolate(method='cubic')\n",
    "            yearly = df1.resample('Y').interpolate(method='cubic')\n",
    "            \n",
    "        elif resampletype =='quadratic':\n",
    "            second=df1.resample('S').interpolate(method='quadratic')\n",
    "            minute=df1.resample('T').interpolate(method='quadratic')\n",
    "            hourly = df1.resample('H').interpolate(method='quadratic') # two columns( one date column and one target column) as the base data frame.\n",
    "            daily = df1.resample('D').interpolate(method='quadratic')\n",
    "            weekly = df1.resample(weekdays(weekday1)).interpolate(method='quadratic')\n",
    "            monthly = df1.resample('M').interpolate(method='quadratic')\n",
    "            quarterly = df1.resample('Q').interpolate(method='quadratic')\n",
    "            yearly = df1.resample('Y').interpolate(method='quadratic')\n",
    "            \n",
    "            \n",
    "    elif resamplemethod == 'downsample':\n",
    "        if resampletype == 'no':\n",
    "            pass\n",
    "        elif resampletype == 'mean':\n",
    "            second=df1.resample('S').mean()\n",
    "            minute=df1.resample('T').mean()\n",
    "            hourly = df1.resample('H').mean()  \n",
    "            daily = df1.resample('D').mean()\n",
    "            weekly = df1.resample(weekdays(weekday1)).mean()\n",
    "            monthly = df1.resample('M').mean()\n",
    "            quarterly = df1.resample('Q').mean()\n",
    "            yearly = df1.resample('Y').mean()\n",
    "\n",
    "        elif resampletype == 'sum':\n",
    "            second=df1.resample('S').sum()\n",
    "            minute=df1.resample('T').sum()\n",
    "            hourly = df1.resample('H').sum()  \n",
    "            daily = df1.resample('D').sum()\n",
    "            weekly = df1.resample(weekdays(weekday1)).sum()\n",
    "            monthly = df1.resample('M').sum()\n",
    "            quarterly = df1.resample('Q').sum()\n",
    "            yearly = df1.resample('Y').sum()\n",
    "        \n",
    "        elif resampletype == 'min':\n",
    "            second=df1.resample('S').min()\n",
    "            minute=df1.resample('T').min()\n",
    "            hourly = df1.resample('H').min()  \n",
    "            daily = df1.resample('D').min()\n",
    "            weekly = df1.resample(weekdays(weekday1)).min()\n",
    "            monthly = df1.resample('M').min()\n",
    "            quarterly = df1.resample('Q').min()\n",
    "            yearly = df1.resample('Y').min()\n",
    "        \n",
    "        elif resampletype =='max':\n",
    "            second=df1.resample('S').max()\n",
    "            minute=df1.resample('T').max()\n",
    "            hourly = df1.resample('H').max() \n",
    "            daily = df1.resample('D').max()\n",
    "            weekly = df1.resample(weekdays(weekday1)).max()\n",
    "            monthly = df1.resample('M').max()\n",
    "            quarterly = df1.resample('Q').max()\n",
    "            yearly = df1.resample('Y').max()\n",
    "        \n",
    "        elif resampletype =='count':\n",
    "            second=df1.resample('S').count()\n",
    "            minute=df1.resample('T').count()\n",
    "            hourly = df1.resample('H').count()  \n",
    "            daily = df1.resample('D').count()\n",
    "            weekly = df1.resample(weekdays(weekday1)).count()\n",
    "            monthly = df1.resample('M').count()\n",
    "            quarterly = df1.resample('Q').count()\n",
    "            yearly = df1.resample('Y').count()\n",
    "            \n",
    "    if frequencytype == 'second':\n",
    "        if resampletype == 'no':\n",
    "            pass\n",
    "        else:\n",
    "            df2 = second\n",
    "    elif frequencytype =='minute':\n",
    "        if resampletype == 'no':\n",
    "            pass\n",
    "        else:\n",
    "            df2 = minute\n",
    "    elif frequencytype =='hourly':\n",
    "        if resampletype == 'no':\n",
    "            pass\n",
    "        else:\n",
    "            df2 = hourly\n",
    "    elif frequencytype == 'daily':\n",
    "        if resampletype == 'no':\n",
    "            pass\n",
    "        else:\n",
    "            df2 = daily\n",
    "    elif frequencytype == 'weekly':\n",
    "        if resampletype == 'no':\n",
    "            pass\n",
    "        else:\n",
    "            df2 = weekly\n",
    "    elif frequencytype == 'monthly':\n",
    "        if resampletype == 'no':\n",
    "            pass\n",
    "        else:\n",
    "            df2 = monthly\n",
    "    elif frequencytype == 'quarterly':\n",
    "        if resampletype == 'no':\n",
    "            pass\n",
    "        else:\n",
    "            df2 = quarterly\n",
    "    elif frequencytype == 'yearly':\n",
    "        if resampletype == 'no':\n",
    "            pass\n",
    "        else:\n",
    "            df2 = yearly\n",
    "\n",
    "    if imputation == 'no':\n",
    "        df3 = df1\n",
    "        del df1\n",
    "    elif imputation == 'mean':\n",
    "        df3 = df2.fillna(df2.mean())\n",
    "        del df2\n",
    "    elif imputation == 'median':\n",
    "        df3 = df2.fillna(df2.median())\n",
    "        del df2\n",
    "        \n",
    "    return df3\n",
    "\n",
    "resamplemethod ='downsample'\n",
    "resampletype='sum'\n",
    "frequencytype='weekly'\n",
    "imputation='mean'\n",
    "df3=resamplingtechnique(df1,weeknum,resamplemethod,resampletype,frequencytype,imputation)\n",
    "print(df1.head(10),df3.head(10))"
   ]
  },
  {
   "cell_type": "code",
   "execution_count": 54,
   "metadata": {},
   "outputs": [
    {
     "data": {
      "text/plain": [
       "<matplotlib.axes._subplots.AxesSubplot at 0x7f4e4dac4b38>"
      ]
     },
     "execution_count": 54,
     "metadata": {},
     "output_type": "execute_result"
    },
    {
     "data": {
      "image/png": "[encoded data removed]",
      "text/plain": [
       "<Figure size 432x288 with 1 Axes>"
      ]
     },
     "metadata": {},
     "output_type": "display_data"
    }
   ],
   "source": [
    "df3.plot()"
   ]
  },
  {
   "cell_type": "code",
   "execution_count": 6,
   "metadata": {},
   "outputs": [
    {
     "name": "stdout",
     "output_type": "stream",
     "text": [
      "No.Of.Differencing Required:1\n"
     ]
    }
   ],
   "source": [
    "import matplotlib.dates as mdates\n",
    "plt.style.use('Solarize_Light2')\n",
    "from statsmodels.tsa.vector_ar.vecm import coint_johansen\n",
    "def check_stationary(df,targetparameter,check_stationary_type, differencing):\n",
    "    if check_stationary_type == 'Rolling_statistics':\n",
    "        if differencing == 'no':\n",
    "            w = int(input('Enter Windowing Number:'))\n",
    "            df['rolling_mean'] = df[targetparameter].rolling(window=w).mean( )\n",
    "            df['rolling_std'] = df[targetparameter].rolling(window=w).std( )\n",
    "            return df.index ,df\n",
    "        elif differencing == 'yes':\n",
    "            w = int(input(' Enter Windowing Number:'))\n",
    "            s = int(input(' No.Of.Differencing Required:'))\n",
    "            df1 = df - df.shift(s)\n",
    "            df1['rolling_mean'] = df1[targetparameter].rolling(window=w).mean( )\n",
    "            df1['rolling_std'] = df1[targetparameter].rolling(window=w).std( )\n",
    "            return df1.index, df1\n",
    "\n",
    "    elif check_stationary_type == 'ADFTest':\n",
    "        if differencing == 'no':\n",
    "            dftest = adfuller(df[targetparameter], autolag='AIC')\n",
    "            print(dftest)\n",
    "            Test_stats = dftest[0]\n",
    "            P_value = dftest[1]\n",
    "            C_value = dftest[4]\n",
    "            test = pd.DataFrame([Test_stats, P_value, C_value], columns=[check_stationary_type])\n",
    "            return df,test\n",
    "\n",
    "        elif differencing == 'yes':\n",
    "            s = int(input('No.Of.Differencing Required:'))\n",
    "            for i in range(s):\n",
    "                df1 = df[targetparameter] - df[targetparameter].shift(1)\n",
    "            dftest = adfuller(df1.dropna( ), autolag='AIC')\n",
    "            Test_stats = dftest[0]\n",
    "            P_value = dftest[1]\n",
    "            C_value = dftest[4]\n",
    "            test = pd.DataFrame([Test_stats, P_value, C_value], columns=[check_stationary_type])\n",
    "            return df1,test\n",
    "    \n",
    "    elif check_stationary_type =='JohansenTest':\n",
    "        if differencing =='no':\n",
    "            det_order=int(input('Enter Det_order:')) # must be in -1 to 1 --> (-1,0,1)\n",
    "            #k_ar_diff =int(input('Enter Number of lagged differences in the model:')) # --> lag values\n",
    "            data=df[targetparameter]\n",
    "            joh_model = coint_johansen(data,det_order,0)\n",
    "            trace_stats = pd.DataFrame([joh_model.lr1],index=[\"trace_stat\"])\n",
    "            trace_stats=trace_stats.T\n",
    "            cvt=pd.DataFrame(joh_model.cvt,columns=['conf_interval_90%','conf_interval_95%','conf_interval_99%'])\n",
    "            return trace_stats,cvt\n",
    "        elif differencing =='yes':\n",
    "            det_order=int(input('Enter Det_order:')) # must be in -1 to 1 --> (-1,0,1)\n",
    "            k_ar_diff =int(input('Enter Number of lagged differences in the model:')) # --> lag values\n",
    "            data=df[targetparameter]\n",
    "            joh_model = coint_johansen(data,det_order,k_ar_diff)\n",
    "            trace_stats = pd.DataFrame([joh_model.lr1],index=[\"trace_stat\"])\n",
    "            trace_stats=trace_stats.T\n",
    "            cvt=pd.DataFrame(joh_model.cvt,columns=['conf_interval_90%','conf_interval_95%','conf_interval_99%'])\n",
    "            return trace_stats,cvt\n",
    "targetparameter='total_cases'\n",
    "check_stationary_type='ADFTest' # Rolling_statistics(use windowing) or ADFTest\n",
    "differencing='yes' # yes or no\n",
    "df4,output=check_stationary(df1,targetparameter,check_stationary_type,differencing)"
   ]
  },
  {
   "cell_type": "code",
   "execution_count": 7,
   "metadata": {},
   "outputs": [
    {
     "name": "stdout",
     "output_type": "stream",
     "text": [
      "date\n",
      "2020-05-18        NaN\n",
      "2020-05-19     6147.0\n",
      "2020-05-20     5553.0\n",
      "2020-05-21     6198.0\n",
      "2020-05-22     6568.0\n",
      "               ...   \n",
      "2021-07-02    44111.0\n",
      "2021-07-03    43071.0\n",
      "2021-07-04    39796.0\n",
      "2021-07-05    34703.0\n",
      "2021-07-06    43733.0\n",
      "Name: total_cases, Length: 415, dtype: float64\n",
      "                                             ADFTest\n",
      "0                                           -3.38228\n",
      "1                                          0.0115779\n",
      "2  {'1%': -3.446845912589748, '5%': -2.8688110853...\n"
     ]
    }
   ],
   "source": [
    "print(df4)\n",
    "print(output)"
   ]
  },
  {
   "cell_type": "code",
   "execution_count": 8,
   "metadata": {},
   "outputs": [
    {
     "data": {
      "image/png": "[encoded data removed]",
      "text/plain": [
       "<Figure size 864x432 with 2 Axes>"
      ]
     },
     "metadata": {},
     "output_type": "display_data"
    }
   ],
   "source": [
    "from statsmodels.graphics.tsaplots import plot_acf, plot_pacf\n",
    "def acf_pacf_plot(df4):\n",
    "    df4=df4.dropna()\n",
    "    fig, ax = plt.subplots(2, figsize=(12,6))\n",
    "    ax[0] = plot_acf(df4, ax=ax[0], lags=20)\n",
    "    ax[1] = plot_pacf(df4, ax=ax[1], lags=20)\n",
    "    return\n",
    "acf_pacf_plot(df4)"
   ]
  },
  {
   "cell_type": "code",
   "execution_count": 41,
   "metadata": {},
   "outputs": [
    {
     "name": "stdout",
     "output_type": "stream",
     "text": [
      "             Money  Spending    Gain    Loss\n",
      "Date                                        \n",
      "1995-01-01  3492.4    4851.2  2891.0  1000.0\n",
      "1995-02-01  3489.9    4850.8  2893.0  1101.0\n",
      "1995-03-01  3491.1    4885.4  2895.0  1202.0\n",
      "1995-04-01  3499.2    4890.2     0.0  1303.0\n",
      "1995-05-01  3524.2    4933.1     0.0  1404.0\n"
     ]
    },
    {
     "name": "stderr",
     "output_type": "stream",
     "text": [
      "/usr/local/lib/python3.6/dist-packages/statsmodels/tsa/base/tsa_model.py:162: ValueWarning: No frequency information was provided, so inferred frequency MS will be used.\n",
      "  % freq, ValueWarning)\n",
      "/usr/local/lib/python3.6/dist-packages/statsmodels/tsa/base/tsa_model.py:162: ValueWarning: No frequency information was provided, so inferred frequency MS will be used.\n",
      "  % freq, ValueWarning)\n"
     ]
    }
   ],
   "source": [
    "from statsmodels.tsa.arima_model import ARIMA\n",
    "exogparameter=['Spending','Gain','Loss']\n",
    "cols = df3.columns\n",
    "train_size = int(len(df3) * 0.90)\n",
    "train, test = df3[0:train_size], df3[train_size:len(df3)]\n",
    "print(train.head())\n",
    "\n",
    "model = ARIMA(endog=train[targetparameter],exog=train[exogparameter], order=(1, 1, 1))\n",
    "model_fit = model.fit(disp=False)\n",
    "#prediction=pd.DataFrame(model_fit.forecast(steps=len(test),exog=test[exogparameter]),columns=test.columns)\n",
    "#prediction.index=test.index\n",
    "#future_forecast=model_fit.forecast(steps=15)\n",
    "#future_forecast=future_forecast.values\n",
    "\n",
    "#test.plot()\n",
    "#prediction.plot()"
   ]
  },
  {
   "cell_type": "code",
   "execution_count": 46,
   "metadata": {},
   "outputs": [
    {
     "data": {
      "text/html": [
       "<div>\n",
       "<style scoped>\n",
       "    .dataframe tbody tr th:only-of-type {\n",
       "        vertical-align: middle;\n",
       "    }\n",
       "\n",
       "    .dataframe tbody tr th {\n",
       "        vertical-align: top;\n",
       "    }\n",
       "\n",
       "    .dataframe thead tr th {\n",
       "        text-align: left;\n",
       "    }\n",
       "\n",
       "    .dataframe thead tr:last-of-type th {\n",
       "        text-align: right;\n",
       "    }\n",
       "</style>\n",
       "<table border=\"1\" class=\"dataframe\">\n",
       "  <thead>\n",
       "    <tr>\n",
       "      <th></th>\n",
       "      <th>Money</th>\n",
       "    </tr>\n",
       "    <tr>\n",
       "      <th>Date</th>\n",
       "      <th></th>\n",
       "    </tr>\n",
       "  </thead>\n",
       "  <tbody>\n",
       "    <tr>\n",
       "      <th>2013-11-01</th>\n",
       "      <td>11015.525882</td>\n",
       "    </tr>\n",
       "    <tr>\n",
       "      <th>2013-12-01</th>\n",
       "      <td>11079.018310</td>\n",
       "    </tr>\n",
       "    <tr>\n",
       "      <th>2014-01-01</th>\n",
       "      <td>11139.043369</td>\n",
       "    </tr>\n",
       "    <tr>\n",
       "      <th>2014-02-01</th>\n",
       "      <td>11197.097850</td>\n",
       "    </tr>\n",
       "    <tr>\n",
       "      <th>2014-03-01</th>\n",
       "      <td>11254.039547</td>\n",
       "    </tr>\n",
       "  </tbody>\n",
       "</table>\n",
       "</div>"
      ],
      "text/plain": [
       "                   Money\n",
       "Date                    \n",
       "2013-11-01  11015.525882\n",
       "2013-12-01  11079.018310\n",
       "2014-01-01  11139.043369\n",
       "2014-02-01  11197.097850\n",
       "2014-03-01  11254.039547"
      ]
     },
     "execution_count": 46,
     "metadata": {},
     "output_type": "execute_result"
    }
   ],
   "source": [
    "pred=model_fit.forecast(steps=len(test[targetparameter]),exog=test[exogparameter])\n",
    "#print(pred)\n",
    "prediction=pd.DataFrame(pred[0],index=test.index,columns=[targetparameter])\n",
    "test[targetparameter].head()\n",
    "prediction.head()"
   ]
  },
  {
   "cell_type": "code",
   "execution_count": 39,
   "metadata": {},
   "outputs": [
    {
     "name": "stdout",
     "output_type": "stream",
     "text": [
      "32.88172072934924\n",
      "3285\n",
      "365\n",
      "365\n",
      "            Temp\n",
      "Date            \n",
      "1990-01-01  14.8\n",
      "1990-01-02  13.3\n",
      "1990-01-03  15.6\n",
      "1990-01-04  14.5\n",
      "1990-01-05  14.3\n",
      "                 Temp\n",
      "Date                 \n",
      "1990-01-01  12.125715\n",
      "1990-01-02  11.798472\n",
      "1990-01-03  11.650374\n",
      "1990-01-04  11.567699\n",
      "1990-01-05  11.561645\n",
      "[12.12571518 11.7984716  11.6503736  11.56769899 11.56164536 11.6430452\n",
      " 11.74561409 11.45845402 11.26187643 10.94284825 11.21101089 11.28406428\n",
      " 11.25429421 11.13117068 11.16757826]\n"
     ]
    },
    {
     "name": "stderr",
     "output_type": "stream",
     "text": [
      "/usr/local/lib/python3.6/dist-packages/statsmodels/tsa/base/tsa_model.py:583: ValueWarning: No supported index is available. Prediction results will be given with an integer index beginning at `start`.\n",
      "  ValueWarning)\n"
     ]
    }
   ],
   "source": [
    "mape=np.mean(np.abs((test.values - prediction.values) / test.values)) * 100\n",
    "print(mape)\n",
    "future_forecast=model_fit.forecast(steps=15)\n",
    "future_forecast=future_forecast.values\n",
    "print(len(train))\n",
    "print(len(test))\n",
    "print(len(prediction))\n",
    "print(test.head())\n",
    "print(prediction.head())\n",
    "print(future_forecast)"
   ]
  },
  {
   "cell_type": "code",
   "execution_count": 7,
   "metadata": {},
   "outputs": [
    {
     "name": "stdout",
     "output_type": "stream",
     "text": [
      "value of p:1\n",
      "value of q:1\n"
     ]
    },
    {
     "name": "stderr",
     "output_type": "stream",
     "text": [
      "/usr/local/lib/python3.6/dist-packages/statsmodels/tsa/statespace/varmax.py:163: EstimationWarning: Estimation of VARMA(p,q) models is not generically robust, due especially to identification issues.\n",
      "  EstimationWarning)\n",
      "/usr/local/lib/python3.6/dist-packages/statsmodels/tsa/base/tsa_model.py:162: ValueWarning: No frequency information was provided, so inferred frequency D will be used.\n",
      "  % freq, ValueWarning)\n",
      "/usr/local/lib/python3.6/dist-packages/statsmodels/tsa/statespace/varmax.py:163: EstimationWarning: Estimation of VARMA(p,q) models is not generically robust, due especially to identification issues.\n",
      "  EstimationWarning)\n",
      "/usr/local/lib/python3.6/dist-packages/statsmodels/tsa/statespace/varmax.py:163: EstimationWarning: Estimation of VARMA(p,q) models is not generically robust, due especially to identification issues.\n",
      "  EstimationWarning)\n"
     ]
    },
    {
     "name": "stdout",
     "output_type": "stream",
     "text": [
      "MAE value for ['open_SAR', 'volume'] is :  31028.324731903012\n",
      "RMSE value for ['open_SAR', 'volume'] is :  44598.34955963704\n",
      "MAPE value for ['open_SAR', 'volume'] is :  37.426545706738814\n"
     ]
    }
   ],
   "source": [
    "from statsmodels.tsa.vector_ar.var_model import VAR\n",
    "from statsmodels.tsa.statespace.varmax import VARMAX\n",
    "def timeseries_models(df3,targetparameter,algorithmn,ratio):\n",
    "    cols = df3.columns\n",
    "    train_size = int(len(df3) * ratio)\n",
    "    train, test = df3[0:train_size], df3[train_size:len(df3)]\n",
    "    #algorithm = input('Enter algorithm to use:')\n",
    "    if algorithm == 'SimpleExponentialSmoothing':\n",
    "        model= SimpleExpSmoothing(train[targetparameter])\n",
    "        model_fit = model.fit(smoothing_level=.5)\n",
    "        print(model_fit)\n",
    "        prediction=pd.DataFrame(model_fit.forecast(steps=len(test[targetparameter])),columns=[targetparameter])\n",
    "        future_forecast=model_fit.forecast(steps=future_period)\n",
    "        future_forecast=future_forecast.values\n",
    "\n",
    "    elif algorithm == 'Holtlinear':\n",
    "        model=Holt(train[targetparameter])\n",
    "        model_fit=model.fit()\n",
    "        print(model_fit)\n",
    "        prediction=pd.DataFrame(model_fit.forecast(steps=len(test[targetparameter])),columns=[targetparameter])\n",
    "        future_forecast=model_fit.forecast(steps=future_period)\n",
    "        future_forecast = future_forecast.values\n",
    "\n",
    "    elif algorithm =='Holtwinter':\n",
    "        m= int(input('value of seasonal_period:'))\n",
    "        #When the trend increases or decreases linearly, additive equation is used whereas when the trend increases of decreases exponentially, multiplicative equation is used\n",
    "        #The additive method is preferred when the seasonal variations are roughly constant through the series,while the multiplicative method is preferred when the seasonal variations are changing proportional to the level of the series.\n",
    "        model = ExponentialSmoothing(train[targetparameter], trend='add', seasonal='add',seasonal_periods=m)\n",
    "        model_fit = model.fit()\n",
    "        prediction = pd.DataFrame(model_fit.forecast(steps=len(test[targetparameter])),columns=[targetparameter])\n",
    "        print(prediction)\n",
    "        future_forecast=model_fit.forecast(steps=future_period)\n",
    "        future_forecast = future_forecast.values\n",
    "    \n",
    "    elif algorithm =='ARIMA':\n",
    "        p = int(input('value of p:'))\n",
    "        d = int(input('value of d:'))\n",
    "        q = int(input('value of q:'))\n",
    "        model = ARIMA(train[targetparameter], order=(p,d,q))\n",
    "        model_fit = model.fit()\n",
    "        pred=model_fit.forecast(steps=len(test[targetparameter]))\n",
    "        prediction=pd.DataFrame(pred[0],index=test.index,columns=[targetparameter])\n",
    "        future_forecast=model_fit.forecast(steps=future_period)\n",
    "        #future_forecast=future_forecast.values\n",
    "    \n",
    "    elif algorithm =='SARIMA':\n",
    "        p = int(input('value of p:'))\n",
    "        d = int(input('value of d:'))\n",
    "        q = int(input('value of q:'))\n",
    "        P = int(input('value of p:'))\n",
    "        D = int(input('value of d:'))\n",
    "        Q = int(input('value of q:'))\n",
    "        m= int(input('value of seasonal_period:'))\n",
    "        model = sm.tsa.statespace.SARIMAX(train[targetparameter], order=(p, d, q),seasonal_order=(P,D,Q,m),enforce_stationarity=False, enforce_invertibility=False)\n",
    "        model_fit = model.fit()\n",
    "        pred=model_fit.forecast(steps=len(test[targetparameter]))\n",
    "        prediction=pd.DataFrame(pred,index=test.index,columns=[targetparameter])\n",
    "        future_forecast=model_fit.forecast(steps=future_period)\n",
    "        future_forecast=future_forecast.values\n",
    "    \n",
    "    elif algorithm =='ARIMAX':\n",
    "        p = int(input('value of p:'))\n",
    "        d = int(input('value of d:'))\n",
    "        q = int(input('value of q:'))\n",
    "        model = ARIMA(train[targetparameter],exog=train[exogparameter],order=(p,d,q))\n",
    "        model_fit = model.fit(disp=False)\n",
    "        pred=model_fit.forecast(steps=len(test[targetparameter]),exog=test[exogparameter])\n",
    "        prediction=pd.DataFrame(pred[0],index=test.index,columns=targetparameter)\n",
    "        future_forecast=model_fit.forecast(steps=future_period)\n",
    "        future_forecast=future_forecast.values\n",
    "        \n",
    "    elif algorithm =='SARIMAX':\n",
    "        p = int(input('value of p:'))\n",
    "        d = int(input('value of d:'))\n",
    "        q = int(input('value of q:'))\n",
    "        P = int(input('value of p:'))\n",
    "        D = int(input('value of d:'))\n",
    "        Q = int(input('value of q:'))\n",
    "        m= int(input('value of seasonal_period:'))\n",
    "        model = SARIMAX(train[targetparameter], exog=train[exogparameter],order=(p, d, q),seasonal_order=(P,D,Q,m), enforce_stationarity=False, enforce_invertibility=False)\n",
    "        model_fit = model.fit(disp=False)\n",
    "        pred=model_fit.forecast(steps=len(test[targetparameter]),exog=test[exogparameter])\n",
    "        prediction=pd.DataFrame(pred,index=test.index,columns=targetparameter)\n",
    "        print(prediction)\n",
    "        future_forecast=model_fit.forecast(steps=future_period)\n",
    "        future_forecast=future_forecast.values\n",
    "\n",
    "    elif algorithm =='AUTO_ARIMA':\n",
    "        model = auto_arima(train[targetparameter],start_p=0, d=1, start_q=0, max_p=3, max_d=2, max_q=3,\n",
    "                           seasonal=False, error_action='warn', trace=True, supress_warning=True,\n",
    "                           stepwise=True, random_state=20, n_fits=50)\n",
    "        model.fit(train[targetparameter])\n",
    "        prediction=pd.DataFrame(model.predict(n_periods=len(test[targetparameter])),index=test.index,columns=[targetparameter])\n",
    "        future_forecast=model.predict(n_periods=future_period)\n",
    "        \n",
    "    elif algorithm =='AUTO_ARIMAX':\n",
    "        model = auto_arima(train[targetparameter],exogeneous=train[exogparameter],start_p=0, d=1, start_q=0, max_p=3, max_d=2, max_q=3,\n",
    "                           seasonal=False, error_action='warn', trace=True, supress_warning=True,\n",
    "                           stepwise=True, random_state=20, n_fits=50)\n",
    "        model.fit(train[targetparameter],exogeneous=train[exogparameter])\n",
    "        prediction=pd.DataFrame(model.predict(n_periods=len(test[targetparameter])),index=test.index,columns=targetparameter)\n",
    "        future_forecast=model.predict(n_periods=future_period)\n",
    "        \n",
    "    elif algorithm == 'AUTO_SARIMA':\n",
    "        model = auto_arima(train[targetparameter],start_p=0, d=0, start_q=0, max_p=2, max_d=1, max_q=2,\n",
    "                           start_P=0, D=0, start_Q=0, max_P=2, max_D=1, max_Q=2, m=value,\n",
    "                           seasonal=True, error_action='warn', trace=True, supress_warning=True,\n",
    "                           stepwise=True, random_state=20, n_fits=50)\n",
    "        model.fit(train[targetparameter])\n",
    "        prediction=pd.DataFrame(model.predict(n_periods=len(test[targetparameter])),index=test.index,columns=targetparameter)\n",
    "        future_forecast=model.predict(n_periods=future_period)\n",
    "    \n",
    "    elif algorithm =='AUTO_SARIMAX':\n",
    "        model=auto_arima(train[targetparameter],exogeneous=train[exogparameter], start_p=0, d=1, start_q=0, max_p=3, max_d=2, max_q=3,\n",
    "                           start_P=0, D=1, start_Q=0, max_P=3, max_D=2, max_Q=3, m=value,\n",
    "                           seasonal=True, error_action='warn', trace=True, supress_warning=True,\n",
    "                           stepwise=True, random_state=20, n_fits=50)\n",
    "        model.fit(train[targetparameter],exogeneous=train[exogparameter])\n",
    "        prediction=pd.DataFrame(model.predict(n_periods=len(test[targetparameter])),index=test.index,columns=[targetparameter])\n",
    "        future_forecast=model.predict(n_periods=future_period)\n",
    "        \n",
    "    elif algorithm =='VAR':\n",
    "        model = VAR(endog=train[targetparameter])\n",
    "        model_fit = model.fit()\n",
    "        pred = model_fit.forecast(model_fit.y, steps=len(test[targetparameter]))\n",
    "        prediction = pd.DataFrame(pred,index=test.index,columns=targetparameter)\n",
    "        future_forecast=model_fit.forecast(model_fit.y, steps=future_period)\n",
    "        \n",
    "    elif algorithm =='VARMA':\n",
    "        p=int(input('value of p:'))\n",
    "        q=int(input('value of q:'))\n",
    "        model = VARMAX(endog=train[targetparameter], order=(p, q))\n",
    "        model_fit = model.fit()\n",
    "        prediction = model_fit.forecast(steps=len(test[targetparameter]),index=test.index)\n",
    "        future_forecast = model_fit.forecast(steps=future_period)\n",
    "        \n",
    "    elif algorithm =='VARMAX':\n",
    "        p=int(input('value of p:'))\n",
    "        q=int(input('value of q:'))\n",
    "        model=VARMAX(endog=train[targetparameter],exog=train[exogparameter],order=(p,q))\n",
    "        model_fit = model.fit()\n",
    "        prediction=pd.DataFrame(model_fit.predict(steps=len(test[targetparameter]),exog=test[exogparameter],columns=targetparameter))\n",
    "        future_forecast=model_fit.forecast(steps=future_period)\n",
    "    \n",
    "\n",
    "    #for i in cols:\n",
    "    print('MAE value for', targetparameter, 'is : ', mean_absolute_error(test[targcol],prediction[targcol] ))\n",
    "    print('RMSE value for', targetparameter, 'is : ', sqrt(mean_squared_error(test[targcol],prediction[targcol])))\n",
    "    print('MAPE value for', targetparameter, 'is : ',np.mean(np.abs((test[targcol].values - prediction[targcol].values) / test[targcol].values)) * 100)\n",
    "        \n",
    "    return train,test,prediction,future_forecast\n",
    "\n",
    "algorithm ='VARMA'# exgo variable only supports for ARIMAX and SARIMAX models\n",
    "ratio=0.80\n",
    "future_period=60\n",
    "targcol=['open_SAR','volume'] \n",
    "train,test,prediction,future_forecast=timeseries_models(df1,targcol,algorithm,ratio)"
   ]
  },
  {
   "cell_type": "code",
   "execution_count": 9,
   "metadata": {},
   "outputs": [
    {
     "data": {
      "text/plain": [
       "31028.324731903012"
      ]
     },
     "execution_count": 9,
     "metadata": {},
     "output_type": "execute_result"
    }
   ],
   "source": [
    "mean_absolute_error(test[['open_SAR','volume']],prediction[['open_SAR','volume']])"
   ]
  },
  {
   "cell_type": "markdown",
   "metadata": {},
   "source": [
    "1# from sklearn.metrics import mean_absolute_percentage_error\n",
    "round(mean_absolute_percentage_error(test, prediction) * 100,2)"
   ]
  },
  {
   "cell_type": "code",
   "execution_count": 12,
   "metadata": {},
   "outputs": [
    {
     "data": {
      "image/png": "[encoded data removed]",
      "text/plain": [
       "<Figure size 432x288 with 1 Axes>"
      ]
     },
     "metadata": {},
     "output_type": "display_data"
    }
   ],
   "source": [
    "plt.plot(train[targcol], label='Train')\n",
    "plt.plot(test[targcol], label='Test')\n",
    "plt.plot(prediction, label='Prediction')\n",
    "plt.legend()\n",
    "plt.tight_layout()\n",
    "plt.show()"
   ]
  },
  {
   "cell_type": "code",
   "execution_count": 13,
   "metadata": {},
   "outputs": [
    {
     "data": {
      "text/plain": [
       "inf"
      ]
     },
     "execution_count": 13,
     "metadata": {},
     "output_type": "execute_result"
    }
   ],
   "source": [
    "round(np.mean(np.abs((test[targcol].values - prediction.values) / test[targcol].values)) * 100, 2)"
   ]
  },
  {
   "cell_type": "code",
   "execution_count": 52,
   "metadata": {},
   "outputs": [
    {
     "name": "stdout",
     "output_type": "stream",
     "text": [
      "[102.8204 114.7068 113.5958  99.4712  90.3566  93.8095 107.3312 111.9646\n",
      " 103.3679  93.5772  87.5566  92.7603 101.14   113.0357 109.8601  96.7431\n",
      "  90.3805  94.3417 105.2722 115.501  106.734  102.9948  91.0092  90.9634\n",
      " 100.6957 110.148  108.1756  99.2809  91.7871  97.2853 113.4732 124.2549\n",
      " 112.8811 104.7631  90.2867  92.134  101.878  108.5497 108.194  100.4172\n",
      "  92.3837  99.7033 109.3477 120.2696 116.3788 104.4706  89.7461  91.093\n",
      " 102.6495 111.6354 110.5925 101.9204  91.5959  93.0628 103.2203 117.0837\n",
      " 106.6688  95.3548  89.3254  90.7369 104.0375 114.5397 115.5159 102.7637\n",
      "  91.4867  92.89   112.7694 114.8505  99.4901 101.0396  88.353   92.0805\n",
      " 102.1532 112.1538 108.9312  98.6154  93.6137  97.3359 114.7212 129.4048] [102.66880142 109.8349     110.15047528  98.41157687  90.65703496\n",
      "  93.29026504 110.94577145 116.51754668 107.18088838  99.27143745\n",
      "  90.09108942  93.02162457 104.12498215 111.29108073 111.60665602\n",
      "  99.8677576   92.11321569  94.74644577 112.40195218 117.97372742\n",
      " 108.63706912 100.72761818  91.54727016  94.47780531 105.58116289\n",
      " 112.74726147 113.06283675 101.32393834  93.56939642  96.20262651\n",
      " 113.85813292 119.42990815 110.09324985 102.18379892  93.00345089\n",
      "  95.93398604 107.03734362 114.2034422  114.51901749 102.78011907\n",
      "  95.02557716  97.65880724 115.31431365 120.88608889 111.54943058\n",
      " 103.63997965  94.45963162  97.39016678 108.49352436 115.65962294\n",
      " 115.97519822 104.23629981  96.48175789  99.11498798 116.77049439\n",
      " 122.34226962 113.00561132 105.09616039  95.91581236  98.84634751\n",
      " 109.94970509 117.11580367 117.43137896 105.69248054  97.93793863\n",
      " 100.57116871 118.22667512 123.79845036 114.46179205 106.55234112\n",
      "  97.37199309 100.30252825 111.40588583 118.57198441 118.88755969\n",
      " 107.14866128  99.39411936 102.02734945 119.68285586 125.25463109]\n"
     ]
    }
   ],
   "source": [
    "y_true, y_pred= np.array(test[targcol]), np.array(prediction[targcol])\n",
    "print(y_true , y_pred)"
   ]
  },
  {
   "cell_type": "code",
   "execution_count": 43,
   "metadata": {},
   "outputs": [
    {
     "data": {
      "text/plain": [
       "4.35"
      ]
     },
     "execution_count": 43,
     "metadata": {},
     "output_type": "execute_result"
    }
   ],
   "source": [
    "round(np.mean(np.abs((y_true - y_pred) / y_true)) * 100, 2)"
   ]
  },
  {
   "cell_type": "code",
   "execution_count": 45,
   "metadata": {},
   "outputs": [
    {
     "name": "stdout",
     "output_type": "stream",
     "text": [
      "0.04303369247716026\n"
     ]
    }
   ],
   "source": [
    "Error = np.sum(np.abs(np.subtract(test[targcol],prediction[targcol])))\n",
    "Average = np.sum(test[targcol])\n",
    "MAPE = Error/Average\n",
    "print(MAPE)"
   ]
  },
  {
   "cell_type": "code",
   "execution_count": 56,
   "metadata": {},
   "outputs": [
    {
     "name": "stdout",
     "output_type": "stream",
     "text": [
      "3.2248045356256525\n"
     ]
    }
   ],
   "source": [
    "MAE = mean_absolute_error(test[targcol], prediction[targcol])\n",
    "print(MAE)"
   ]
  },
  {
   "cell_type": "code",
   "execution_count": 57,
   "metadata": {},
   "outputs": [
    {
     "name": "stdout",
     "output_type": "stream",
     "text": [
      "17.19\n"
     ]
    }
   ],
   "source": [
    "MSE = round(mean_squared_error(test[targcol], prediction[targcol]), 2)\n",
    "print(MSE)"
   ]
  },
  {
   "cell_type": "code",
   "execution_count": 58,
   "metadata": {},
   "outputs": [
    {
     "name": "stdout",
     "output_type": "stream",
     "text": [
      "4.15\n"
     ]
    }
   ],
   "source": [
    "RMSE = round(np.sqrt(mean_squared_error(test[targcol], prediction[targcol])), 2)\n",
    "print(RMSE)"
   ]
  },
  {
   "cell_type": "code",
   "execution_count": 61,
   "metadata": {},
   "outputs": [
    {
     "name": "stdout",
     "output_type": "stream",
     "text": [
      "3.14\n"
     ]
    }
   ],
   "source": [
    "MAPE = (MAE / np.mean(test[targcol])) * 100\n",
    "print(round(MAPE,2))"
   ]
  },
  {
   "cell_type": "code",
   "execution_count": 28,
   "metadata": {},
   "outputs": [
    {
     "ename": "AttributeError",
     "evalue": "'tuple' object has no attribute 'astype'",
     "output_type": "error",
     "traceback": [
      "\u001b[0;31m---------------------------------------------------------------------------\u001b[0m",
      "\u001b[0;31mAttributeError\u001b[0m                            Traceback (most recent call last)",
      "\u001b[0;32m<ipython-input-28-7ac44bef9da0>\u001b[0m in \u001b[0;36m<module>\u001b[0;34m\u001b[0m\n\u001b[1;32m     25\u001b[0m \u001b[0;34m\u001b[0m\u001b[0m\n\u001b[1;32m     26\u001b[0m \u001b[0mfuture_period\u001b[0m\u001b[0;34m=\u001b[0m \u001b[0;36m60\u001b[0m\u001b[0;34m\u001b[0m\u001b[0;34m\u001b[0m\u001b[0m\n\u001b[0;32m---> 27\u001b[0;31m \u001b[0mfinal_df\u001b[0m\u001b[0;34m=\u001b[0m\u001b[0mfutureforecast\u001b[0m\u001b[0;34m(\u001b[0m\u001b[0mtest\u001b[0m\u001b[0;34m,\u001b[0m\u001b[0mfuture_forecast\u001b[0m\u001b[0;34m,\u001b[0m\u001b[0mfuture_period\u001b[0m\u001b[0;34m)\u001b[0m\u001b[0;34m\u001b[0m\u001b[0;34m\u001b[0m\u001b[0m\n\u001b[0m\u001b[1;32m     28\u001b[0m \u001b[0mprint\u001b[0m\u001b[0;34m(\u001b[0m\u001b[0mfinal_df\u001b[0m\u001b[0;34m.\u001b[0m\u001b[0mhead\u001b[0m\u001b[0;34m(\u001b[0m\u001b[0;34m)\u001b[0m\u001b[0;34m)\u001b[0m\u001b[0;34m\u001b[0m\u001b[0;34m\u001b[0m\u001b[0m\n",
      "\u001b[0;32m<ipython-input-28-7ac44bef9da0>\u001b[0m in \u001b[0;36mfutureforecast\u001b[0;34m(test, future_forecast, future_period)\u001b[0m\n\u001b[1;32m     21\u001b[0m     \u001b[0mfinal_df\u001b[0m\u001b[0;34m[\u001b[0m\u001b[0mdatecol\u001b[0m\u001b[0;34m]\u001b[0m \u001b[0;34m=\u001b[0m \u001b[0mfuture_dates\u001b[0m\u001b[0;34m\u001b[0m\u001b[0;34m\u001b[0m\u001b[0m\n\u001b[1;32m     22\u001b[0m     \u001b[0mfinal_df\u001b[0m\u001b[0;34m.\u001b[0m\u001b[0mset_index\u001b[0m\u001b[0;34m(\u001b[0m\u001b[0mdatecol\u001b[0m\u001b[0;34m,\u001b[0m\u001b[0minplace\u001b[0m\u001b[0;34m=\u001b[0m\u001b[0;32mTrue\u001b[0m\u001b[0;34m)\u001b[0m\u001b[0;34m\u001b[0m\u001b[0;34m\u001b[0m\u001b[0m\n\u001b[0;32m---> 23\u001b[0;31m     \u001b[0mfinal_df\u001b[0m\u001b[0;34m[\u001b[0m\u001b[0mtargcol\u001b[0m\u001b[0;34m]\u001b[0m \u001b[0;34m=\u001b[0m \u001b[0mfuture_forecast\u001b[0m\u001b[0;34m.\u001b[0m\u001b[0mastype\u001b[0m\u001b[0;34m(\u001b[0m\u001b[0mint\u001b[0m\u001b[0;34m)\u001b[0m\u001b[0;34m\u001b[0m\u001b[0;34m\u001b[0m\u001b[0m\n\u001b[0m\u001b[1;32m     24\u001b[0m     \u001b[0;32mreturn\u001b[0m \u001b[0mfinal_df\u001b[0m\u001b[0;34m\u001b[0m\u001b[0;34m\u001b[0m\u001b[0m\n\u001b[1;32m     25\u001b[0m \u001b[0;34m\u001b[0m\u001b[0m\n",
      "\u001b[0;31mAttributeError\u001b[0m: 'tuple' object has no attribute 'astype'"
     ]
    }
   ],
   "source": [
    "def futureforecast(test,future_forecast,future_period):\n",
    "    predict_period = future_period\n",
    "    if frequencytype=='second':\n",
    "        future_dates=pd.date_range(start=str(test.index[-1]), periods=predict_period, freq='S')\n",
    "    if frequencytype == 'minute':\n",
    "        future_dates = pd.date_range(start=str(test.index[-1]), periods=predict_period, freq='T')\n",
    "    elif frequencytype == 'hourly':\n",
    "        future_dates = pd.date_range(start=str(test.index[-1]), periods=predict_period, freq='H')\n",
    "    elif frequencytype == 'daily':\n",
    "        future_dates = pd.date_range(start=str(test.index[-1]), periods=predict_period, freq='D')\n",
    "    elif frequencytype == 'weekly':\n",
    "        future_dates = pd.date_range(start=str(test.index[-1]), periods=predict_period, freq=weekdays(weekday1))\n",
    "    elif frequencytype == 'monthly':\n",
    "        future_dates = pd.date_range(start=str(test.index[-1]), periods=predict_period, freq='M')\n",
    "    elif frequencytype == 'quarterly':\n",
    "        future_dates = pd.date_range(start=str(test.index[-1]), periods=predict_period, freq='Q')\n",
    "    elif frequencytype == 'yearly':\n",
    "        future_dates = pd.date_range(start=str(test.index[-1]), periods=predict_period, freq='Y')\n",
    "    #print(future_dates)\n",
    "    final_df = pd.DataFrame()\n",
    "    final_df[datecol] = future_dates\n",
    "    final_df.set_index(datecol,inplace=True)\n",
    "    final_df[targcol] = future_forecast.astype(int)\n",
    "    return final_df\n",
    "\n",
    "future_period= 60\n",
    "final_df=futureforecast(test,future_forecast,future_period)\n",
    "print(final_df.head())"
   ]
  },
  {
   "cell_type": "code",
   "execution_count": 11,
   "metadata": {},
   "outputs": [
    {
     "data": {
      "image/png": "[encoded data removed]",
      "text/plain": [
       "<Figure size 432x288 with 1 Axes>"
      ]
     },
     "metadata": {},
     "output_type": "display_data"
    }
   ],
   "source": [
    "plt.plot(train[targcol], label='Train')\n",
    "plt.plot(test[targcol], label='Test')\n",
    "plt.plot(prediction, label='Prediction')\n",
    "plt.plot(final_df, label='Future')\n",
    "plt.legend()\n",
    "plt.tight_layout()\n",
    "plt.show()"
   ]
  },
  {
   "cell_type": "code",
   "execution_count": null,
   "metadata": {},
   "outputs": [],
   "source": [
    "# for statistical models save & load method using .(PKL) file"
   ]
  },
  {
   "cell_type": "code",
   "execution_count": 12,
   "metadata": {},
   "outputs": [
    {
     "name": "stdout",
     "output_type": "stream",
     "text": [
      "            IPG2211A2N\n",
      "DATE                  \n",
      "2016-08-01    115.5159\n",
      "2016-09-01    102.7637\n",
      "2016-10-01     91.4867\n",
      "2016-11-01     92.8900\n",
      "2016-12-01    112.7694\n"
     ]
    }
   ],
   "source": [
    "train_size = int(len(df3) * 0.90)\n",
    "train, test = df3[0:train_size], df3[train_size:len(df3)]\n",
    "print(test.tail())"
   ]
  },
  {
   "cell_type": "code",
   "execution_count": 13,
   "metadata": {},
   "outputs": [
    {
     "name": "stderr",
     "output_type": "stream",
     "text": [
      "/usr/local/lib/python3.6/dist-packages/statsmodels/tsa/base/tsa_model.py:162: ValueWarning: No frequency information was provided, so inferred frequency MS will be used.\n",
      "  % freq, ValueWarning)\n"
     ]
    }
   ],
   "source": [
    "model=ExponentialSmoothing(train, trend='add', seasonal='add',seasonal_periods=12)"
   ]
  },
  {
   "cell_type": "code",
   "execution_count": 14,
   "metadata": {},
   "outputs": [],
   "source": [
    "model_fit=model.fit()"
   ]
  },
  {
   "cell_type": "code",
   "execution_count": 15,
   "metadata": {},
   "outputs": [],
   "source": [
    "model_fit.save('model.pkl')  # model summary"
   ]
  },
  {
   "cell_type": "code",
   "execution_count": 16,
   "metadata": {},
   "outputs": [
    {
     "name": "stdout",
     "output_type": "stream",
     "text": [
      "<statsmodels.tsa.holtwinters.HoltWintersResultsWrapper object at 0x7fa2ec3f0128>\n"
     ]
    }
   ],
   "source": [
    "import pickle\n",
    "with open('model.pkl', 'rb') as f:\n",
    "    data=pickle.load(f)\n",
    "print(data)"
   ]
  },
  {
   "cell_type": "code",
   "execution_count": 17,
   "metadata": {},
   "outputs": [
    {
     "data": {
      "text/html": [
       "<div>\n",
       "<style scoped>\n",
       "    .dataframe tbody tr th:only-of-type {\n",
       "        vertical-align: middle;\n",
       "    }\n",
       "\n",
       "    .dataframe tbody tr th {\n",
       "        vertical-align: top;\n",
       "    }\n",
       "\n",
       "    .dataframe thead th {\n",
       "        text-align: right;\n",
       "    }\n",
       "</style>\n",
       "<table border=\"1\" class=\"dataframe\">\n",
       "  <thead>\n",
       "    <tr style=\"text-align: right;\">\n",
       "      <th></th>\n",
       "      <th>IPG2211A2N</th>\n",
       "    </tr>\n",
       "    <tr>\n",
       "      <th>DATE</th>\n",
       "      <th></th>\n",
       "    </tr>\n",
       "  </thead>\n",
       "  <tbody>\n",
       "    <tr>\n",
       "      <th>2013-10-01</th>\n",
       "      <td>90.237300</td>\n",
       "    </tr>\n",
       "    <tr>\n",
       "      <th>2013-11-01</th>\n",
       "      <td>93.443007</td>\n",
       "    </tr>\n",
       "    <tr>\n",
       "      <th>2013-12-01</th>\n",
       "      <td>108.504182</td>\n",
       "    </tr>\n",
       "    <tr>\n",
       "      <th>2014-01-01</th>\n",
       "      <td>115.955765</td>\n",
       "    </tr>\n",
       "    <tr>\n",
       "      <th>2014-02-01</th>\n",
       "      <td>107.031176</td>\n",
       "    </tr>\n",
       "  </tbody>\n",
       "</table>\n",
       "</div>"
      ],
      "text/plain": [
       "            IPG2211A2N\n",
       "DATE                  \n",
       "2013-10-01   90.237300\n",
       "2013-11-01   93.443007\n",
       "2013-12-01  108.504182\n",
       "2014-01-01  115.955765\n",
       "2014-02-01  107.031176"
      ]
     },
     "execution_count": 17,
     "metadata": {},
     "output_type": "execute_result"
    }
   ],
   "source": [
    "prediction= pd.DataFrame(data.forecast(steps=len(test)),index=test.index,columns=test.columns)\n",
    "prediction.head()"
   ]
  },
  {
   "cell_type": "code",
   "execution_count": null,
   "metadata": {},
   "outputs": [],
   "source": [
    "# for auto arima models save and load method will change slightly "
   ]
  },
  {
   "cell_type": "code",
   "execution_count": 18,
   "metadata": {},
   "outputs": [
    {
     "name": "stdout",
     "output_type": "stream",
     "text": [
      "Performing stepwise search to minimize aic\n",
      "Fit ARIMA(0,1,0)x(0,0,0,0) [intercept=True]; AIC=2356.626, BIC=2364.307, Time=0.095 seconds\n",
      "Fit ARIMA(1,1,0)x(0,0,0,0) [intercept=True]; AIC=2306.489, BIC=2318.011, Time=0.465 seconds\n",
      "Fit ARIMA(0,1,1)x(0,0,0,0) [intercept=True]; AIC=2243.855, BIC=2255.377, Time=0.475 seconds\n",
      "Fit ARIMA(0,1,0)x(0,0,0,0) [intercept=False]; AIC=2354.664, BIC=2358.505, Time=0.084 seconds\n",
      "Fit ARIMA(1,1,1)x(0,0,0,0) [intercept=True]; AIC=2245.211, BIC=2260.574, Time=0.697 seconds\n",
      "Fit ARIMA(0,1,2)x(0,0,0,0) [intercept=True]; AIC=2152.225, BIC=2167.588, Time=0.841 seconds\n",
      "Fit ARIMA(1,1,2)x(0,0,0,0) [intercept=True]; AIC=2125.256, BIC=2144.459, Time=1.634 seconds\n",
      "Fit ARIMA(2,1,2)x(0,0,0,0) [intercept=True]; AIC=1796.671, BIC=1819.714, Time=3.055 seconds\n",
      "Near non-invertible roots for order (2, 1, 2)(0, 0, 0, 0); setting score to inf (at least one inverse root too close to the border of the unit circle: 0.994)\n",
      "Fit ARIMA(1,1,3)x(0,0,0,0) [intercept=True]; AIC=2089.684, BIC=2112.728, Time=1.898 seconds\n",
      "Fit ARIMA(0,1,3)x(0,0,0,0) [intercept=True]; AIC=2089.285, BIC=2108.488, Time=1.359 seconds\n",
      "Total fit time: 10.649 seconds\n"
     ]
    }
   ],
   "source": [
    "model = auto_arima(train,start_p=0, d=1, start_q=0, max_p=3, max_d=2, max_q=3,\n",
    "                           seasonal=False, error_action='warn', trace=True, supress_warning=True,\n",
    "                           stepwise=True, random_state=20, n_fits=50)"
   ]
  },
  {
   "cell_type": "code",
   "execution_count": 19,
   "metadata": {},
   "outputs": [],
   "source": [
    "#Serialize with Pickle\n",
    "import pickle\n",
    "with open('model.pkl', 'wb') as pkl:\n",
    "    pickle.dump(model, pkl)"
   ]
  },
  {
   "cell_type": "code",
   "execution_count": 20,
   "metadata": {},
   "outputs": [],
   "source": [
    "#Now read it back and make a prediction\n",
    "with open('model.pkl', 'rb') as pkl:\n",
    "    pickle_preds = pd.DataFrame(pickle.load(pkl).predict(n_periods=len(test)),index=test.index,columns=test.columns)"
   ]
  },
  {
   "cell_type": "code",
   "execution_count": 21,
   "metadata": {},
   "outputs": [
    {
     "name": "stdout",
     "output_type": "stream",
     "text": [
      "            IPG2211A2N\n",
      "DATE                  \n",
      "2013-10-01   90.974766\n",
      "2013-11-01   95.437030\n",
      "2013-12-01  108.303228\n",
      "2014-01-01  116.804996\n",
      "2014-02-01  112.546504\n"
     ]
    }
   ],
   "source": [
    "print(pickle_preds.head())"
   ]
  },
  {
   "cell_type": "code",
   "execution_count": null,
   "metadata": {},
   "outputs": [],
   "source": []
  }
 ],
 "metadata": {
  "kernelspec": {
   "display_name": "Python 3 (ipykernel)",
   "language": "python",
   "name": "python3"
  },
  "language_info": {
   "codemirror_mode": {
    "name": "ipython",
    "version": 3
   },
   "file_extension": ".py",
   "mimetype": "text/x-python",
   "name": "python",
   "nbconvert_exporter": "python",
   "pygments_lexer": "ipython3",
   "version": "3.8.12"
  }
 },
 "nbformat": 4,
 "nbformat_minor": 2
}
