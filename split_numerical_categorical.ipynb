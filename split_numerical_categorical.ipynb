{
 "cells": [
  {
   "cell_type": "code",
   "execution_count": 1,
   "metadata": {},
   "outputs": [],
   "source": [
    "import os\n",
    "SPARK_HOME=\"/opt/spark\"\n",
    "os.environ[\"PYSPARK_PYTHON\"] = \"python3\"\n",
    "# os.environ[\"PYSPARK_PYTHON\"]=\"python\"\n",
    "os.environ[\"PYSPARK_DRIVER_PYTHON\"]=\"jupyter\"\n",
    "os.environ[\"PYSPARK_DRIVER_PYTHON_OPTS\"]=\"notebook\"\n",
    "os.environ[\"SPARK_HOME\"] = SPARK_HOME\n",
    "os.environ[\"SPARK_CLASSPATH\"] = \"/opt/spark/jars/sqljdbc4.jar\"\n",
    "\n",
    " \n",
    "\n",
    "from pyspark.sql import SparkSession\n",
    "spark = SparkSession \\\n",
    "        .builder \\\n",
    "        .appName(\"new\") \\\n",
    "        .getOrCreate()"
   ]
  },
  {
   "cell_type": "code",
   "execution_count": 2,
   "metadata": {},
   "outputs": [],
   "source": [
    "#from pyspark.sql import SQLContext\n",
    "# sqlContext = SQLContext(spark)\n",
    "from pyspark.sql.functions import *\n",
    "from pyspark.sql.types import *"
   ]
  },
  {
   "cell_type": "code",
   "execution_count": 5,
   "metadata": {},
   "outputs": [
    {
     "name": "stdout",
     "output_type": "stream",
     "text": [
      "root\n",
      " |-- column: string (nullable = true)\n",
      " |-- name: string (nullable = true)\n",
      "\n",
      "+------+----+\n",
      "|column|name|\n",
      "+------+----+\n",
      "|    12| 123|\n",
      "|    14| 132|\n",
      "|   abc|said|\n",
      "|   efg| we3|\n",
      "|     2| sa1|\n",
      "|   qwe| as2|\n",
      "| 12ews|  34|\n",
      "|   aws| saw|\n",
      "|    34|said|\n",
      "|    56|hold|\n",
      "|  said|  12|\n",
      "+------+----+\n",
      "\n"
     ]
    }
   ],
   "source": [
    "df_path = \"/home/rupeshr/Documents/split_Test.csv\"\n",
    "df =spark.read.format(\"com.databricks.spark.csv\")\\\n",
    "                    .option(\"multiline\", \"true\")\\\n",
    "                    .option(\"header\", \"true\")\\\n",
    "                    .option(\"inferSchema\", \"true\")\\\n",
    "                    .option(\"sep\", ',')\\\n",
    "                    .option('escape', '\\\"')\\\n",
    "                    .option(\"allowSingleQuotes\", \"true\")\\\n",
    "                    .option(\"ignoreLeadingWhiteSpace\", \"true\")\\\n",
    "                    .option(\"ignoreTrailingWhiteSpace\", \"true\")\\\n",
    "                    .load(df_path)\n",
    "df.printSchema()\n",
    "df.show()"
   ]
  },
  {
   "cell_type": "code",
   "execution_count": 6,
   "metadata": {},
   "outputs": [
    {
     "name": "stdout",
     "output_type": "stream",
     "text": [
      "+------+----+---------+-----------+\n",
      "|column|name|numerical|categorical|\n",
      "+------+----+---------+-----------+\n",
      "|    12| 123|      123|       null|\n",
      "|    14| 132|      132|       null|\n",
      "|   abc|said|     null|       said|\n",
      "|   efg| we3|     null|        we3|\n",
      "|     2| sa1|     null|        sa1|\n",
      "|   qwe| as2|     null|        as2|\n",
      "| 12ews|  34|       34|       null|\n",
      "|   aws| saw|     null|        saw|\n",
      "|    34|said|     null|       said|\n",
      "|    56|hold|     null|       hold|\n",
      "|  said|  12|       12|       null|\n",
      "+------+----+---------+-----------+\n",
      "\n"
     ]
    }
   ],
   "source": [
    "def is_digit(value):\n",
    "    if value:\n",
    "        return value.isdigit()\n",
    "    else:\n",
    "        return False\n",
    "\n",
    "is_digit_udf = udf(is_digit, BooleanType())\n",
    "\n",
    "df = df.withColumn('numerical', when(is_digit_udf(df['name']), df['name']))\n",
    "df = df.withColumn('categorical', when(~is_digit_udf(df['name']), df['name']))\n",
    "df.show()"
   ]
  },
  {
   "cell_type": "code",
   "execution_count": null,
   "metadata": {},
   "outputs": [],
   "source": []
  }
 ],
 "metadata": {
  "kernelspec": {
   "display_name": "Python [conda env:root] *",
   "language": "python",
   "name": "conda-root-py"
  },
  "language_info": {
   "codemirror_mode": {
    "name": "ipython",
    "version": 3
   },
   "file_extension": ".py",
   "mimetype": "text/x-python",
   "name": "python",
   "nbconvert_exporter": "python",
   "pygments_lexer": "ipython3",
   "version": "3.7.3"
  }
 },
 "nbformat": 4,
 "nbformat_minor": 2
}
