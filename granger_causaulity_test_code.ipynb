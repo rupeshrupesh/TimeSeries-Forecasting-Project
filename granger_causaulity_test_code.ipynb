{
 "cells": [
  {
   "cell_type": "code",
   "execution_count": 1,
   "metadata": {},
   "outputs": [],
   "source": [
    "import pandas as pd\n",
    "import numpy as np\n",
    "import matplotlib.pyplot as plt"
   ]
  },
  {
   "cell_type": "code",
   "execution_count": 31,
   "metadata": {},
   "outputs": [
    {
     "data": {
      "text/plain": [
       "<matplotlib.axes._subplots.AxesSubplot at 0x7fb679a1ea58>"
      ]
     },
     "execution_count": 31,
     "metadata": {},
     "output_type": "execute_result"
    },
    {
     "data": {
      "image/png": "[encoded data removed]",
      "text/plain": [
       "<Figure size 432x288 with 1 Axes>"
      ]
     },
     "metadata": {
      "needs_background": "light"
     },
     "output_type": "display_data"
    }
   ],
   "source": [
    "dataset= pd.read_csv('/home/rupeshr/Desktop/TSA_Python/dataset/Raotl6.csv')\n",
    "dataset.drop('Unnamed: 0', axis=1, inplace=True)\n",
    "dataset.set_index('date',inplace=True)\n",
    "dataset.plot()"
   ]
  },
  {
   "cell_type": "code",
   "execution_count": 32,
   "metadata": {},
   "outputs": [],
   "source": [
    "from statsmodels.tsa.stattools import grangercausalitytests"
   ]
  },
  {
   "cell_type": "code",
   "execution_count": 33,
   "metadata": {},
   "outputs": [],
   "source": [
    "#The granger causaulity test is a statistical hypothesis test for determining whether \n",
    "                                                            # one time series is usefull in forecasting another.\n",
    "#define our hypothesis statement\n",
    "#H0: Xt does not granger causes Yt\n",
    "#H1: Xt granger causes Yt\n",
    "#p value < 0.05 is significant"
   ]
  },
  {
   "cell_type": "code",
   "execution_count": 34,
   "metadata": {},
   "outputs": [],
   "source": [
    "def grangers_causality_matrix(*,data, variables, maxlag, test, verbose=False):\n",
    "\n",
    "    dataset = pd.DataFrame(np.zeros((len(variables), len(variables))), columns=variables, index=variables)\n",
    "\n",
    "    for c in dataset.columns:\n",
    "        for r in dataset.index:\n",
    "            test_result = grangercausalitytests(data[[r,c]], maxlag=maxlag, verbose=False)\n",
    "            p_values = [round(test_result[i+1][0][test][1],4) for i in range(maxlag)]\n",
    "            min_p_value = np.min(p_values)\n",
    "            dataset.loc[r,c] = min_p_value\n",
    "\n",
    "    dataset.columns = [var + '_x' for var in variables]\n",
    "\n",
    "    dataset.index = [var + '_y' for var in variables]\n",
    "\n",
    "    return dataset"
   ]
  },
  {
   "cell_type": "code",
   "execution_count": 35,
   "metadata": {},
   "outputs": [],
   "source": [
    "max_lag=4 #how much lag past i want to go\n",
    "type_test = 'ssr_chi2test' #ssr_ftest\n",
    "output= grangers_causality_matrix(data=dataset, variables = dataset.columns, maxlag=int(max_lag), test=type_test)  "
   ]
  },
  {
   "cell_type": "code",
   "execution_count": 36,
   "metadata": {},
   "outputs": [
    {
     "data": {
      "text/html": [
       "<div>\n",
       "<style scoped>\n",
       "    .dataframe tbody tr th:only-of-type {\n",
       "        vertical-align: middle;\n",
       "    }\n",
       "\n",
       "    .dataframe tbody tr th {\n",
       "        vertical-align: top;\n",
       "    }\n",
       "\n",
       "    .dataframe thead th {\n",
       "        text-align: right;\n",
       "    }\n",
       "</style>\n",
       "<table border=\"1\" class=\"dataframe\">\n",
       "  <thead>\n",
       "    <tr style=\"text-align: right;\">\n",
       "      <th></th>\n",
       "      <th>rgnp_x</th>\n",
       "      <th>pgnp_x</th>\n",
       "      <th>ulc_x</th>\n",
       "      <th>gdfco_x</th>\n",
       "      <th>gdf_x</th>\n",
       "      <th>gdfim_x</th>\n",
       "      <th>gdfcf_x</th>\n",
       "      <th>gdfce_x</th>\n",
       "    </tr>\n",
       "  </thead>\n",
       "  <tbody>\n",
       "    <tr>\n",
       "      <th>rgnp_y</th>\n",
       "      <td>1.0000</td>\n",
       "      <td>0.1110</td>\n",
       "      <td>0.0001</td>\n",
       "      <td>0.0360</td>\n",
       "      <td>0.0093</td>\n",
       "      <td>0.1846</td>\n",
       "      <td>0.0533</td>\n",
       "      <td>0.1575</td>\n",
       "    </tr>\n",
       "    <tr>\n",
       "      <th>pgnp_y</th>\n",
       "      <td>0.0000</td>\n",
       "      <td>1.0000</td>\n",
       "      <td>0.0000</td>\n",
       "      <td>0.0000</td>\n",
       "      <td>0.0000</td>\n",
       "      <td>0.0000</td>\n",
       "      <td>0.0000</td>\n",
       "      <td>0.0000</td>\n",
       "    </tr>\n",
       "    <tr>\n",
       "      <th>ulc_y</th>\n",
       "      <td>0.0000</td>\n",
       "      <td>0.0000</td>\n",
       "      <td>1.0000</td>\n",
       "      <td>0.0002</td>\n",
       "      <td>0.0000</td>\n",
       "      <td>0.0000</td>\n",
       "      <td>0.0000</td>\n",
       "      <td>0.0452</td>\n",
       "    </tr>\n",
       "    <tr>\n",
       "      <th>gdfco_y</th>\n",
       "      <td>0.0000</td>\n",
       "      <td>0.0000</td>\n",
       "      <td>0.0000</td>\n",
       "      <td>1.0000</td>\n",
       "      <td>0.0000</td>\n",
       "      <td>0.0000</td>\n",
       "      <td>0.0000</td>\n",
       "      <td>0.0000</td>\n",
       "    </tr>\n",
       "    <tr>\n",
       "      <th>gdf_y</th>\n",
       "      <td>0.0000</td>\n",
       "      <td>0.0000</td>\n",
       "      <td>0.0000</td>\n",
       "      <td>0.0000</td>\n",
       "      <td>1.0000</td>\n",
       "      <td>0.0000</td>\n",
       "      <td>0.0000</td>\n",
       "      <td>0.0022</td>\n",
       "    </tr>\n",
       "    <tr>\n",
       "      <th>gdfim_y</th>\n",
       "      <td>0.0011</td>\n",
       "      <td>0.0067</td>\n",
       "      <td>0.0014</td>\n",
       "      <td>0.0083</td>\n",
       "      <td>0.0017</td>\n",
       "      <td>1.0000</td>\n",
       "      <td>0.0056</td>\n",
       "      <td>0.0000</td>\n",
       "    </tr>\n",
       "    <tr>\n",
       "      <th>gdfcf_y</th>\n",
       "      <td>0.0000</td>\n",
       "      <td>0.0000</td>\n",
       "      <td>0.0008</td>\n",
       "      <td>0.0008</td>\n",
       "      <td>0.0000</td>\n",
       "      <td>0.0057</td>\n",
       "      <td>1.0000</td>\n",
       "      <td>0.0030</td>\n",
       "    </tr>\n",
       "    <tr>\n",
       "      <th>gdfce_y</th>\n",
       "      <td>0.0261</td>\n",
       "      <td>0.0485</td>\n",
       "      <td>0.0000</td>\n",
       "      <td>0.0002</td>\n",
       "      <td>0.0000</td>\n",
       "      <td>0.0000</td>\n",
       "      <td>0.0005</td>\n",
       "      <td>1.0000</td>\n",
       "    </tr>\n",
       "  </tbody>\n",
       "</table>\n",
       "</div>"
      ],
      "text/plain": [
       "         rgnp_x  pgnp_x   ulc_x  gdfco_x   gdf_x  gdfim_x  gdfcf_x  gdfce_x\n",
       "rgnp_y   1.0000  0.1110  0.0001   0.0360  0.0093   0.1846   0.0533   0.1575\n",
       "pgnp_y   0.0000  1.0000  0.0000   0.0000  0.0000   0.0000   0.0000   0.0000\n",
       "ulc_y    0.0000  0.0000  1.0000   0.0002  0.0000   0.0000   0.0000   0.0452\n",
       "gdfco_y  0.0000  0.0000  0.0000   1.0000  0.0000   0.0000   0.0000   0.0000\n",
       "gdf_y    0.0000  0.0000  0.0000   0.0000  1.0000   0.0000   0.0000   0.0022\n",
       "gdfim_y  0.0011  0.0067  0.0014   0.0083  0.0017   1.0000   0.0056   0.0000\n",
       "gdfcf_y  0.0000  0.0000  0.0008   0.0008  0.0000   0.0057   1.0000   0.0030\n",
       "gdfce_y  0.0261  0.0485  0.0000   0.0002  0.0000   0.0000   0.0005   1.0000"
      ]
     },
     "execution_count": 36,
     "metadata": {},
     "output_type": "execute_result"
    }
   ],
   "source": [
    "output # based on p-values take all relevant features for forecasting"
   ]
  },
  {
   "cell_type": "code",
   "execution_count": null,
   "metadata": {},
   "outputs": [],
   "source": [
    "#for multivariate we dont want more features if we use more we need to do more backtesting for each and every features.\n",
    "            #for that i am checking which are relevant that possibly causes y-variable that feature we going to add it for forecasting."
   ]
  }
 ],
 "metadata": {
  "kernelspec": {
   "display_name": "Python [conda env:root] *",
   "language": "python",
   "name": "conda-root-py"
  },
  "language_info": {
   "codemirror_mode": {
    "name": "ipython",
    "version": 3
   },
   "file_extension": ".py",
   "mimetype": "text/x-python",
   "name": "python",
   "nbconvert_exporter": "python",
   "pygments_lexer": "ipython3",
   "version": "3.7.3"
  }
 },
 "nbformat": 4,
 "nbformat_minor": 2
}
