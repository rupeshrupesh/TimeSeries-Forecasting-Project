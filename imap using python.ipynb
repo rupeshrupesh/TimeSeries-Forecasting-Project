{
 "cells": [
  {
   "cell_type": "code",
   "execution_count": 1,
   "metadata": {},
   "outputs": [],
   "source": [
    "import imaplib\n",
    "import email\n",
    "# sudo pip3 install beautifulsoup4\n",
    "import os"
   ]
  },
  {
   "cell_type": "code",
   "execution_count": 2,
   "metadata": {},
   "outputs": [],
   "source": [
    "from bs4 import BeautifulSoup"
   ]
  },
  {
   "cell_type": "code",
   "execution_count": 40,
   "metadata": {},
   "outputs": [],
   "source": [
    "username = \"harisolverminds@gmail.com\"\n",
    "password = \"qwervbnm2@\""
   ]
  },
  {
   "cell_type": "code",
   "execution_count": 41,
   "metadata": {},
   "outputs": [
    {
     "data": {
      "text/plain": [
       "<imaplib.IMAP4_SSL at 0x7fcb5d6ce4a8>"
      ]
     },
     "execution_count": 41,
     "metadata": {},
     "output_type": "execute_result"
    }
   ],
   "source": [
    "mail = imaplib.IMAP4_SSL(\"imap.gmail.com\",993)\n",
    "mail"
   ]
  },
  {
   "cell_type": "code",
   "execution_count": null,
   "metadata": {},
   "outputs": [],
   "source": []
  },
  {
   "cell_type": "code",
   "execution_count": 42,
   "metadata": {},
   "outputs": [
    {
     "data": {
      "text/plain": [
       "('OK', [b'harisolverminds@gmail.com authenticated (Success)'])"
      ]
     },
     "execution_count": 42,
     "metadata": {},
     "output_type": "execute_result"
    }
   ],
   "source": [
    "x=mail.login(username,password)\n",
    "x"
   ]
  },
  {
   "cell_type": "code",
   "execution_count": 43,
   "metadata": {},
   "outputs": [
    {
     "data": {
      "text/plain": [
       "('OK',\n",
       " [b'(\\\\HasNoChildren) \"/\" \"ERROR\"',\n",
       "  b'(\\\\HasNoChildren) \"/\" \"IDK\"',\n",
       "  b'(\\\\HasNoChildren) \"/\" \"INBOX\"',\n",
       "  b'(\\\\HasNoChildren) \"/\" \"SEKO1\"',\n",
       "  b'(\\\\HasNoChildren) \"/\" \"SEKO2\"',\n",
       "  b'(\\\\HasNoChildren) \"/\" \"SEKO3\"',\n",
       "  b'(\\\\HasNoChildren) \"/\" \"SEKO4\"',\n",
       "  b'(\\\\HasNoChildren) \"/\" \"SEKO5\"',\n",
       "  b'(\\\\HasChildren \\\\Noselect) \"/\" \"[Gmail]\"',\n",
       "  b'(\\\\All \\\\HasNoChildren) \"/\" \"[Gmail]/All Mail\"',\n",
       "  b'(\\\\Drafts \\\\HasNoChildren) \"/\" \"[Gmail]/Drafts\"',\n",
       "  b'(\\\\HasNoChildren \\\\Important) \"/\" \"[Gmail]/Important\"',\n",
       "  b'(\\\\HasNoChildren \\\\Sent) \"/\" \"[Gmail]/Sent Mail\"',\n",
       "  b'(\\\\HasNoChildren \\\\Junk) \"/\" \"[Gmail]/Spam\"',\n",
       "  b'(\\\\Flagged \\\\HasNoChildren) \"/\" \"[Gmail]/Starred\"',\n",
       "  b'(\\\\HasNoChildren \\\\Trash) \"/\" \"[Gmail]/Trash\"'])"
      ]
     },
     "execution_count": 43,
     "metadata": {},
     "output_type": "execute_result"
    }
   ],
   "source": [
    "mail.list()"
   ]
  },
  {
   "cell_type": "code",
   "execution_count": 44,
   "metadata": {},
   "outputs": [
    {
     "data": {
      "text/plain": [
       "('OK', [b'10'])"
      ]
     },
     "execution_count": 44,
     "metadata": {},
     "output_type": "execute_result"
    }
   ],
   "source": [
    "mail.select('Inbox')"
   ]
  },
  {
   "cell_type": "code",
   "execution_count": 45,
   "metadata": {},
   "outputs": [],
   "source": [
    "#mail.create(\"Item1\")"
   ]
  },
  {
   "cell_type": "code",
   "execution_count": 46,
   "metadata": {},
   "outputs": [
    {
     "data": {
      "text/plain": [
       "'OK'"
      ]
     },
     "execution_count": 46,
     "metadata": {},
     "output_type": "execute_result"
    }
   ],
   "source": [
    "result ,data = mail.uid('search',None,\"ALL\")\n",
    "result"
   ]
  },
  {
   "cell_type": "code",
   "execution_count": 47,
   "metadata": {},
   "outputs": [
    {
     "data": {
      "text/plain": [
       "[b'119 127 128 150 151 152 172 176 177 178']"
      ]
     },
     "execution_count": 47,
     "metadata": {},
     "output_type": "execute_result"
    }
   ],
   "source": [
    "data"
   ]
  },
  {
   "cell_type": "code",
   "execution_count": 48,
   "metadata": {},
   "outputs": [
    {
     "data": {
      "text/plain": [
       "[b'119',\n",
       " b'127',\n",
       " b'128',\n",
       " b'150',\n",
       " b'151',\n",
       " b'152',\n",
       " b'172',\n",
       " b'176',\n",
       " b'177',\n",
       " b'178']"
      ]
     },
     "execution_count": 48,
     "metadata": {},
     "output_type": "execute_result"
    }
   ],
   "source": [
    "inbox_item_lists = data[0].split()\n",
    "inbox_item_lists"
   ]
  },
  {
   "cell_type": "code",
   "execution_count": 49,
   "metadata": {},
   "outputs": [],
   "source": [
    "#inbox_item_lists"
   ]
  },
  {
   "cell_type": "code",
   "execution_count": 64,
   "metadata": {},
   "outputs": [
    {
     "data": {
      "text/plain": [
       "b'178'"
      ]
     },
     "execution_count": 64,
     "metadata": {},
     "output_type": "execute_result"
    }
   ],
   "source": [
    "most_recent = inbox_item_lists[-1]\n",
    "most_recent"
   ]
  },
  {
   "cell_type": "code",
   "execution_count": 51,
   "metadata": {},
   "outputs": [
    {
     "data": {
      "text/plain": [
       "b'119'"
      ]
     },
     "execution_count": 51,
     "metadata": {},
     "output_type": "execute_result"
    }
   ],
   "source": [
    "oldest = inbox_item_lists[0]\n",
    "oldest"
   ]
  },
  {
   "cell_type": "code",
   "execution_count": 52,
   "metadata": {},
   "outputs": [],
   "source": [
    "result2,email_data= mail.uid('fetch',most_recent,'(RFC822)')"
   ]
  },
  {
   "cell_type": "code",
   "execution_count": 53,
   "metadata": {},
   "outputs": [
    {
     "data": {
      "text/plain": [
       "<email.message.Message at 0x7fcb4b4f36d8>"
      ]
     },
     "execution_count": 53,
     "metadata": {},
     "output_type": "execute_result"
    }
   ],
   "source": [
    "raw_email = email_data[0][1].decode(\"utf-8\")\n",
    "email_message = email.message_from_string(raw_email)\n",
    "email_message"
   ]
  },
  {
   "cell_type": "code",
   "execution_count": 54,
   "metadata": {},
   "outputs": [
    {
     "data": {
      "text/plain": [
       "['Delivered-To',\n",
       " 'Received',\n",
       " 'X-Google-Smtp-Source',\n",
       " 'X-Received',\n",
       " 'ARC-Seal',\n",
       " 'ARC-Message-Signature',\n",
       " 'ARC-Authentication-Results',\n",
       " 'Return-Path',\n",
       " 'Received',\n",
       " 'Received-SPF',\n",
       " 'Authentication-Results',\n",
       " 'Received',\n",
       " 'X-CMAE-Analysis',\n",
       " 'X-SECURESERVER-ACCT',\n",
       " 'Content-Type',\n",
       " 'MIME-Version',\n",
       " 'Subject',\n",
       " 'From',\n",
       " 'To',\n",
       " 'Date',\n",
       " 'Message-ID',\n",
       " 'X-CMAE-Envelope']"
      ]
     },
     "execution_count": 54,
     "metadata": {},
     "output_type": "execute_result"
    }
   ],
   "source": [
    "email_message.keys()"
   ]
  },
  {
   "cell_type": "code",
   "execution_count": 55,
   "metadata": {},
   "outputs": [
    {
     "data": {
      "text/plain": [
       "'harisolverminds@gmail.com'"
      ]
     },
     "execution_count": 55,
     "metadata": {},
     "output_type": "execute_result"
    }
   ],
   "source": [
    "email_message['To']"
   ]
  },
  {
   "cell_type": "code",
   "execution_count": 56,
   "metadata": {},
   "outputs": [
    {
     "data": {
      "text/plain": [
       "'Registration Success'"
      ]
     },
     "execution_count": 56,
     "metadata": {},
     "output_type": "execute_result"
    }
   ],
   "source": [
    "subject_ = email_message[\"Subject\"]\n",
    "subject_"
   ]
  },
  {
   "cell_type": "code",
   "execution_count": 57,
   "metadata": {},
   "outputs": [
    {
     "data": {
      "text/plain": [
       "'<160019110672.2925.5929579623451946109@61de333ae5b0>'"
      ]
     },
     "execution_count": 57,
     "metadata": {},
     "output_type": "execute_result"
    }
   ],
   "source": [
    "s=email_message\n",
    "email_message['Message-ID']"
   ]
  },
  {
   "cell_type": "code",
   "execution_count": 58,
   "metadata": {},
   "outputs": [
    {
     "data": {
      "text/plain": [
       "'text/plain'"
      ]
     },
     "execution_count": 58,
     "metadata": {},
     "output_type": "execute_result"
    }
   ],
   "source": [
    "s.get_default_type()"
   ]
  },
  {
   "cell_type": "code",
   "execution_count": 59,
   "metadata": {},
   "outputs": [
    {
     "data": {
      "text/plain": [
       "'text/plain'"
      ]
     },
     "execution_count": 59,
     "metadata": {},
     "output_type": "execute_result"
    }
   ],
   "source": [
    "s.get_default_type()"
   ]
  },
  {
   "cell_type": "code",
   "execution_count": 61,
   "metadata": {},
   "outputs": [
    {
     "name": "stdout",
     "output_type": "stream",
     "text": [
      "HTML\n",
      "<HTML><Body>Dear harisvm ,<BR><BR> Your account has been successfully created in EDGE . <BR><BR> <b>Username</b> : harisvm<BR> <b>Password</b> : password <br><br>Regards, <BR>Admin<BR>EDGE<BR></Body></HTML>\n",
      "Dear harisvm , Your account has been successfully created in EDGE .  Username : harisvm Password : password Regards, AdminEDGE\n"
     ]
    }
   ],
   "source": [
    "partlist =[]\n",
    "for i in s.walk():\n",
    "    ct = i.get_content_type()\n",
    "    if \"plain\" in ct:\n",
    "        partlist.append(\"plain\")\n",
    "    if \"html\" in ct :\n",
    "        partlist.append(\"html\")\n",
    "        \n",
    "for i in s.walk():\n",
    "    ct = i.get_content_type()\n",
    "    if \"plain\" not in partlist and \"html\" in ct:\n",
    "        print(\"HTML\")\n",
    "        html = i.get_payload(decode = False)\n",
    "        print(html)\n",
    "        soup = BeautifulSoup(html,\"html.parser\")\n",
    "        message = soup.get_text()\n",
    "        print(message)\n",
    "    elif \"plain\" in partlist and \"plain\" in ct:\n",
    "        print(\"TEXT\")\n",
    "        text = i.get_payload(decode = False)\n",
    "        print(text)"
   ]
  },
  {
   "cell_type": "code",
   "execution_count": null,
   "metadata": {},
   "outputs": [],
   "source": []
  },
  {
   "cell_type": "code",
   "execution_count": null,
   "metadata": {},
   "outputs": [],
   "source": [
    "print(text)"
   ]
  },
  {
   "cell_type": "code",
   "execution_count": null,
   "metadata": {},
   "outputs": [],
   "source": [
    "def textreplace(text):\n",
    "    text = text.replace(\"=\\r\\n\",\"\").replace(\"=\\r\",\"\").replace(\"\\r\\n\",\" \").replace(\"\\r\",\"\").replace(\"\\n\\n\",\" \").replace(\"\\n\",\" \").replace(\"   \",\" \").replace(\"  \",\" \").strip()\n",
    "    return text\n",
    "textnew = textreplace(text)\n",
    "textnew"
   ]
  },
  {
   "cell_type": "code",
   "execution_count": null,
   "metadata": {},
   "outputs": [],
   "source": [
    "text"
   ]
  },
  {
   "cell_type": "code",
   "execution_count": null,
   "metadata": {},
   "outputs": [],
   "source": [
    "text.replace(\"=\\r\\n\",\"\").replace(\"=\\r\",\"\").replace(\"\\r\\n\",\" \").replace(\"\\r\",\"\").replace(\"\\n\\n\",\" \").replace(\"\\n\",\" \").replace(\"   \",\" \").replace(\"  \",\" \")"
   ]
  },
  {
   "cell_type": "code",
   "execution_count": null,
   "metadata": {},
   "outputs": [],
   "source": [
    "message"
   ]
  },
  {
   "cell_type": "code",
   "execution_count": null,
   "metadata": {},
   "outputs": [],
   "source": [
    "message.replace(\"=\\r\\n\",\"\").replace(\"=\\r\",\"\").replace(\"\\r\\n\",\" \").replace(\"\\r\",\"\").replace(\"\\n\\n\",\" \").replace(\"\\n\",\" \").replace(\"   \",\" \").replace(\"  \",\" \")"
   ]
  },
  {
   "cell_type": "code",
   "execution_count": null,
   "metadata": {},
   "outputs": [],
   "source": [
    "oldest"
   ]
  },
  {
   "cell_type": "code",
   "execution_count": null,
   "metadata": {},
   "outputs": [],
   "source": [
    "print(dir(email_message))"
   ]
  },
  {
   "cell_type": "code",
   "execution_count": null,
   "metadata": {},
   "outputs": [],
   "source": [
    "counter = 1\n",
    "messagelist = []\n",
    "for part in email_message.walk():\n",
    "    if part.get_content_maintype() == \"multipart\":\n",
    "        continue\n",
    "    filename = part.get_filename()\n",
    "    if not filename:\n",
    "        ext = \"html\"\n",
    "        filename = 'msg-part-%08d%s' %(counter,ext)\n",
    "    counter += 1\n",
    "    content_type = part.get_content_type()\n",
    "    #print(subject_)\n",
    "    print(content_type)\n",
    "if \"plain\" in content_type:\n",
    "    #print(part.get_payload())\n",
    "    message = part.get_payload()\n",
    "    messagelist.append({\"From\":email_message[\"From\"],\"To\":email_message[\"From\"],\"Subject\":email_message[\"Subject\"],\"Message\":str(message)})\n",
    "elif \"html\" in content_type:\n",
    "    #print(\"perform beautifull soup\")\n",
    "    html_ = part.get_payload()\n",
    "    print(html_)\n",
    "    soup = BeautifulSoup(html_,\"html.parser\")\n",
    "    message = soup.get_text()\n",
    "    #print(message)\n",
    "    messagelist.append({\"From\":email_message[\"From\"],\"To\":email_message[\"From\"],\"Subject\":email_message[\"Subject\"],\"Message\":str(message)})\n",
    "else:\n",
    "    print(content_type)\n",
    "   # messagelist.append({\"From\":email_message[\"From\"],\"To\":email_message[\"From\"],\"Subject\":email_message[\"Subject\"],\"Message\":str(message)})"
   ]
  },
  {
   "cell_type": "code",
   "execution_count": null,
   "metadata": {},
   "outputs": [],
   "source": [
    "messagelist"
   ]
  },
  {
   "cell_type": "code",
   "execution_count": null,
   "metadata": {},
   "outputs": [],
   "source": []
  }
 ],
 "metadata": {
  "kernelspec": {
   "display_name": "Python 3",
   "language": "python",
   "name": "python3"
  },
  "language_info": {
   "codemirror_mode": {
    "name": "ipython",
    "version": 3
   },
   "file_extension": ".py",
   "mimetype": "text/x-python",
   "name": "python",
   "nbconvert_exporter": "python",
   "pygments_lexer": "ipython3",
   "version": "3.6.9"
  }
 },
 "nbformat": 4,
 "nbformat_minor": 2
}
