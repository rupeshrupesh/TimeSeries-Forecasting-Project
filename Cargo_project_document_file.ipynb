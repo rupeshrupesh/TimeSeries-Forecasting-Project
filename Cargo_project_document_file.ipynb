{
 "cells": [
  {
   "cell_type": "code",
   "execution_count": 1,
   "metadata": {},
   "outputs": [],
   "source": [
    "import pandas as pd\n",
    "import warnings\n",
    "from pandas import read_csv\n",
    "\n",
    "from statsmodels.tsa.arima_model import ARIMA\n",
    "from sklearn.metrics import mean_squared_error\n",
    "\n",
    "\n",
    "from datetime import datetime as dat, timedelta\n",
    "from pandas import datetime\n",
    "from dateutil.relativedelta import relativedelta"
   ]
  },
  {
   "cell_type": "code",
   "execution_count": null,
   "metadata": {},
   "outputs": [],
   "source": [
    "import pymssql\n",
    "conn = pymssql.connect(server='192.168.10.89',port='62775',database='CARGOOPS',user='SVMRead',password='$vM@Kan00Dev')\n",
    "cursor = conn.cursor()\n",
    "cursor.execute('SELECT * FROM operationdetail')\n",
    "row = cursor.fetchall()\n",
    "df=pd.DataFrame(row)\n",
    "df.columns=['servicecode','vesselcode','voyage','bound','cargotype','oprtype','containerstatus','soc','status','mode','opspol','opspod','originPort','deliveryPort','equipmenttype','twenty','forty','actdate','year','week']\n",
    "df.head()"
   ]
  },
  {
   "cell_type": "code",
   "execution_count": 3,
   "metadata": {},
   "outputs": [
    {
     "name": "stderr",
     "output_type": "stream",
     "text": [
      "/home/rupeshr/.local/lib/python3.6/site-packages/ipykernel_launcher.py:2: FutureWarning: Indexing with multiple keys (implicitly converted to a tuple of keys) will be deprecated, use a list instead.\n",
      "  \n"
     ]
    }
   ],
   "source": [
    "df['portPair'] =df['originPort']+\"-\"+df['deliveryPort']\n"
   ]
  },
  {
   "cell_type": "code",
   "execution_count": 11,
   "metadata": {},
   "outputs": [
    {
     "name": "stderr",
     "output_type": "stream",
     "text": [
      "/home/rupeshr/.local/lib/python3.6/site-packages/ipykernel_launcher.py:1: FutureWarning: Indexing with multiple keys (implicitly converted to a tuple of keys) will be deprecated, use a list instead.\n",
      "  \"\"\"Entry point for launching an IPython kernel.\n"
     ]
    }
   ],
   "source": [
    "df1=df.groupby(['actdate','servicecode','vesselcode','portPair'])['twenty','forty'].sum()\n",
    "df1.reset_index(level=[0,1,2,3],inplace=True)\n"
   ]
  },
  {
   "cell_type": "code",
   "execution_count": 12,
   "metadata": {},
   "outputs": [
    {
     "data": {
      "text/html": [
       "<div>\n",
       "<style scoped>\n",
       "    .dataframe tbody tr th:only-of-type {\n",
       "        vertical-align: middle;\n",
       "    }\n",
       "\n",
       "    .dataframe tbody tr th {\n",
       "        vertical-align: top;\n",
       "    }\n",
       "\n",
       "    .dataframe thead th {\n",
       "        text-align: right;\n",
       "    }\n",
       "</style>\n",
       "<table border=\"1\" class=\"dataframe\">\n",
       "  <thead>\n",
       "    <tr style=\"text-align: right;\">\n",
       "      <th></th>\n",
       "      <th>actdate</th>\n",
       "      <th>servicecode</th>\n",
       "      <th>vesselcode</th>\n",
       "      <th>portPair</th>\n",
       "      <th>twenty</th>\n",
       "      <th>forty</th>\n",
       "    </tr>\n",
       "  </thead>\n",
       "  <tbody>\n",
       "    <tr>\n",
       "      <th>0</th>\n",
       "      <td>2016-01-01 04:00:00</td>\n",
       "      <td>EAKX</td>\n",
       "      <td>NHT</td>\n",
       "      <td>CNTAO-KEMBA</td>\n",
       "      <td>8</td>\n",
       "      <td>0</td>\n",
       "    </tr>\n",
       "    <tr>\n",
       "      <th>1</th>\n",
       "      <td>2016-01-01 04:00:00</td>\n",
       "      <td>EAKX</td>\n",
       "      <td>NHT</td>\n",
       "      <td>CNXNG-KEMBA</td>\n",
       "      <td>10</td>\n",
       "      <td>1</td>\n",
       "    </tr>\n",
       "    <tr>\n",
       "      <th>2</th>\n",
       "      <td>2016-01-01 04:00:00</td>\n",
       "      <td>EAKX</td>\n",
       "      <td>NHT</td>\n",
       "      <td>CNXNG-UGKLA</td>\n",
       "      <td>1</td>\n",
       "      <td>1</td>\n",
       "    </tr>\n",
       "    <tr>\n",
       "      <th>3</th>\n",
       "      <td>2016-01-01 04:00:00</td>\n",
       "      <td>EAKX</td>\n",
       "      <td>NHT</td>\n",
       "      <td>IDJKT-KEMBA</td>\n",
       "      <td>2</td>\n",
       "      <td>0</td>\n",
       "    </tr>\n",
       "    <tr>\n",
       "      <th>4</th>\n",
       "      <td>2016-01-01 04:00:00</td>\n",
       "      <td>EAKX</td>\n",
       "      <td>NHT</td>\n",
       "      <td>MYPKG-AEJEA</td>\n",
       "      <td>1</td>\n",
       "      <td>14</td>\n",
       "    </tr>\n",
       "  </tbody>\n",
       "</table>\n",
       "</div>"
      ],
      "text/plain": [
       "              actdate servicecode vesselcode     portPair  twenty  forty\n",
       "0 2016-01-01 04:00:00        EAKX        NHT  CNTAO-KEMBA       8      0\n",
       "1 2016-01-01 04:00:00        EAKX        NHT  CNXNG-KEMBA      10      1\n",
       "2 2016-01-01 04:00:00        EAKX        NHT  CNXNG-UGKLA       1      1\n",
       "3 2016-01-01 04:00:00        EAKX        NHT  IDJKT-KEMBA       2      0\n",
       "4 2016-01-01 04:00:00        EAKX        NHT  MYPKG-AEJEA       1     14"
      ]
     },
     "execution_count": 12,
     "metadata": {},
     "output_type": "execute_result"
    }
   ],
   "source": [
    "df1.head()"
   ]
  },
  {
   "cell_type": "code",
   "execution_count": 13,
   "metadata": {},
   "outputs": [],
   "source": [
    "var=df1['portPair'].value_counts()\n",
    "var1=var.head(10)#var[(var >50)]\n",
    "var1=pd.DataFrame(var1)\n",
    "var1.reset_index(level=0,inplace=True)\n",
    "var1.columns=['portPair','count']"
   ]
  },
  {
   "cell_type": "code",
   "execution_count": null,
   "metadata": {},
   "outputs": [],
   "source": [
    "portdate=df1[(df1.portPair=='AEJEA-KEMBA')]\n",
    "portdate.drop(['servicecode','vesselcode','portPair','forty'],axis=1,inplace=True)\n",
    "portdate['actdate']=pd.to_datetime(portdate['actdate'])\n",
    "forecast=portdate.set_index('actdate')\n",
    "forecast['twenty'].replace(0,forecast['twenty'].median(),inplace=True)\n",
    "forecast.head()\n",
    "from statsmodels.tsa.seasonal import seasonal_decompose \n",
    "result = seasonal_decompose(forecast['twenty'].values,freq=30)   \n",
    "result.plot()"
   ]
  },
  {
   "cell_type": "code",
   "execution_count": 22,
   "metadata": {},
   "outputs": [
    {
     "name": "stdout",
     "output_type": "stream",
     "text": [
      "                    servicecode vesselcode     portPair  twenty  forty\n",
      "actdate                                                               \n",
      "2016-01-01 19:00:00        EGMX        CLA  AEJEA-KEMBA      38      1\n",
      "2016-01-01 19:10:00        EGMX        CLA  AEJEA-KEMBA      44     36\n",
      "2016-01-10 17:15:00        EGMX        EJD  AEJEA-KEMBA      96     49\n",
      "2016-01-16 20:55:00        EGMX        EMR  AEJEA-KEMBA       5     11\n",
      "2016-01-16 21:00:00        EGMX        EMR  AEJEA-KEMBA      66     48\n",
      "sucessfully\n",
      "3.0642871660857627\n",
      "-------------------------------------------------\n"
     ]
    },
    {
     "data": {
      "image/png": "[encoded data removed]",
      "text/plain": [
       "<Figure size 432x288 with 1 Axes>"
      ]
     },
     "metadata": {
      "needs_background": "light"
     },
     "output_type": "display_data"
    }
   ],
   "source": [
    "\n",
    "#for i in var1['portPair']:\n",
    "    portdata=df1[(df1.portPair=='AEJEA-KEMBA')]\n",
    "    #portdata.drop(['year','week','forty','portPair'],axis=1, inplace=True)\n",
    "    forecastdate=portdata.set_index('actdate')\n",
    "    \n",
    "    forecastdate['twenty'].replace(0,forecastdate['twenty'].median(),inplace=True)\n",
    "    plt.plot(forecastdate.twenty)\n",
    "    \n",
    "    print(forecastdate.head())\n",
    "    warnings.filterwarnings(\"ignore\")\n",
    "\n",
    "    data=evaluate_Expo_model(forecastdate['twenty'].values)\n",
    "    print(data)\n",
    "\n",
    "    print(\"-------------------------------------------------\")"
   ]
  },
  {
   "cell_type": "code",
   "execution_count": 20,
   "metadata": {},
   "outputs": [],
   "source": [
    "import matplotlib.pyplot as plt\n",
    "from statsmodels.tsa.api import ExponentialSmoothing, SimpleExpSmoothing, Holt\n",
    "from math import sqrt\n",
    "def evaluate_Expo_model(X):\n",
    "    X=X.astype('float64')\n",
    "    # prepare training dataset\n",
    "    train_size = int(len(X) * 0.80)\n",
    "    train, test = X[0:train_size], X[train_size:]\n",
    "    history = [x for x in train]\n",
    "    # make predictions\n",
    "    predictions = list() \n",
    "    for t in range(len(test)):\n",
    "        model = ExponentialSmoothing(history, seasonal='add', seasonal_periods=7)\n",
    "        model_fit = model.fit()\n",
    "        yhat = model_fit.forecast()[0]\n",
    "        predictions.append(yhat)\n",
    "        history.append(test[t])\n",
    "    print(\"sucessfully\")\n",
    "    # calculate out of sample error\n",
    "    error = sqrt(mean_squared_error(test, predictions))\n",
    "\n",
    "    return error"
   ]
  },
  {
   "cell_type": "code",
   "execution_count": null,
   "metadata": {},
   "outputs": [],
   "source": []
  }
 ],
 "metadata": {
  "kernelspec": {
   "display_name": "Python 3",
   "language": "python",
   "name": "python3"
  },
  "language_info": {
   "codemirror_mode": {
    "name": "ipython",
    "version": 3
   },
   "file_extension": ".py",
   "mimetype": "text/x-python",
   "name": "python",
   "nbconvert_exporter": "python",
   "pygments_lexer": "ipython3",
   "version": "3.6.9"
  }
 },
 "nbformat": 4,
 "nbformat_minor": 2
}
