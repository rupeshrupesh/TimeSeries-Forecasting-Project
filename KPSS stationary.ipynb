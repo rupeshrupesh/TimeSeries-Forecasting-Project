{
 "cells": [
  {
   "cell_type": "code",
   "execution_count": 41,
   "metadata": {},
   "outputs": [],
   "source": [
    "import pandas as pd\n",
    "import numpy as np\n",
    "import matplotlib.pyplot as plt\n",
    "path = '/home/rupeshr/Desktop/TSA_Python/dataset/time series dataset/Electric_Production1.csv'\n",
    "df = pd.read_csv(path, parse_dates=['DATE'], index_col='DATE')"
   ]
  },
  {
   "cell_type": "code",
   "execution_count": 42,
   "metadata": {},
   "outputs": [
    {
     "data": {
      "text/html": [
       "<div>\n",
       "<style scoped>\n",
       "    .dataframe tbody tr th:only-of-type {\n",
       "        vertical-align: middle;\n",
       "    }\n",
       "\n",
       "    .dataframe tbody tr th {\n",
       "        vertical-align: top;\n",
       "    }\n",
       "\n",
       "    .dataframe thead th {\n",
       "        text-align: right;\n",
       "    }\n",
       "</style>\n",
       "<table border=\"1\" class=\"dataframe\">\n",
       "  <thead>\n",
       "    <tr style=\"text-align: right;\">\n",
       "      <th></th>\n",
       "      <th>Unnamed: 0</th>\n",
       "      <th>IPG2211A2N</th>\n",
       "    </tr>\n",
       "    <tr>\n",
       "      <th>DATE</th>\n",
       "      <th></th>\n",
       "      <th></th>\n",
       "    </tr>\n",
       "  </thead>\n",
       "  <tbody>\n",
       "    <tr>\n",
       "      <th>1985-01-01</th>\n",
       "      <td>0</td>\n",
       "      <td>72.5052</td>\n",
       "    </tr>\n",
       "    <tr>\n",
       "      <th>1985-02-01</th>\n",
       "      <td>1</td>\n",
       "      <td>70.6720</td>\n",
       "    </tr>\n",
       "    <tr>\n",
       "      <th>1985-03-01</th>\n",
       "      <td>2</td>\n",
       "      <td>62.4502</td>\n",
       "    </tr>\n",
       "    <tr>\n",
       "      <th>1985-04-01</th>\n",
       "      <td>3</td>\n",
       "      <td>57.4714</td>\n",
       "    </tr>\n",
       "    <tr>\n",
       "      <th>1985-05-01</th>\n",
       "      <td>4</td>\n",
       "      <td>55.3151</td>\n",
       "    </tr>\n",
       "  </tbody>\n",
       "</table>\n",
       "</div>"
      ],
      "text/plain": [
       "            Unnamed: 0  IPG2211A2N\n",
       "DATE                              \n",
       "1985-01-01           0     72.5052\n",
       "1985-02-01           1     70.6720\n",
       "1985-03-01           2     62.4502\n",
       "1985-04-01           3     57.4714\n",
       "1985-05-01           4     55.3151"
      ]
     },
     "execution_count": 42,
     "metadata": {},
     "output_type": "execute_result"
    }
   ],
   "source": [
    "df.head()"
   ]
  },
  {
   "cell_type": "code",
   "execution_count": 43,
   "metadata": {},
   "outputs": [],
   "source": [
    "df.drop('Unnamed: 0', axis=1, inplace=True)"
   ]
  },
  {
   "cell_type": "code",
   "execution_count": 44,
   "metadata": {},
   "outputs": [
    {
     "data": {
      "text/html": [
       "<div>\n",
       "<style scoped>\n",
       "    .dataframe tbody tr th:only-of-type {\n",
       "        vertical-align: middle;\n",
       "    }\n",
       "\n",
       "    .dataframe tbody tr th {\n",
       "        vertical-align: top;\n",
       "    }\n",
       "\n",
       "    .dataframe thead th {\n",
       "        text-align: right;\n",
       "    }\n",
       "</style>\n",
       "<table border=\"1\" class=\"dataframe\">\n",
       "  <thead>\n",
       "    <tr style=\"text-align: right;\">\n",
       "      <th></th>\n",
       "      <th>IPG2211A2N</th>\n",
       "    </tr>\n",
       "    <tr>\n",
       "      <th>DATE</th>\n",
       "      <th></th>\n",
       "    </tr>\n",
       "  </thead>\n",
       "  <tbody>\n",
       "    <tr>\n",
       "      <th>1985-01-01</th>\n",
       "      <td>72.5052</td>\n",
       "    </tr>\n",
       "    <tr>\n",
       "      <th>1985-02-01</th>\n",
       "      <td>70.6720</td>\n",
       "    </tr>\n",
       "    <tr>\n",
       "      <th>1985-03-01</th>\n",
       "      <td>62.4502</td>\n",
       "    </tr>\n",
       "    <tr>\n",
       "      <th>1985-04-01</th>\n",
       "      <td>57.4714</td>\n",
       "    </tr>\n",
       "    <tr>\n",
       "      <th>1985-05-01</th>\n",
       "      <td>55.3151</td>\n",
       "    </tr>\n",
       "  </tbody>\n",
       "</table>\n",
       "</div>"
      ],
      "text/plain": [
       "            IPG2211A2N\n",
       "DATE                  \n",
       "1985-01-01     72.5052\n",
       "1985-02-01     70.6720\n",
       "1985-03-01     62.4502\n",
       "1985-04-01     57.4714\n",
       "1985-05-01     55.3151"
      ]
     },
     "execution_count": 44,
     "metadata": {},
     "output_type": "execute_result"
    }
   ],
   "source": [
    "df.head()"
   ]
  },
  {
   "cell_type": "code",
   "execution_count": 45,
   "metadata": {},
   "outputs": [
    {
     "name": "stdout",
     "output_type": "stream",
     "text": [
      "KPSS Statistic: 2.206192329752073\n",
      "p-value: 0.01\n",
      "num lags: 17\n",
      "Critial Values:\n",
      "   10% : 0.347\n",
      "   5% : 0.463\n",
      "   2.5% : 0.574\n",
      "   1% : 0.739\n",
      "Result: The series is not stationary\n"
     ]
    },
    {
     "name": "stderr",
     "output_type": "stream",
     "text": [
      "/home/rupeshr/anaconda3/lib/python3.7/site-packages/statsmodels/tsa/stattools.py:1875: FutureWarning: The behavior of using nlags=None will change in release 0.13.Currently nlags=None is the same as nlags=\"legacy\", and so a sample-size lag length is used. After the next release, the default will change to be the same as nlags=\"auto\" which uses an automatic lag length selection method. To silence this warning, either use \"auto\" or \"legacy\"\n",
      "  warnings.warn(msg, FutureWarning)\n",
      "/home/rupeshr/anaconda3/lib/python3.7/site-packages/statsmodels/tsa/stattools.py:1907: InterpolationWarning: The test statistic is outside of the range of p-values available in the\n",
      "look-up table. The actual p-value is smaller than the p-value returned.\n",
      "\n",
      "  warn_msg.format(direction=\"smaller\"), InterpolationWarning\n"
     ]
    }
   ],
   "source": [
    "from statsmodels.tsa.stattools import adfuller, kpss\n",
    "def kpss_test(series, **kw):    \n",
    "    statistic, p_value, n_lags, critical_values = kpss(series, **kw)\n",
    "    # Format Output\n",
    "    print(f'KPSS Statistic: {statistic}')\n",
    "    print(f'p-value: {p_value}')\n",
    "    print(f'num lags: {n_lags}')\n",
    "    print('Critial Values:')\n",
    "    for key, value in critical_values.items():\n",
    "        print(f'   {key} : {value}')\n",
    "    print(f'Result: The series is {\"not \" if p_value < 0.05 else \"\"}stationary')\n",
    "    return critical_values\n",
    "\n",
    "critical_values=kpss_test(df['IPG2211A2N'])"
   ]
  },
  {
   "cell_type": "code",
   "execution_count": 17,
   "metadata": {},
   "outputs": [],
   "source": [
    "for x in critical_values:\n",
    "    critical_values[x] = round(critical_values[x], 3)"
   ]
  },
  {
   "cell_type": "code",
   "execution_count": 21,
   "metadata": {},
   "outputs": [
    {
     "data": {
      "text/plain": [
       "{'10%': 0.347, '5%': 0.463, '2.5%': 0.574, '10_pct': 0.739}"
      ]
     },
     "execution_count": 21,
     "metadata": {},
     "output_type": "execute_result"
    }
   ],
   "source": [
    "critical_values"
   ]
  },
  {
   "cell_type": "code",
   "execution_count": 33,
   "metadata": {},
   "outputs": [
    {
     "data": {
      "text/plain": [
       "{'10%': 0.347, '5%': 0.463, '2.5%': 0.574, '1%': 0.739}"
      ]
     },
     "execution_count": 33,
     "metadata": {},
     "output_type": "execute_result"
    }
   ],
   "source": [
    "critical_values"
   ]
  },
  {
   "cell_type": "code",
   "execution_count": null,
   "metadata": {},
   "outputs": [],
   "source": []
  },
  {
   "cell_type": "code",
   "execution_count": null,
   "metadata": {},
   "outputs": [],
   "source": [
    "critical_values['10_pct'] = critical_values.pop(\"1%\")"
   ]
  },
  {
   "cell_type": "code",
   "execution_count": 34,
   "metadata": {},
   "outputs": [],
   "source": [
    "\n",
    "for x in critical_values:\n",
    "    critical_values[x] = round(critical_values[x], 3)\n",
    "\n",
    "critical_values['1_pct'] = critical_values.pop(\"1%\")\n",
    "#critical_values['2.5_pct'] = critical_values.pop(\"2.5%\")\n",
    "critical_values['5_pct'] = critical_values.pop(\"5%\")\n",
    "critical_values['10_pct'] = critical_values.pop(\"10%\")"
   ]
  },
  {
   "cell_type": "code",
   "execution_count": 37,
   "metadata": {},
   "outputs": [
    {
     "data": {
      "text/plain": [
       "0.574"
      ]
     },
     "execution_count": 37,
     "metadata": {},
     "output_type": "execute_result"
    }
   ],
   "source": [
    "critical_values.pop(\"2.5%\")"
   ]
  },
  {
   "cell_type": "code",
   "execution_count": 39,
   "metadata": {},
   "outputs": [
    {
     "data": {
      "text/plain": [
       "{'1_pct': 0.739, '5_pct': 0.463, '10_pct': 0.347}"
      ]
     },
     "execution_count": 39,
     "metadata": {},
     "output_type": "execute_result"
    }
   ],
   "source": [
    "critical_values"
   ]
  },
  {
   "cell_type": "code",
   "execution_count": 46,
   "metadata": {},
   "outputs": [
    {
     "name": "stdout",
     "output_type": "stream",
     "text": [
      "No.Of.Differencing Required:1\n"
     ]
    },
    {
     "name": "stderr",
     "output_type": "stream",
     "text": [
      "/home/rupeshr/anaconda3/lib/python3.7/site-packages/statsmodels/tsa/stattools.py:1875: FutureWarning: The behavior of using nlags=None will change in release 0.13.Currently nlags=None is the same as nlags=\"legacy\", and so a sample-size lag length is used. After the next release, the default will change to be the same as nlags=\"auto\" which uses an automatic lag length selection method. To silence this warning, either use \"auto\" or \"legacy\"\n",
      "  warnings.warn(msg, FutureWarning)\n",
      "/home/rupeshr/anaconda3/lib/python3.7/site-packages/statsmodels/tsa/stattools.py:1911: InterpolationWarning: The test statistic is outside of the range of p-values available in the\n",
      "look-up table. The actual p-value is greater than the p-value returned.\n",
      "\n",
      "  warn_msg.format(direction=\"greater\"), InterpolationWarning\n"
     ]
    }
   ],
   "source": [
    "import matplotlib.dates as mdates\n",
    "plt.style.use('Solarize_Light2')\n",
    "from statsmodels.tsa.vector_ar.vecm import coint_johansen\n",
    "def check_stationary(df,targetparameter,check_stationary_type, differencing):\n",
    "    if check_stationary_type == 'Rolling_statistics':\n",
    "        if differencing == 'no':\n",
    "            w = int(input('Enter Windowing Number:'))\n",
    "            df['rolling_mean'] = df[targetparameter].rolling(window=w).mean( )\n",
    "            df['rolling_std'] = df[targetparameter].rolling(window=w).std( )\n",
    "            return df.index ,df\n",
    "        elif differencing == 'yes':\n",
    "            w = int(input(' Enter Windowing Number:'))\n",
    "            s = int(input(' No.Of.Differencing Required:'))\n",
    "            df1 = df - df.shift(s)\n",
    "            df1['rolling_mean'] = df1[targetparameter].rolling(window=w).mean( )\n",
    "            df1['rolling_std'] = df1[targetparameter].rolling(window=w).std( )\n",
    "            return df1.index, df1\n",
    "\n",
    "    elif check_stationary_type == 'ADFTest':\n",
    "        if differencing == 'no':\n",
    "            dftest = adfuller(df[targetparameter], autolag='AIC')\n",
    "            print(dftest)\n",
    "            Test_stats = dftest[0]\n",
    "            P_value = dftest[1]\n",
    "            C_value = dftest[4]\n",
    "            test = pd.DataFrame([Test_stats, P_value, C_value], columns=[check_stationary_type])\n",
    "            return df,test\n",
    "\n",
    "        elif differencing == 'yes':\n",
    "            s = int(input('No.Of.Differencing Required:'))\n",
    "            df1 = df[targetparameter] - df[targetparameter].shift(s)\n",
    "            dftest = adfuller(df1.dropna( ), autolag='AIC')\n",
    "            Test_stats = dftest[0]\n",
    "            P_value = dftest[1]\n",
    "            C_value = dftest[4]\n",
    "            test = pd.DataFrame([Test_stats, P_value, C_value], columns=[check_stationary_type])\n",
    "            return df1,test\n",
    "    \n",
    "    elif check_stationary_type == 'KPSS': #for this test P value > 0.05 is significant ...just opposite of ADFTest\n",
    "        if differencing == 'no':\n",
    "            dftest = kpss(df[targetparameter])\n",
    "            print(dftest)\n",
    "            Test_stats = dftest[0]\n",
    "            P_value = dftest[1]\n",
    "            C_value = dftest[3]\n",
    "            test = pd.DataFrame([Test_stats, P_value, C_value], columns=[check_stationary_type])\n",
    "            return df,test\n",
    "        \n",
    "        elif differencing == 'yes':\n",
    "            s = int(input('No.Of.Differencing Required:'))\n",
    "            df1 = df[targetparameter] - df[targetparameter].shift(s)\n",
    "            dftest = kpss(df1.dropna())\n",
    "            Test_stats = dftest[0]\n",
    "            P_value = dftest[1]\n",
    "            C_value = dftest[3]\n",
    "            test = pd.DataFrame([Test_stats, P_value, C_value], columns=[check_stationary_type])\n",
    "            return df1,test\n",
    "                \n",
    "    elif check_stationary_type =='JohansenTest':\n",
    "        if differencing =='no':\n",
    "            det_order=int(input('Enter Det_order:')) # must be in -1 to 1 --> (-1,0,1)\n",
    "            #k_ar_diff =int(input('Enter Number of lagged differences in the model:')) # --> lag values\n",
    "            data=df[targetparameter]\n",
    "            joh_model = coint_johansen(data,det_order,0)\n",
    "            trace_stats = pd.DataFrame([joh_model.lr1],index=[\"trace_stat\"])\n",
    "            trace_stats=trace_stats.T\n",
    "            cvt=pd.DataFrame(joh_model.cvt,columns=['conf_interval_90%','conf_interval_95%','conf_interval_99%'])\n",
    "            return trace_stats,cvt\n",
    "        elif differencing =='yes':\n",
    "            det_order=int(input('Enter Det_order:')) # must be in -1 to 1 --> (-1,0,1)\n",
    "            k_ar_diff =int(input('Enter Number of lagged differences in the model:')) # --> lag values\n",
    "            data=df[targetparameter]\n",
    "            joh_model = coint_johansen(data,det_order,k_ar_diff)\n",
    "            trace_stats = pd.DataFrame([joh_model.lr1],index=[\"trace_stat\"])\n",
    "            trace_stats=trace_stats.T\n",
    "            cvt=pd.DataFrame(joh_model.cvt,columns=['conf_interval_90%','conf_interval_95%','conf_interval_99%'])\n",
    "            return trace_stats,cvt\n",
    "targetparameter='IPG2211A2N'\n",
    "check_stationary_type='KPSS' # Rolling_statistics(use windowing) or ADFTest\n",
    "differencing='yes' # yes or no\n",
    "df1,output=check_stationary(df,targetparameter,check_stationary_type,differencing)"
   ]
  },
  {
   "cell_type": "code",
   "execution_count": 47,
   "metadata": {},
   "outputs": [
    {
     "name": "stdout",
     "output_type": "stream",
     "text": [
      "DATE\n",
      "1985-01-01        NaN\n",
      "1985-02-01    -1.8332\n",
      "1985-03-01    -8.2218\n",
      "1985-04-01    -4.9788\n",
      "1985-05-01    -2.1563\n",
      "               ...   \n",
      "2017-09-01   -10.3158\n",
      "2017-10-01    -5.0017\n",
      "2017-11-01     3.7222\n",
      "2017-12-01    17.3853\n",
      "2018-01-01    14.6836\n",
      "Name: IPG2211A2N, Length: 397, dtype: float64                                                 KPSS\n",
      "0                                           0.145907\n",
      "1                                                0.1\n",
      "2  {'10%': 0.347, '5%': 0.463, '2.5%': 0.574, '1%...\n"
     ]
    }
   ],
   "source": [
    "print(df1 , output)"
   ]
  },
  {
   "cell_type": "code",
   "execution_count": 49,
   "metadata": {},
   "outputs": [
    {
     "data": {
      "text/plain": [
       "0.1"
      ]
     },
     "execution_count": 49,
     "metadata": {},
     "output_type": "execute_result"
    }
   ],
   "source": [
    "round(0.1, 3)"
   ]
  },
  {
   "cell_type": "code",
   "execution_count": null,
   "metadata": {},
   "outputs": [],
   "source": []
  }
 ],
 "metadata": {
  "kernelspec": {
   "display_name": "Python [conda env:root] *",
   "language": "python",
   "name": "conda-root-py"
  },
  "language_info": {
   "codemirror_mode": {
    "name": "ipython",
    "version": 3
   },
   "file_extension": ".py",
   "mimetype": "text/x-python",
   "name": "python",
   "nbconvert_exporter": "python",
   "pygments_lexer": "ipython3",
   "version": "3.7.3"
  }
 },
 "nbformat": 4,
 "nbformat_minor": 2
}
