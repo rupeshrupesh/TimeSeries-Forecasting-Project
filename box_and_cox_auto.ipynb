{
 "cells": [
  {
   "cell_type": "code",
   "execution_count": 1,
   "metadata": {},
   "outputs": [],
   "source": [
    "import os\n",
    "SPARK_HOME=\"/opt/spark\"\n",
    "os.environ[\"PYSPARK_PYTHON\"] = \"python3\"\n",
    "# os.environ[\"PYSPARK_PYTHON\"]=\"python\"\n",
    "os.environ[\"PYSPARK_DRIVER_PYTHON\"]=\"jupyter\"\n",
    "os.environ[\"PYSPARK_DRIVER_PYTHON_OPTS\"]=\"notebook\"\n",
    "os.environ[\"SPARK_HOME\"] = SPARK_HOME\n",
    "os.environ[\"SPARK_CLASSPATH\"] = \"/opt/spark/jars/sqljdbc4.jar\"\n",
    "\n",
    " \n",
    "\n",
    "from pyspark.sql import SparkSession\n",
    "spark = SparkSession \\\n",
    "        .builder \\\n",
    "        .appName(\"Task_3\") \\\n",
    "        .getOrCreate()"
   ]
  },
  {
   "cell_type": "code",
   "execution_count": 2,
   "metadata": {},
   "outputs": [],
   "source": [
    "#from pyspark.sql import SQLContext\n",
    "# sqlContext = SQLContext(spark)\n",
    "from pyspark.sql.functions import *\n",
    "from pyspark import SparkContext\n",
    "from pyspark.sql.types import *"
   ]
  },
  {
   "cell_type": "code",
   "execution_count": 13,
   "metadata": {},
   "outputs": [
    {
     "name": "stdout",
     "output_type": "stream",
     "text": [
      "+----------+------+--------+-----+-----+------+---+\n",
      "|      Date| Money|Spending| Gain| Loss|profit|sea|\n",
      "+----------+------+--------+-----+-----+------+---+\n",
      "|1995-01-01|3492.4|  4851.2| 2891| 1000|    23|  5|\n",
      "|1995-02-01|3489.9|  4850.8| 2893| 1101|    24|  5|\n",
      "|1995-03-01|3491.1|  4885.4| 2895| 1202|    25|  5|\n",
      "|1995-04-01|3499.2|  4890.2| 2897| 1303|    26|  5|\n",
      "|1995-05-01|3524.2|  4933.1|-2314| 1404|    27|  5|\n",
      "|1995-06-01|3548.9|  4977.5|-2415| 1505|    28|  5|\n",
      "|1995-07-01|3567.4|  4970.2|-2516| 1606|    29|  5|\n",
      "|1995-08-01|3589.0|  5005.3|-2617| 1707|    30|  5|\n",
      "|1995-09-01|3602.1|  5020.5|-2718| 1808|    31|  5|\n",
      "|1995-10-01|3613.4|  5013.9|-2819| 1909|    32|  5|\n",
      "|1995-11-01|3619.9|  5055.6|-2920| 2010|    33|  5|\n",
      "|1995-12-01|3629.5|  5097.5|-3021| 2111|    34|  5|\n",
      "|1996-01-01|3647.9|  5085.7|-3122| 2212|    35|  5|\n",
      "|1996-02-01|3661.9|  5132.8| 2917| 2313|    36|  5|\n",
      "|1996-03-01|3687.0|  5173.3| 2919| 2414|    37|  5|\n",
      "|1996-04-01|3697.8|  5208.0| 2921|-2515|    38|  5|\n",
      "|1996-05-01|3709.7|  5223.8| 2923|-2616|    39|  5|\n",
      "|1996-06-01|3722.7|  5229.8| 2925|-2717|    40|  5|\n",
      "|1996-07-01|3737.3|  5251.9| 2927|-2818|    41|  5|\n",
      "|1996-08-01|3744.3|  5275.0| 2929|-2919|    42|  5|\n",
      "+----------+------+--------+-----+-----+------+---+\n",
      "only showing top 20 rows\n",
      "\n"
     ]
    }
   ],
   "source": [
    "df_path = \"/home/rupeshr/Desktop/TSA_Python/dataset/multivariate_dataset.csv\"\n",
    "df = spark.read.format(\"com.databricks.spark.csv\").option(\"header\", \"true\").option(\"inferSchema\", \"true\").load(df_path)\n",
    "df.show()"
   ]
  },
  {
   "cell_type": "code",
   "execution_count": 4,
   "metadata": {},
   "outputs": [
    {
     "data": {
      "text/plain": [
       "[('Date', 'string'),\n",
       " ('Money', 'double'),\n",
       " ('Spending', 'double'),\n",
       " ('Gain', 'int'),\n",
       " ('Loss', 'int')]"
      ]
     },
     "execution_count": 4,
     "metadata": {},
     "output_type": "execute_result"
    }
   ],
   "source": [
    "df.dtypes"
   ]
  },
  {
   "cell_type": "code",
   "execution_count": 5,
   "metadata": {},
   "outputs": [],
   "source": [
    "from pyspark.sql.functions import *\n",
    "from pyspark.sql.types import *\n",
    "import pandas as pd\n",
    "from pandas import read_csv\n",
    "from pandas import DataFrame\n",
    "from scipy.stats import boxcox \n",
    "import matplotlib.pyplot as plt\n",
    "import pandas as pd\n",
    "from pyspark.sql.types import *\n",
    "from pyspark.sql import Window\n",
    "from rest_framework.response import Response\n",
    "# Auxiliary functions\n",
    "# Pandas Types -> Spark Types\n",
    "#from edge.stats.sparksession import spark_session\n",
    "\n",
    "def equivalent_type(f):\n",
    "    if f == 'datetime64[ns]': return DateType()\n",
    "    elif f == 'int64': return LongType()\n",
    "    elif f == 'int32': return IntegerType()\n",
    "    elif f == 'float64': return DoubleType()\n",
    "    else: return StringType()\n",
    "def define_structure(string, format_type):\n",
    "    try: typo = equivalent_type(format_type)\n",
    "    except: typo = StringType()\n",
    "    return StructField(string, typo)\n",
    "# Converts pandas dataframe to spark dataframe\n",
    "def pandas_to_spark(df_pandas):\n",
    "    sqlContext = spark\n",
    "    columns = list(df_pandas.columns)\n",
    "    types = list(df_pandas.dtypes)\n",
    "    struct_list = []\n",
    "    for column, typo in zip(columns, types):\n",
    "        struct_list.append(define_structure(column, typo))\n",
    "    p_schema = StructType(struct_list)\n",
    "    return sqlContext.createDataFrame(df_pandas, p_schema)\n",
    "\n",
    "\n",
    "def box_and_cox(*,df,column):\n",
    "    for i in df.columns:\n",
    "        if i in column:\n",
    "            s = df.select(i).dtypes[0]\n",
    "            print(s)\n",
    "            try:\n",
    "                if s[1] == \"int\" or s[1] == \"float\" or s[1] == \"double\" or s[1] == \"bigint\" or s[1] == \"long\":\n",
    "                    temp_df=df.toPandas()\n",
    "                    temp,fitted_lambda=boxcox(temp_df[column])\n",
    "                    print('fitted_lambda:',fitted_lambda)\n",
    "                    temp_df[column]=temp\n",
    "                    plt.hist(temp_df[column])\n",
    "                    data=pandas_to_spark(temp_df)\n",
    "            except:\n",
    "                return Response({\"status\": \"failure\", \"error\": \"please select numerical type column\"})\n",
    "    return data"
   ]
  },
  {
   "cell_type": "code",
   "execution_count": 14,
   "metadata": {},
   "outputs": [
    {
     "name": "stdout",
     "output_type": "stream",
     "text": [
      "('sea', 'int')\n"
     ]
    },
    {
     "ename": "ImproperlyConfigured",
     "evalue": "Requested setting DEFAULT_CHARSET, but settings are not configured. You must either define the environment variable DJANGO_SETTINGS_MODULE or call settings.configure() before accessing settings.",
     "output_type": "error",
     "traceback": [
      "\u001b[0;31m---------------------------------------------------------------------------\u001b[0m",
      "\u001b[0;31mValueError\u001b[0m                                Traceback (most recent call last)",
      "\u001b[0;32m<ipython-input-5-b58e96920e25>\u001b[0m in \u001b[0;36mbox_and_cox\u001b[0;34m(df, column)\u001b[0m\n\u001b[1;32m     45\u001b[0m                     \u001b[0mtemp_df\u001b[0m\u001b[0;34m=\u001b[0m\u001b[0mdf\u001b[0m\u001b[0;34m.\u001b[0m\u001b[0mtoPandas\u001b[0m\u001b[0;34m(\u001b[0m\u001b[0;34m)\u001b[0m\u001b[0;34m\u001b[0m\u001b[0;34m\u001b[0m\u001b[0m\n\u001b[0;32m---> 46\u001b[0;31m                     \u001b[0mtemp\u001b[0m\u001b[0;34m,\u001b[0m\u001b[0mfitted_lambda\u001b[0m\u001b[0;34m=\u001b[0m\u001b[0mboxcox\u001b[0m\u001b[0;34m(\u001b[0m\u001b[0mtemp_df\u001b[0m\u001b[0;34m[\u001b[0m\u001b[0mcolumn\u001b[0m\u001b[0;34m]\u001b[0m\u001b[0;34m)\u001b[0m\u001b[0;34m\u001b[0m\u001b[0;34m\u001b[0m\u001b[0m\n\u001b[0m\u001b[1;32m     47\u001b[0m                     \u001b[0mprint\u001b[0m\u001b[0;34m(\u001b[0m\u001b[0;34m'fitted_lambda:'\u001b[0m\u001b[0;34m,\u001b[0m\u001b[0mfitted_lambda\u001b[0m\u001b[0;34m)\u001b[0m\u001b[0;34m\u001b[0m\u001b[0;34m\u001b[0m\u001b[0m\n",
      "\u001b[0;32m~/anaconda3/lib/python3.7/site-packages/scipy/stats/morestats.py\u001b[0m in \u001b[0;36mboxcox\u001b[0;34m(x, lmbda, alpha)\u001b[0m\n\u001b[1;32m   1041\u001b[0m     \u001b[0;32mif\u001b[0m \u001b[0mnp\u001b[0m\u001b[0;34m.\u001b[0m\u001b[0mall\u001b[0m\u001b[0;34m(\u001b[0m\u001b[0mx\u001b[0m \u001b[0;34m==\u001b[0m \u001b[0mx\u001b[0m\u001b[0;34m[\u001b[0m\u001b[0;36m0\u001b[0m\u001b[0;34m]\u001b[0m\u001b[0;34m)\u001b[0m\u001b[0;34m:\u001b[0m\u001b[0;34m\u001b[0m\u001b[0;34m\u001b[0m\u001b[0m\n\u001b[0;32m-> 1042\u001b[0;31m         \u001b[0;32mraise\u001b[0m \u001b[0mValueError\u001b[0m\u001b[0;34m(\u001b[0m\u001b[0;34m\"Data must not be constant.\"\u001b[0m\u001b[0;34m)\u001b[0m\u001b[0;34m\u001b[0m\u001b[0;34m\u001b[0m\u001b[0m\n\u001b[0m\u001b[1;32m   1043\u001b[0m \u001b[0;34m\u001b[0m\u001b[0m\n",
      "\u001b[0;31mValueError\u001b[0m: Data must not be constant.",
      "\nDuring handling of the above exception, another exception occurred:\n",
      "\u001b[0;31mImproperlyConfigured\u001b[0m                      Traceback (most recent call last)",
      "\u001b[0;32m<ipython-input-14-85d6ffb2c4df>\u001b[0m in \u001b[0;36m<module>\u001b[0;34m\u001b[0m\n\u001b[0;32m----> 1\u001b[0;31m \u001b[0ms\u001b[0m\u001b[0;34m=\u001b[0m\u001b[0mbox_and_cox\u001b[0m\u001b[0;34m(\u001b[0m\u001b[0mdf\u001b[0m\u001b[0;34m=\u001b[0m\u001b[0mdf\u001b[0m\u001b[0;34m,\u001b[0m\u001b[0mcolumn\u001b[0m\u001b[0;34m=\u001b[0m\u001b[0;34m'sea'\u001b[0m\u001b[0;34m)\u001b[0m\u001b[0;34m\u001b[0m\u001b[0;34m\u001b[0m\u001b[0m\n\u001b[0m",
      "\u001b[0;32m<ipython-input-5-b58e96920e25>\u001b[0m in \u001b[0;36mbox_and_cox\u001b[0;34m(df, column)\u001b[0m\n\u001b[1;32m     50\u001b[0m                     \u001b[0mdata\u001b[0m\u001b[0;34m=\u001b[0m\u001b[0mpandas_to_spark\u001b[0m\u001b[0;34m(\u001b[0m\u001b[0mtemp_df\u001b[0m\u001b[0;34m)\u001b[0m\u001b[0;34m\u001b[0m\u001b[0;34m\u001b[0m\u001b[0m\n\u001b[1;32m     51\u001b[0m             \u001b[0;32mexcept\u001b[0m\u001b[0;34m:\u001b[0m\u001b[0;34m\u001b[0m\u001b[0;34m\u001b[0m\u001b[0m\n\u001b[0;32m---> 52\u001b[0;31m                 \u001b[0;32mreturn\u001b[0m \u001b[0mResponse\u001b[0m\u001b[0;34m(\u001b[0m\u001b[0;34m{\u001b[0m\u001b[0;34m\"status\"\u001b[0m\u001b[0;34m:\u001b[0m \u001b[0;34m\"failure\"\u001b[0m\u001b[0;34m,\u001b[0m \u001b[0;34m\"error\"\u001b[0m\u001b[0;34m:\u001b[0m \u001b[0;34m\"please select numerical type column\"\u001b[0m\u001b[0;34m}\u001b[0m\u001b[0;34m)\u001b[0m\u001b[0;34m\u001b[0m\u001b[0;34m\u001b[0m\u001b[0m\n\u001b[0m\u001b[1;32m     53\u001b[0m     \u001b[0;32mreturn\u001b[0m \u001b[0mdata\u001b[0m\u001b[0;34m\u001b[0m\u001b[0;34m\u001b[0m\u001b[0m\n",
      "\u001b[0;32m~/anaconda3/lib/python3.7/site-packages/rest_framework/response.py\u001b[0m in \u001b[0;36m__init__\u001b[0;34m(self, data, status, template_name, headers, exception, content_type)\u001b[0m\n\u001b[1;32m     28\u001b[0m         \u001b[0mFor\u001b[0m \u001b[0mexample\u001b[0m \u001b[0mbeing\u001b[0m \u001b[0mset\u001b[0m \u001b[0mautomatically\u001b[0m \u001b[0mby\u001b[0m \u001b[0mthe\u001b[0m\u001b[0;31m \u001b[0m\u001b[0;31m`\u001b[0m\u001b[0mAPIView\u001b[0m\u001b[0;31m`\u001b[0m\u001b[0;34m.\u001b[0m\u001b[0;34m\u001b[0m\u001b[0;34m\u001b[0m\u001b[0m\n\u001b[1;32m     29\u001b[0m         \"\"\"\n\u001b[0;32m---> 30\u001b[0;31m         \u001b[0msuper\u001b[0m\u001b[0;34m(\u001b[0m\u001b[0;34m)\u001b[0m\u001b[0;34m.\u001b[0m\u001b[0m__init__\u001b[0m\u001b[0;34m(\u001b[0m\u001b[0;32mNone\u001b[0m\u001b[0;34m,\u001b[0m \u001b[0mstatus\u001b[0m\u001b[0;34m=\u001b[0m\u001b[0mstatus\u001b[0m\u001b[0;34m)\u001b[0m\u001b[0;34m\u001b[0m\u001b[0;34m\u001b[0m\u001b[0m\n\u001b[0m\u001b[1;32m     31\u001b[0m \u001b[0;34m\u001b[0m\u001b[0m\n\u001b[1;32m     32\u001b[0m         \u001b[0;32mif\u001b[0m \u001b[0misinstance\u001b[0m\u001b[0;34m(\u001b[0m\u001b[0mdata\u001b[0m\u001b[0;34m,\u001b[0m \u001b[0mSerializer\u001b[0m\u001b[0;34m)\u001b[0m\u001b[0;34m:\u001b[0m\u001b[0;34m\u001b[0m\u001b[0;34m\u001b[0m\u001b[0m\n",
      "\u001b[0;32m~/anaconda3/lib/python3.7/site-packages/django/template/response.py\u001b[0m in \u001b[0;36m__init__\u001b[0;34m(self, template, context, content_type, status, charset, using)\u001b[0m\n\u001b[1;32m     34\u001b[0m         \u001b[0;31m# with rendered template so we always pass empty string in order to\u001b[0m\u001b[0;34m\u001b[0m\u001b[0;34m\u001b[0m\u001b[0;34m\u001b[0m\u001b[0m\n\u001b[1;32m     35\u001b[0m         \u001b[0;31m# prevent errors and provide shorter signature.\u001b[0m\u001b[0;34m\u001b[0m\u001b[0;34m\u001b[0m\u001b[0;34m\u001b[0m\u001b[0m\n\u001b[0;32m---> 36\u001b[0;31m         \u001b[0msuper\u001b[0m\u001b[0;34m(\u001b[0m\u001b[0;34m)\u001b[0m\u001b[0;34m.\u001b[0m\u001b[0m__init__\u001b[0m\u001b[0;34m(\u001b[0m\u001b[0;34m''\u001b[0m\u001b[0;34m,\u001b[0m \u001b[0mcontent_type\u001b[0m\u001b[0;34m,\u001b[0m \u001b[0mstatus\u001b[0m\u001b[0;34m,\u001b[0m \u001b[0mcharset\u001b[0m\u001b[0;34m=\u001b[0m\u001b[0mcharset\u001b[0m\u001b[0;34m)\u001b[0m\u001b[0;34m\u001b[0m\u001b[0;34m\u001b[0m\u001b[0m\n\u001b[0m\u001b[1;32m     37\u001b[0m \u001b[0;34m\u001b[0m\u001b[0m\n\u001b[1;32m     38\u001b[0m         \u001b[0;31m# _is_rendered tracks whether the template and context has been baked\u001b[0m\u001b[0;34m\u001b[0m\u001b[0;34m\u001b[0m\u001b[0;34m\u001b[0m\u001b[0m\n",
      "\u001b[0;32m~/anaconda3/lib/python3.7/site-packages/django/http/response.py\u001b[0m in \u001b[0;36m__init__\u001b[0;34m(self, content, *args, **kwargs)\u001b[0m\n\u001b[1;32m    294\u001b[0m \u001b[0;34m\u001b[0m\u001b[0m\n\u001b[1;32m    295\u001b[0m     \u001b[0;32mdef\u001b[0m \u001b[0m__init__\u001b[0m\u001b[0;34m(\u001b[0m\u001b[0mself\u001b[0m\u001b[0;34m,\u001b[0m \u001b[0mcontent\u001b[0m\u001b[0;34m=\u001b[0m\u001b[0;34mb''\u001b[0m\u001b[0;34m,\u001b[0m \u001b[0;34m*\u001b[0m\u001b[0margs\u001b[0m\u001b[0;34m,\u001b[0m \u001b[0;34m**\u001b[0m\u001b[0mkwargs\u001b[0m\u001b[0;34m)\u001b[0m\u001b[0;34m:\u001b[0m\u001b[0;34m\u001b[0m\u001b[0;34m\u001b[0m\u001b[0m\n\u001b[0;32m--> 296\u001b[0;31m         \u001b[0msuper\u001b[0m\u001b[0;34m(\u001b[0m\u001b[0;34m)\u001b[0m\u001b[0;34m.\u001b[0m\u001b[0m__init__\u001b[0m\u001b[0;34m(\u001b[0m\u001b[0;34m*\u001b[0m\u001b[0margs\u001b[0m\u001b[0;34m,\u001b[0m \u001b[0;34m**\u001b[0m\u001b[0mkwargs\u001b[0m\u001b[0;34m)\u001b[0m\u001b[0;34m\u001b[0m\u001b[0;34m\u001b[0m\u001b[0m\n\u001b[0m\u001b[1;32m    297\u001b[0m         \u001b[0;31m# Content is a bytestring. See the `content` property methods.\u001b[0m\u001b[0;34m\u001b[0m\u001b[0;34m\u001b[0m\u001b[0;34m\u001b[0m\u001b[0m\n\u001b[1;32m    298\u001b[0m         \u001b[0mself\u001b[0m\u001b[0;34m.\u001b[0m\u001b[0mcontent\u001b[0m \u001b[0;34m=\u001b[0m \u001b[0mcontent\u001b[0m\u001b[0;34m\u001b[0m\u001b[0;34m\u001b[0m\u001b[0m\n",
      "\u001b[0;32m~/anaconda3/lib/python3.7/site-packages/django/http/response.py\u001b[0m in \u001b[0;36m__init__\u001b[0;34m(self, content_type, status, reason, charset)\u001b[0m\n\u001b[1;32m     59\u001b[0m         \u001b[0mself\u001b[0m\u001b[0;34m.\u001b[0m\u001b[0m_charset\u001b[0m \u001b[0;34m=\u001b[0m \u001b[0mcharset\u001b[0m\u001b[0;34m\u001b[0m\u001b[0;34m\u001b[0m\u001b[0m\n\u001b[1;32m     60\u001b[0m         \u001b[0;32mif\u001b[0m \u001b[0mcontent_type\u001b[0m \u001b[0;32mis\u001b[0m \u001b[0;32mNone\u001b[0m\u001b[0;34m:\u001b[0m\u001b[0;34m\u001b[0m\u001b[0;34m\u001b[0m\u001b[0m\n\u001b[0;32m---> 61\u001b[0;31m             \u001b[0mcontent_type\u001b[0m \u001b[0;34m=\u001b[0m \u001b[0;34m'text/html; charset=%s'\u001b[0m \u001b[0;34m%\u001b[0m \u001b[0mself\u001b[0m\u001b[0;34m.\u001b[0m\u001b[0mcharset\u001b[0m\u001b[0;34m\u001b[0m\u001b[0;34m\u001b[0m\u001b[0m\n\u001b[0m\u001b[1;32m     62\u001b[0m         \u001b[0mself\u001b[0m\u001b[0;34m[\u001b[0m\u001b[0;34m'Content-Type'\u001b[0m\u001b[0;34m]\u001b[0m \u001b[0;34m=\u001b[0m \u001b[0mcontent_type\u001b[0m\u001b[0;34m\u001b[0m\u001b[0;34m\u001b[0m\u001b[0m\n\u001b[1;32m     63\u001b[0m \u001b[0;34m\u001b[0m\u001b[0m\n",
      "\u001b[0;32m~/anaconda3/lib/python3.7/site-packages/django/http/response.py\u001b[0m in \u001b[0;36mcharset\u001b[0;34m(self)\u001b[0m\n\u001b[1;32m     83\u001b[0m             \u001b[0;31m# Extract the charset and strip its double quotes\u001b[0m\u001b[0;34m\u001b[0m\u001b[0;34m\u001b[0m\u001b[0;34m\u001b[0m\u001b[0m\n\u001b[1;32m     84\u001b[0m             \u001b[0;32mreturn\u001b[0m \u001b[0mmatched\u001b[0m\u001b[0;34m[\u001b[0m\u001b[0;34m'charset'\u001b[0m\u001b[0;34m]\u001b[0m\u001b[0;34m.\u001b[0m\u001b[0mreplace\u001b[0m\u001b[0;34m(\u001b[0m\u001b[0;34m'\"'\u001b[0m\u001b[0;34m,\u001b[0m \u001b[0;34m''\u001b[0m\u001b[0;34m)\u001b[0m\u001b[0;34m\u001b[0m\u001b[0;34m\u001b[0m\u001b[0m\n\u001b[0;32m---> 85\u001b[0;31m         \u001b[0;32mreturn\u001b[0m \u001b[0msettings\u001b[0m\u001b[0;34m.\u001b[0m\u001b[0mDEFAULT_CHARSET\u001b[0m\u001b[0;34m\u001b[0m\u001b[0;34m\u001b[0m\u001b[0m\n\u001b[0m\u001b[1;32m     86\u001b[0m \u001b[0;34m\u001b[0m\u001b[0m\n\u001b[1;32m     87\u001b[0m     \u001b[0;34m@\u001b[0m\u001b[0mcharset\u001b[0m\u001b[0;34m.\u001b[0m\u001b[0msetter\u001b[0m\u001b[0;34m\u001b[0m\u001b[0;34m\u001b[0m\u001b[0m\n",
      "\u001b[0;32m~/anaconda3/lib/python3.7/site-packages/django/conf/__init__.py\u001b[0m in \u001b[0;36m__getattr__\u001b[0;34m(self, name)\u001b[0m\n\u001b[1;32m     80\u001b[0m         \u001b[0;34m\"\"\"Return the value of a setting and cache it in self.__dict__.\"\"\"\u001b[0m\u001b[0;34m\u001b[0m\u001b[0;34m\u001b[0m\u001b[0m\n\u001b[1;32m     81\u001b[0m         \u001b[0;32mif\u001b[0m \u001b[0mself\u001b[0m\u001b[0;34m.\u001b[0m\u001b[0m_wrapped\u001b[0m \u001b[0;32mis\u001b[0m \u001b[0mempty\u001b[0m\u001b[0;34m:\u001b[0m\u001b[0;34m\u001b[0m\u001b[0;34m\u001b[0m\u001b[0m\n\u001b[0;32m---> 82\u001b[0;31m             \u001b[0mself\u001b[0m\u001b[0;34m.\u001b[0m\u001b[0m_setup\u001b[0m\u001b[0;34m(\u001b[0m\u001b[0mname\u001b[0m\u001b[0;34m)\u001b[0m\u001b[0;34m\u001b[0m\u001b[0;34m\u001b[0m\u001b[0m\n\u001b[0m\u001b[1;32m     83\u001b[0m         \u001b[0mval\u001b[0m \u001b[0;34m=\u001b[0m \u001b[0mgetattr\u001b[0m\u001b[0;34m(\u001b[0m\u001b[0mself\u001b[0m\u001b[0;34m.\u001b[0m\u001b[0m_wrapped\u001b[0m\u001b[0;34m,\u001b[0m \u001b[0mname\u001b[0m\u001b[0;34m)\u001b[0m\u001b[0;34m\u001b[0m\u001b[0;34m\u001b[0m\u001b[0m\n\u001b[1;32m     84\u001b[0m         \u001b[0mself\u001b[0m\u001b[0;34m.\u001b[0m\u001b[0m__dict__\u001b[0m\u001b[0;34m[\u001b[0m\u001b[0mname\u001b[0m\u001b[0;34m]\u001b[0m \u001b[0;34m=\u001b[0m \u001b[0mval\u001b[0m\u001b[0;34m\u001b[0m\u001b[0;34m\u001b[0m\u001b[0m\n",
      "\u001b[0;32m~/anaconda3/lib/python3.7/site-packages/django/conf/__init__.py\u001b[0m in \u001b[0;36m_setup\u001b[0;34m(self, name)\u001b[0m\n\u001b[1;32m     65\u001b[0m                 \u001b[0;34m\"You must either define the environment variable %s \"\u001b[0m\u001b[0;34m\u001b[0m\u001b[0;34m\u001b[0m\u001b[0m\n\u001b[1;32m     66\u001b[0m                 \u001b[0;34m\"or call settings.configure() before accessing settings.\"\u001b[0m\u001b[0;34m\u001b[0m\u001b[0;34m\u001b[0m\u001b[0m\n\u001b[0;32m---> 67\u001b[0;31m                 % (desc, ENVIRONMENT_VARIABLE))\n\u001b[0m\u001b[1;32m     68\u001b[0m \u001b[0;34m\u001b[0m\u001b[0m\n\u001b[1;32m     69\u001b[0m         \u001b[0mself\u001b[0m\u001b[0;34m.\u001b[0m\u001b[0m_wrapped\u001b[0m \u001b[0;34m=\u001b[0m \u001b[0mSettings\u001b[0m\u001b[0;34m(\u001b[0m\u001b[0msettings_module\u001b[0m\u001b[0;34m)\u001b[0m\u001b[0;34m\u001b[0m\u001b[0;34m\u001b[0m\u001b[0m\n",
      "\u001b[0;31mImproperlyConfigured\u001b[0m: Requested setting DEFAULT_CHARSET, but settings are not configured. You must either define the environment variable DJANGO_SETTINGS_MODULE or call settings.configure() before accessing settings."
     ]
    }
   ],
   "source": [
    "s=box_and_cox(df=df,column='sea')"
   ]
  },
  {
   "cell_type": "code",
   "execution_count": 13,
   "metadata": {},
   "outputs": [
    {
     "name": "stdout",
     "output_type": "stream",
     "text": [
      "+----------+------+---+------------------+----------------------+\n",
      "|CustomerID| Genre|Age|Annual Income (k$)|Spending Score (1-100)|\n",
      "+----------+------+---+------------------+----------------------+\n",
      "|         1|  Male| 19|                15|    24.128629531470413|\n",
      "|         2|  Male| 21|                15|     45.32872199125077|\n",
      "|         3|Female| 20|                16|     4.135102431582098|\n",
      "|         4|Female| 23|                16|     43.40885285551645|\n",
      "|         5|Female| 31|                17|     24.66786348457584|\n",
      "|         6|Female| 22|                17|     42.92629505650516|\n",
      "|         7|Female| 35|                18|     4.135102431582098|\n",
      "|         8|Female| 23|                18|     51.46307114128338|\n",
      "|         9|  Male| 64|                19|    1.7961477877085403|\n",
      "|        10|Female| 30|                19|    40.985215822565365|\n",
      "|        11|  Male| 67|                19|     9.598893604612172|\n",
      "|        12|Female| 35|                19|     53.78357882041825|\n",
      "|        13|Female| 58|                20|    10.237024021705029|\n",
      "|        14|Female| 24|                20|     43.40885285551645|\n",
      "|        15|  Male| 37|                20|     8.953052427902861|\n",
      "|        16|  Male| 22|                20|     44.37082901172859|\n",
      "|        17|Female| 35|                21|    21.947673811085156|\n",
      "|        18|  Male| 20|                21|     38.03906327548273|\n",
      "|        19|  Male| 52|                23|    18.594822267621478|\n",
      "|        20|Female| 35|                23|     53.32108369772791|\n",
      "+----------+------+---+------------------+----------------------+\n",
      "only showing top 20 rows\n",
      "\n"
     ]
    }
   ],
   "source": [
    "s.show()"
   ]
  },
  {
   "cell_type": "code",
   "execution_count": 101,
   "metadata": {},
   "outputs": [
    {
     "data": {
      "text/html": [
       "<div>\n",
       "<style scoped>\n",
       "    .dataframe tbody tr th:only-of-type {\n",
       "        vertical-align: middle;\n",
       "    }\n",
       "\n",
       "    .dataframe tbody tr th {\n",
       "        vertical-align: top;\n",
       "    }\n",
       "\n",
       "    .dataframe thead th {\n",
       "        text-align: right;\n",
       "    }\n",
       "</style>\n",
       "<table border=\"1\" class=\"dataframe\">\n",
       "  <thead>\n",
       "    <tr style=\"text-align: right;\">\n",
       "      <th></th>\n",
       "      <th>High</th>\n",
       "    </tr>\n",
       "  </thead>\n",
       "  <tbody>\n",
       "    <tr>\n",
       "      <th>0</th>\n",
       "      <td>0.256706</td>\n",
       "    </tr>\n",
       "    <tr>\n",
       "      <th>1</th>\n",
       "      <td>0.256706</td>\n",
       "    </tr>\n",
       "    <tr>\n",
       "      <th>2</th>\n",
       "      <td>0.256706</td>\n",
       "    </tr>\n",
       "    <tr>\n",
       "      <th>3</th>\n",
       "      <td>0.256706</td>\n",
       "    </tr>\n",
       "    <tr>\n",
       "      <th>4</th>\n",
       "      <td>1.090000</td>\n",
       "    </tr>\n",
       "  </tbody>\n",
       "</table>\n",
       "</div>"
      ],
      "text/plain": [
       "       High\n",
       "0  0.256706\n",
       "1  0.256706\n",
       "2  0.256706\n",
       "3  0.256706\n",
       "4  1.090000"
      ]
     },
     "execution_count": 101,
     "metadata": {},
     "output_type": "execute_result"
    }
   ],
   "source": [
    "temp_df=df.select('High').toPandas()\n",
    "temp_df['High']=temp_df['High'].astype('float')\n",
    "temp_df.head()"
   ]
  },
  {
   "cell_type": "code",
   "execution_count": null,
   "metadata": {},
   "outputs": [],
   "source": []
  },
  {
   "cell_type": "code",
   "execution_count": 100,
   "metadata": {},
   "outputs": [
    {
     "name": "stdout",
     "output_type": "stream",
     "text": [
      "0.043399944233461066\n"
     ]
    }
   ],
   "source": [
    "from scipy import stats\n",
    "temp,fitted_lambda=stats.boxcox(temp_df['High'])\n",
    "print(fitted_lambda)"
   ]
  },
  {
   "cell_type": "code",
   "execution_count": 95,
   "metadata": {},
   "outputs": [
    {
     "data": {
      "text/html": [
       "<div>\n",
       "<style scoped>\n",
       "    .dataframe tbody tr th:only-of-type {\n",
       "        vertical-align: middle;\n",
       "    }\n",
       "\n",
       "    .dataframe tbody tr th {\n",
       "        vertical-align: top;\n",
       "    }\n",
       "\n",
       "    .dataframe thead th {\n",
       "        text-align: right;\n",
       "    }\n",
       "</style>\n",
       "<table border=\"1\" class=\"dataframe\">\n",
       "  <thead>\n",
       "    <tr style=\"text-align: right;\">\n",
       "      <th></th>\n",
       "      <th>High</th>\n",
       "    </tr>\n",
       "  </thead>\n",
       "  <tbody>\n",
       "    <tr>\n",
       "      <th>0</th>\n",
       "      <td>-1.320476</td>\n",
       "    </tr>\n",
       "    <tr>\n",
       "      <th>1</th>\n",
       "      <td>-1.320476</td>\n",
       "    </tr>\n",
       "    <tr>\n",
       "      <th>2</th>\n",
       "      <td>-1.320476</td>\n",
       "    </tr>\n",
       "    <tr>\n",
       "      <th>3</th>\n",
       "      <td>-1.320476</td>\n",
       "    </tr>\n",
       "    <tr>\n",
       "      <th>4</th>\n",
       "      <td>0.086339</td>\n",
       "    </tr>\n",
       "  </tbody>\n",
       "</table>\n",
       "</div>"
      ],
      "text/plain": [
       "       High\n",
       "0 -1.320476\n",
       "1 -1.320476\n",
       "2 -1.320476\n",
       "3 -1.320476\n",
       "4  0.086339"
      ]
     },
     "execution_count": 95,
     "metadata": {},
     "output_type": "execute_result"
    }
   ],
   "source": [
    "temp_df['High']=temp\n",
    "temp_df.head()\n",
    "#print(fitted_lambda)"
   ]
  },
  {
   "cell_type": "code",
   "execution_count": 9,
   "metadata": {},
   "outputs": [],
   "source": [
    "import numpy as np\n",
    "from scipy import stats\n",
    "  \n",
    "import seaborn as sns\n",
    "import matplotlib.pyplot as plt\n",
    "  \n",
    "# generate non-normal data (exponential)\n",
    "original_data = np.random.exponential(size = 10000000)\n",
    "s=pd.DataFrame(original_data)\n",
    "s.head()\n",
    "#s.count()"
   ]
  },
  {
   "cell_type": "code",
   "execution_count": 147,
   "metadata": {},
   "outputs": [
    {
     "data": {
      "text/html": [
       "<div>\n",
       "<style scoped>\n",
       "    .dataframe tbody tr th:only-of-type {\n",
       "        vertical-align: middle;\n",
       "    }\n",
       "\n",
       "    .dataframe tbody tr th {\n",
       "        vertical-align: top;\n",
       "    }\n",
       "\n",
       "    .dataframe thead th {\n",
       "        text-align: right;\n",
       "    }\n",
       "</style>\n",
       "<table border=\"1\" class=\"dataframe\">\n",
       "  <thead>\n",
       "    <tr style=\"text-align: right;\">\n",
       "      <th></th>\n",
       "      <th>0</th>\n",
       "    </tr>\n",
       "  </thead>\n",
       "  <tbody>\n",
       "    <tr>\n",
       "      <th>0</th>\n",
       "      <td>-0.622692</td>\n",
       "    </tr>\n",
       "    <tr>\n",
       "      <th>1</th>\n",
       "      <td>-0.256556</td>\n",
       "    </tr>\n",
       "    <tr>\n",
       "      <th>2</th>\n",
       "      <td>-1.829033</td>\n",
       "    </tr>\n",
       "    <tr>\n",
       "      <th>3</th>\n",
       "      <td>-1.169706</td>\n",
       "    </tr>\n",
       "    <tr>\n",
       "      <th>4</th>\n",
       "      <td>-1.242492</td>\n",
       "    </tr>\n",
       "  </tbody>\n",
       "</table>\n",
       "</div>"
      ],
      "text/plain": [
       "          0\n",
       "0 -0.622692\n",
       "1 -0.256556\n",
       "2 -1.829033\n",
       "3 -1.169706\n",
       "4 -1.242492"
      ]
     },
     "execution_count": 147,
     "metadata": {},
     "output_type": "execute_result"
    }
   ],
   "source": [
    "fitted_data, fitted_lambda = stats.boxcox(original_data)\n",
    "s=pd.DataFrame(fitted_data)\n",
    "s.head()"
   ]
  },
  {
   "cell_type": "code",
   "execution_count": 11,
   "metadata": {},
   "outputs": [
    {
     "ename": "TypeError",
     "evalue": "len() of unsized object",
     "output_type": "error",
     "traceback": [
      "\u001b[0;31m---------------------------------------------------------------------------\u001b[0m",
      "\u001b[0;31mTypeError\u001b[0m                                 Traceback (most recent call last)",
      "\u001b[0;32m<ipython-input-11-bb02f2dedf2c>\u001b[0m in \u001b[0;36m<module>\u001b[0;34m\u001b[0m\n\u001b[1;32m      6\u001b[0m sns.distplot(df.select('High'), hist = False, kde = True,\n\u001b[1;32m      7\u001b[0m             \u001b[0mkde_kws\u001b[0m \u001b[0;34m=\u001b[0m \u001b[0;34m{\u001b[0m\u001b[0;34m'shade'\u001b[0m\u001b[0;34m:\u001b[0m \u001b[0;32mTrue\u001b[0m\u001b[0;34m,\u001b[0m \u001b[0;34m'linewidth'\u001b[0m\u001b[0;34m:\u001b[0m \u001b[0;36m2\u001b[0m\u001b[0;34m}\u001b[0m\u001b[0;34m,\u001b[0m\u001b[0;34m\u001b[0m\u001b[0;34m\u001b[0m\u001b[0m\n\u001b[0;32m----> 8\u001b[0;31m             label = \"Non-Normal\", color =\"green\", ax = ax[0])\n\u001b[0m\u001b[1;32m      9\u001b[0m \u001b[0;34m\u001b[0m\u001b[0m\n\u001b[1;32m     10\u001b[0m sns.distplot(s.select('High'), hist = False, kde = True,\n",
      "\u001b[0;32m~/anaconda3/lib/python3.7/site-packages/seaborn/distributions.py\u001b[0m in \u001b[0;36mdistplot\u001b[0;34m(a, bins, hist, kde, rug, fit, hist_kws, kde_kws, rug_kws, fit_kws, color, vertical, norm_hist, axlabel, label, ax)\u001b[0m\n\u001b[1;32m    229\u001b[0m     \u001b[0;32mif\u001b[0m \u001b[0mkde\u001b[0m\u001b[0;34m:\u001b[0m\u001b[0;34m\u001b[0m\u001b[0;34m\u001b[0m\u001b[0m\n\u001b[1;32m    230\u001b[0m         \u001b[0mkde_color\u001b[0m \u001b[0;34m=\u001b[0m \u001b[0mkde_kws\u001b[0m\u001b[0;34m.\u001b[0m\u001b[0mpop\u001b[0m\u001b[0;34m(\u001b[0m\u001b[0;34m\"color\"\u001b[0m\u001b[0;34m,\u001b[0m \u001b[0mcolor\u001b[0m\u001b[0;34m)\u001b[0m\u001b[0;34m\u001b[0m\u001b[0;34m\u001b[0m\u001b[0m\n\u001b[0;32m--> 231\u001b[0;31m         \u001b[0mkdeplot\u001b[0m\u001b[0;34m(\u001b[0m\u001b[0ma\u001b[0m\u001b[0;34m,\u001b[0m \u001b[0mvertical\u001b[0m\u001b[0;34m=\u001b[0m\u001b[0mvertical\u001b[0m\u001b[0;34m,\u001b[0m \u001b[0max\u001b[0m\u001b[0;34m=\u001b[0m\u001b[0max\u001b[0m\u001b[0;34m,\u001b[0m \u001b[0mcolor\u001b[0m\u001b[0;34m=\u001b[0m\u001b[0mkde_color\u001b[0m\u001b[0;34m,\u001b[0m \u001b[0;34m**\u001b[0m\u001b[0mkde_kws\u001b[0m\u001b[0;34m)\u001b[0m\u001b[0;34m\u001b[0m\u001b[0;34m\u001b[0m\u001b[0m\n\u001b[0m\u001b[1;32m    232\u001b[0m         \u001b[0;32mif\u001b[0m \u001b[0mkde_color\u001b[0m \u001b[0;34m!=\u001b[0m \u001b[0mcolor\u001b[0m\u001b[0;34m:\u001b[0m\u001b[0;34m\u001b[0m\u001b[0;34m\u001b[0m\u001b[0m\n\u001b[1;32m    233\u001b[0m             \u001b[0mkde_kws\u001b[0m\u001b[0;34m[\u001b[0m\u001b[0;34m\"color\"\u001b[0m\u001b[0;34m]\u001b[0m \u001b[0;34m=\u001b[0m \u001b[0mkde_color\u001b[0m\u001b[0;34m\u001b[0m\u001b[0;34m\u001b[0m\u001b[0m\n",
      "\u001b[0;32m~/anaconda3/lib/python3.7/site-packages/seaborn/distributions.py\u001b[0m in \u001b[0;36mkdeplot\u001b[0;34m(data, data2, shade, vertical, kernel, bw, gridsize, cut, clip, legend, cumulative, shade_lowest, cbar, cbar_ax, cbar_kws, ax, **kwargs)\u001b[0m\n\u001b[1;32m    648\u001b[0m         \u001b[0mdata\u001b[0m \u001b[0;34m=\u001b[0m \u001b[0mnp\u001b[0m\u001b[0;34m.\u001b[0m\u001b[0masarray\u001b[0m\u001b[0;34m(\u001b[0m\u001b[0mdata\u001b[0m\u001b[0;34m)\u001b[0m\u001b[0;34m\u001b[0m\u001b[0;34m\u001b[0m\u001b[0m\n\u001b[1;32m    649\u001b[0m \u001b[0;34m\u001b[0m\u001b[0m\n\u001b[0;32m--> 650\u001b[0;31m     \u001b[0;32mif\u001b[0m \u001b[0mlen\u001b[0m\u001b[0;34m(\u001b[0m\u001b[0mdata\u001b[0m\u001b[0;34m)\u001b[0m \u001b[0;34m==\u001b[0m \u001b[0;36m0\u001b[0m\u001b[0;34m:\u001b[0m\u001b[0;34m\u001b[0m\u001b[0;34m\u001b[0m\u001b[0m\n\u001b[0m\u001b[1;32m    651\u001b[0m         \u001b[0;32mreturn\u001b[0m \u001b[0max\u001b[0m\u001b[0;34m\u001b[0m\u001b[0;34m\u001b[0m\u001b[0m\n\u001b[1;32m    652\u001b[0m \u001b[0;34m\u001b[0m\u001b[0m\n",
      "\u001b[0;31mTypeError\u001b[0m: len() of unsized object"
     ]
    },
    {
     "data": {
      "image/png": "[encoded data removed]",
      "text/plain": [
       "<Figure size 432x288 with 2 Axes>"
      ]
     },
     "metadata": {
      "needs_background": "light"
     },
     "output_type": "display_data"
    }
   ],
   "source": [
    "# creating axes to draw plots\n",
    "fig, ax = plt.subplots(1, 2)\n",
    "  \n",
    "# plotting the original data(non-normal) and \n",
    "# fitted data (normal)\n",
    "sns.distplot(df.select('High'), hist = False, kde = True,\n",
    "            kde_kws = {'shade': True, 'linewidth': 2}, \n",
    "            label = \"Non-Normal\", color =\"green\", ax = ax[0])\n",
    "  \n",
    "sns.distplot(s.select('High'), hist = False, kde = True,\n",
    "            kde_kws = {'shade': True, 'linewidth': 2}, \n",
    "            label = \"Normal\", color =\"green\", ax = ax[1])\n",
    "  \n",
    "# adding legends to the subplots\n",
    "plt.legend(loc = \"upper right\")\n",
    "  \n",
    "# rescaling the subplots\n",
    "fig.set_figheight(5)\n",
    "fig.set_figwidth(10)\n",
    "  \n",
    "print(f\"Lambda value used for Transformation: {fitted_lambda}\")"
   ]
  },
  {
   "cell_type": "code",
   "execution_count": 13,
   "metadata": {},
   "outputs": [],
   "source": [
    "def transformations(dsname, column, column_name):\n",
    "    #if operations == 'abs':\n",
    "    abst = dsname.withColumn(column_name, abs(col(column)))\n",
    "\n",
    "    #elif operations == 'sqrt':\n",
    "    squrt = dsname.withColumn(column_name, sqrt(col(column)))\n",
    "\n",
    "    #elif operations == 'cbrt':\n",
    "    cubrt = dsname.withColumn(column_name, cbrt(col(column)))\n",
    "\n",
    "    #elif operations == 'reciprocal':\n",
    "    #if dsname.filter(col(column) == 0).count() > 0:\n",
    "    #    dsname = \"no reciprocal\"\n",
    "    #    return dsname\n",
    "    #dsname.registerTempTable(\"tempTable\")\n",
    "    #reci = sqlContext.sql(\"select *, (1/\" + i + \") as \" + column_name + \" from tempTable\")\n",
    "\n",
    "    #elif operations == 'powerof2':\n",
    "    pwtw = dsname.withColumn(column_name, col(column) * col(column))\n",
    "\n",
    "    #elif operations == 'powerof3':\n",
    "    pwth = dsname.withColumn(column_name, col(column) * col(column) * col(column))\n",
    "    \n",
    "    return abst,squrt,cubrt,pwtw,pwth"
   ]
  },
  {
   "cell_type": "code",
   "execution_count": 14,
   "metadata": {},
   "outputs": [],
   "source": [
    "abst,squrt,cubrt,pw2,pw3=transformations(df,'High','High1')"
   ]
  },
  {
   "cell_type": "code",
   "execution_count": 15,
   "metadata": {},
   "outputs": [
    {
     "name": "stdout",
     "output_type": "stream",
     "text": [
      "+--------+------------+--------+--------+--------+--------+----------+-------------+--------------------+\n",
      "|Currency|        Date|    Open|    High|     Low|   Close|    Volume|   Market Cap|               High1|\n",
      "+--------+------------+--------+--------+--------+--------+----------+-------------+--------------------+\n",
      "|Currency|        Date|    null|0.256706|    null|    null|    Volume|   Market Cap|0.016916404398743815|\n",
      "|Currency|        Date|    null|0.256706|    null|    null|    Volume|   Market Cap|0.016916404398743815|\n",
      "|Currency|        Date|    null|0.256706|    null|    null|    Volume|   Market Cap|0.016916404398743815|\n",
      "|Currency|        Date|    null|0.256706|    null|    null|    Volume|   Market Cap|0.016916404398743815|\n",
      "|      0x|Feb 11, 2018|    1.09|    1.09|0.934155|0.979054| 4,888,770|  555,363,000|  1.2950290000000002|\n",
      "|      0x|Feb 10, 2018|    1.14|     1.2|0.985705|     1.1|10,828,700|  576,535,000|               1.728|\n",
      "|      0x|Feb 09, 2018|    1.08|    1.15|    1.01|    1.14| 5,979,420|  545,842,000|  1.5208749999999995|\n",
      "|      0x|Feb 08, 2018|0.988963|    1.13|0.988963|    1.07|12,992,800|  501,142,000|  1.4428969999999994|\n",
      "|      0x|Feb 07, 2018|    1.01|    1.16|0.902145|0.993355|13,476,600|  513,163,000|  1.5608959999999998|\n",
      "|      0x|Feb 06, 2018|0.821889|    1.03|0.640081|    1.02|18,000,300|  415,693,000|            1.092727|\n",
      "|      0x|Feb 05, 2018|    1.15|    1.16|0.735911|0.817119|16,094,600|  579,817,000|  1.5608959999999998|\n",
      "|      0x|Feb 04, 2018|    1.39|    1.39|    1.05|    1.15|13,450,500|  703,996,000|  2.6856189999999995|\n",
      "|      0x|Feb 03, 2018|     1.3|     1.5|    1.15|    1.39|14,554,900|  655,192,000|               3.375|\n",
      "|      0x|Feb 02, 2018|    1.61|    1.61|    1.05|     1.3|26,332,600|  807,909,000|   4.173281000000001|\n",
      "|      0x|Feb 01, 2018|    1.86|    1.93|    1.44|     1.6|30,422,600|  936,047,000|   7.189056999999999|\n",
      "|      0x|Jan 31, 2018|     1.6|    1.85|    1.52|    1.85|21,686,200|  802,529,000|   6.331625000000001|\n",
      "|      0x|Jan 30, 2018|    1.86|    1.86|    1.49|    1.59|18,317,000|  935,070,000|   6.434856000000001|\n",
      "|      0x|Jan 29, 2018|    1.98|     2.0|     1.8|    1.85|17,848,200|  991,505,000|                 8.0|\n",
      "|      0x|Jan 28, 2018|    2.09|    2.11|    1.96|    1.98|24,255,700|1,050,130,000|   9.393930999999998|\n",
      "|      0x|Jan 27, 2018|    2.01|    2.16|    1.96|    2.09|65,038,500|1,008,110,000|  10.077696000000001|\n",
      "+--------+------------+--------+--------+--------+--------+----------+-------------+--------------------+\n",
      "only showing top 20 rows\n",
      "\n"
     ]
    }
   ],
   "source": [
    "pw3.show()"
   ]
  },
  {
   "cell_type": "code",
   "execution_count": null,
   "metadata": {},
   "outputs": [],
   "source": [
    "import sys\n",
    "import traceback\n",
    "from pyspark.sql import SparkSession\n",
    "spark = SparkSession \\\n",
    "        .builder \\\n",
    "        .appName(\"Task_3\") \\\n",
    "        .getOrCreate()\n",
    "from numpy import array\n",
    "from math import sqrt\n",
    "from pyspark.mllib.clustering import KMeans, KMeansModel\n",
    "from pyspark.mllib.clustering import BisectingKMeans\n",
    "#from pyspark.mllib.clustering import GaussianMixture, GaussianMixtureModel\n",
    "\n",
    "\n",
    "def error(clusters,point):\n",
    "    center = clusters.centers[clusters.predict(point)]\n",
    "    return sqrt(sum([x**2 for x in (point - center)]))\n",
    "\n",
    "class optimalcluster(APIView):\n",
    "    def post(self, request):\n",
    "        try:\n",
    "            connections.close_all()\n",
    "            t1 = datetime.now()\n",
    "            data = request.data\n",
    "            module = data.get('module', 'da')\n",
    "            filename = data['filename']\n",
    "            username = data['username']\n",
    "            algorithm=data['algorithm']\n",
    "            stat = Statistics.objects.get(file_name=filename)\n",
    "            colmap = ast.literal_eval(stat.descriptive_stats)\n",
    "            for i in colmap:\n",
    "                if i['ignored'] == 'no':\n",
    "                    if i['missing_values'] != 0:\n",
    "                        return Response({\"status\": \"missingvalues\"})\n",
    "            spark_df = read_file(username, filename, module)\n",
    "            column = spark_df.columns\n",
    "            column = get_unignored(filename, column)  # actual columns in terms of c0,c1 after unignore\n",
    "            spark_df = spark_df.select(column)  # here the dataset will contain the columns which are unignored\n",
    "            catcols, numcols = find_numerical_categorical_columns(spark_df)\n",
    "            for catcol in catcols:\n",
    "                categories = []\n",
    "                x = spark_df.select(catcol).distinct().collect()\n",
    "                for y in x:\n",
    "                    categories.append(y[0])\n",
    "                categories.sort()\n",
    "                for k, category in enumerate(categories):\n",
    "                    function = udf(lambda item: 1 if item == category else 0, IntegerType())\n",
    "                    new_column_name = catcol + '_' + str(k)\n",
    "                    spark_df = spark_df.withColumn(new_column_name, function(col(catcol)))\n",
    "                spark_df = spark_df.drop(catcol)\n",
    "            spark_df.show()\n",
    "            df1=spark_df.rdd.map(list)\n",
    "            for x in df1.collect():\n",
    "                print(x)\n",
    "            #clusalgolist = [\"gm\", \"km\",\"bkm\"]\n",
    "            outputlist = []\n",
    "            if algorithm == \"KMeans\" or algorithm == \"GaussianMixture\":\n",
    "                for i in np.arange(2, 20):\n",
    "                    clusters = KMeans.train(df1, k=i)\n",
    "                    WCSS = df1.map(lambda point: error(clusters, point)).reduce(lambda x, y: x + y)\n",
    "                    print(i, WCSS)\n",
    "                    outputlist.append({\"X\": i, \"Y\": WCSS})\n",
    "            elif algorithm == \"BisectingKMeans\":\n",
    "                for i in np.arange(2, 20):\n",
    "                    model = BisectingKMeans.train(df1, k=i)\n",
    "                    cost = model.computeCost(df1)\n",
    "                    print(i, cost)\n",
    "                    outputlist.append({\"X\": i, \"Y\": cost})\n",
    "            print(outputlist)\n",
    "            return Response({\"status\": \"success\", \"algorithm\": algorithm, \"output\": outputlist})\n",
    "        except Exception as e:\n",
    "            traceback.print_exc()\n",
    "            return Response({\"status\": \"failure\", \"error\": str(e)})\n"
   ]
  }
 ],
 "metadata": {
  "kernelspec": {
   "display_name": "Python [conda env:root] *",
   "language": "python",
   "name": "conda-root-py"
  },
  "language_info": {
   "codemirror_mode": {
    "name": "ipython",
    "version": 3
   },
   "file_extension": ".py",
   "mimetype": "text/x-python",
   "name": "python",
   "nbconvert_exporter": "python",
   "pygments_lexer": "ipython3",
   "version": "3.7.3"
  }
 },
 "nbformat": 4,
 "nbformat_minor": 2
}
