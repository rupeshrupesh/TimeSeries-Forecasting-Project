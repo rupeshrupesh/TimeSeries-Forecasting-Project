{
 "cells": [
  {
   "cell_type": "code",
   "execution_count": 1,
   "metadata": {},
   "outputs": [],
   "source": [
    "import pandas as pd\n",
    "import numpy as np\n",
    "import warnings\n",
    "warnings.simplefilter('ignore')\n",
    "from pandas import read_csv\n",
    "import matplotlib.pyplot as plt\n",
    "import matplotlib.dates as mdates\n",
    "plt.style.use('Solarize_Light2')\n",
    "import seaborn as sns\n",
    "from datetime import datetime as dat, timedelta\n",
    "from pandas import datetime\n",
    "from dateutil.relativedelta import relativedelta\n",
    "import statsmodels as sm\n",
    "import statsmodels.api as sm  \n",
    "from statsmodels.tsa.seasonal import seasonal_decompose\n",
    "from statsmodels.tsa.stattools import adfuller\n",
    "from statsmodels.graphics.tsaplots import plot_acf, plot_pacf\n",
    "from statsmodels.tsa.api import ExponentialSmoothing, SimpleExpSmoothing, Holt\n",
    "from statsmodels.tsa.arima_model import ARIMA\n",
    "from statsmodels.tsa.statespace.sarimax import SARIMAX\n",
    "from pmdarima.arima import ADFTest\n",
    "from pmdarima.arima import auto_arima\n",
    "from statsmodels.tsa.vector_ar.var_model import VAR\n",
    "from statsmodels.tsa.statespace.varmax import VARMAX\n",
    "from math import sqrt\n",
    "from sklearn.metrics import mean_absolute_error\n",
    "from sklearn.metrics import mean_squared_error"
   ]
  },
  {
   "cell_type": "code",
   "execution_count": null,
   "metadata": {},
   "outputs": [],
   "source": [
    "def futureforecast(df,future_period,future_forecast,frequency):\n",
    "    future_dates=pd.date_range(start=str(df.index[-1]), periods=future_period+1, freq=frequency,closed='right')\n",
    "    if len(future_dates)== future_period:\n",
    "        print('Success')\n",
    "    else:\n",
    "        future_dates=pd.date_range(start=str(df.index[-1]), periods=future_period, freq=frequency,closed='right')\n",
    "    final_df = pd.DataFrame(future_forecast,columns=targetparameter)\n",
    "    final_df[date] = future_dates\n",
    "    final_df.set_index(date,inplace=True)\n",
    "    return final_df\n",
    "\n",
    "future_period=60 # frequency link provided below\n",
    "frequency='Y' #https://pandas.pydata.org/pandas-docs/stable/user_guide/timeseries.html#timeseries-offset-aliases\n",
    "final_df=futureforecast(df,future_period,future_forecast,frequency)\n",
    "print(final_df)"
   ]
  }
 ],
 "metadata": {
  "kernelspec": {
   "display_name": "Python 3",
   "language": "python",
   "name": "python3"
  },
  "language_info": {
   "codemirror_mode": {
    "name": "ipython",
    "version": 3
   },
   "file_extension": ".py",
   "mimetype": "text/x-python",
   "name": "python",
   "nbconvert_exporter": "python",
   "pygments_lexer": "ipython3",
   "version": "3.6.9"
  }
 },
 "nbformat": 4,
 "nbformat_minor": 2
}
