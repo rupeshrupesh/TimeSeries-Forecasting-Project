{
 "cells": [
  {
   "cell_type": "code",
   "execution_count": 1,
   "metadata": {},
   "outputs": [],
   "source": [
    "import pandas as pd\n",
    "import numpy as np\n",
    "import matplotlib.pyplot as plt\n",
    "import matplotlib as plt\n",
    "import matplotlib.dates as mdates\n",
    "plt.style.use('Solarize_Light2')\n",
    "import statsmodels.api as sm\n",
    "from statsmodels.tsa.seasonal import seasonal_decompose\n",
    "from statsmodels.tsa.stattools import adfuller"
   ]
  },
  {
   "cell_type": "code",
   "execution_count": null,
   "metadata": {},
   "outputs": [],
   "source": [
    "class timeseries_decompose(APIView):\n",
    "    def post(self, request):\n",
    "        #auth_keyword, token = get_authorization_header(request).split()\n",
    "        #token = token.decode(\"utf-8\")\n",
    "        #check = headercheck(token)\n",
    "        check = 'ok'\n",
    "        if check == 'ok':\n",
    "            pass\n",
    "        else:\n",
    "            return Response({\"status\": \"validation\", \"error\": \"user has been killed\"})\n",
    "        data = request.data\n",
    "        #file = request.FILES.get(\"File\")\n",
    "        path=data['path']\n",
    "        #analysis = data['analysis_name']\n",
    "        #filename = data['filename']\n",
    "        #version = data['version']\n",
    "        #username = data['username']\n",
    "        date = data['date']\n",
    "        try:\n",
    "            import numpy as np\n",
    "            #file = match_version(version, analysis, filename)\n",
    "            #data = read_file(file)  # spark data frame\n",
    "            #if str(type(data)) == \"<class 'str'>\":\n",
    "             #   data = read_file(filename)\n",
    "            #data = data.toPandas()\n",
    "            df=pd.read_csv(path)\n",
    "            #df=pd.DataFrame(targetparameter)\n",
    "            #df[date]=date\n",
    "            df[date] = pd.to_datetime(df[date])\n",
    "            df = df.sort_values(by=date)\n",
    "            df.set_index(date, inplace=True)\n",
    "            df=df.astype(float)\n",
    "            print(df.head())\n",
    "            decomposition = sm.tsa.seasonal_decompose(df, period=30)\n",
    "            trend = decomposition.trend\n",
    "            print(trend.head())\n",
    "            seasonal = decomposition.seasonal\n",
    "            print(seasonal.head( ))\n",
    "            residual = decomposition.resid\n",
    "            print(residual.head( ))\n",
    "            #trend,seasonal,residual=seasonal_decompose(df)\n",
    "            return Response({'status':'success'})\n",
    "\n",
    "        except Exception as e:\n",
    "            traceback.print_exc()\n",
    "            return Response({\"status\": \"failure\",\"error\":\"Please refer the logs in Logs->Container Log\"})\n",
    "\n",
    "\n",
    "\n",
    "def check_stationary(df,targetparameter,check_stationary_type, differencing):\n",
    "    if check_stationary_type == 'Rolling_statistics':\n",
    "        if differencing == 'no':\n",
    "            w = int(input('Enter Windowing Number:'))\n",
    "            df['rolling_mean'] = df[targetparameter].rolling(window=w).mean()\n",
    "            df['rolling_std'] = df[targetparameter].rolling(window=w).std()\n",
    "            return df.index ,df\n",
    "        elif differencing == 'yes':\n",
    "            w = int(input(' Enter Windowing Number:'))\n",
    "            s = int(input(' No.Of.Differencing Required:'))\n",
    "            df1 = df - df.shift(s)\n",
    "            df1['rolling_mean'] = df1[targetparameter].rolling(window=w).mean()\n",
    "            df1['rolling_std'] = df1[targetparameter].rolling(window=w).std()\n",
    "            return df1.index, df1\n",
    "\n",
    "    elif check_stationary_type == 'ADFTest':\n",
    "        if differencing == 'no':\n",
    "            dftest = adfuller(df[targetparameter], autolag='AIC')\n",
    "            print(type(dftest))\n",
    "            Test_stats = dftest[0]\n",
    "            P_value = dftest[1]\n",
    "            C_value = dftest[4]\n",
    "            test = pd.DataFrame([Test_stats, P_value, C_value], columns=[check_stationary_type])\n",
    "            return df,test\n",
    "\n",
    "        elif differencing == 'yes':\n",
    "            s = int(input('No.Of.Differencing Required:'))\n",
    "            df1 = df[targetparameter] - df[targetparameter].shift(s)\n",
    "            dftest = adfuller(df1.dropna( ), autolag='AIC')\n",
    "            Test_stats = dftest[0]\n",
    "            P_value = dftest[1]\n",
    "            C_value = dftest[4]\n",
    "            test = pd.DataFrame([Test_stats, P_value, C_value], columns=[check_stationary_type])\n",
    "            return df1,test\n",
    "    \n",
    "    elif check_stationary_type =='JohansenTest':\n",
    "        if differencing =='no':\n",
    "            det_order=int(input('Enter Det_order:')) # should be in -1 to 1 --> (-1,0,1)\n",
    "            #k_ar_diff =int(input('Enter Number of lagged differences in the model:')) # --> lag values\n",
    "            data=df[targetparameter]\n",
    "            joh_model = coint_johansen(data,det_order,0)\n",
    "            trace_stats = pd.DataFrame([joh_model.lr1],index=[\"trace_stat\"])\n",
    "            trace_stats=trace_stats.T\n",
    "            cvt=pd.DataFrame(joh_model.cvt,columns=['conf_interval_90%','conf_interval_95%','conf_interval_99%'])\n",
    "            return trace_stats,cvt\n",
    "        elif differencing =='yes':\n",
    "            det_order=int(input('Enter Det_order:')) # should be in -1 to 1 --> (-1,0,1)\n",
    "            k_ar_diff =int(input('Enter Number of lagged differences in the model:')) # --> lag values\n",
    "            data=df[targetparameter]\n",
    "            joh_model = coint_johansen(data,det_order,k_ar_diff)\n",
    "            trace_stats = pd.DataFrame([joh_model.lr1],index=[\"trace_stat\"])\n",
    "            trace_stats=trace_stats.T\n",
    "            cvt=pd.DataFrame(joh_model.cvt,columns=['conf_interval_90%','conf_interval_95%','conf_interval_99%'])\n",
    "            return trace_stats,cvt\n",
    "\n",
    "class timeseries_stationary(APIView):\n",
    "    def post(self,request):\n",
    "        #auth_keyword, token = get_authorization_header(request).split()\n",
    "        #token = token.decode(\"utf-8\")\n",
    "        #check = headercheck(token)\n",
    "        check ='ok'\n",
    "        if check == 'ok':\n",
    "            pass\n",
    "        else:\n",
    "            return Response({\"status\": \"validation\", \"error\": \"user has been killed\"})\n",
    "        data = request.data\n",
    "        path=data['path']\n",
    "        date=data['date']\n",
    "        targetparameter = data['targetparameter']\n",
    "        check_stationary_type = data['check_stationary_type']\n",
    "        differencing = data['differencing']\n",
    "        try:\n",
    "            import numpy as np\n",
    "            #file = match_version(version, analysis, filename)\n",
    "            #data = read_file(file)  # spark data frame\n",
    "            #if str(type(data)) == \"<class 'str'>\":\n",
    "             #   data = read_file(filename)\n",
    "            #data = data.toPandas()\n",
    "            df=pd.read_csv(path)\n",
    "            df[date] = pd.to_datetime(df[date])\n",
    "            df[targetparameter] = df[targetparameter].astype(float)\n",
    "            df = df.sort_values(by=date)\n",
    "            df.set_index(date, inplace=True)\n",
    "            df,output=check_stationary(df,targetparameter,check_stationary_type,differencing)\n",
    "            print(df)\n",
    "            print(output)\n",
    "            return Response({'status':'success'})\n",
    "        except Exception as e:\n",
    "            traceback.print_exc()\n",
    "            return Response({\"status\": \"failure\",\"error\":\"Please refer the logs in Logs->Container Log\"})\n",
    "\n",
    "def acf_pacf_datapoints(df):\n",
    "    acf=sm.graphics.tsa.acf(df,alpha=0.05)\n",
    "    alag=pd.DataFrame(acf[0],columns=['acf_lag'])\n",
    "    acf_conf=acf[1]-acf[0][:,None]\n",
    "    acf_conf=pd.DataFrame(acf_conf,columns=['min','max'])\n",
    "    \n",
    "    pacf=sm.graphics.tsa.pacf(df,alpha=0.05)\n",
    "    palag=pd.DataFrame(pacf[0],columns=['pacf_lag'])\n",
    "    pacf_conf=pacf[1]-pacf[0][:,None]\n",
    "    pacf_conf=pd.DataFrame(pacf_conf,columns=['min','max'])\n",
    "    return alag,acf_conf,palag,pacf_conf\n",
    "\n",
    "class acf_pacf_plot(APIView):\n",
    "    def post(self,request):\n",
    "        #auth_keyword, token = get_authorization_header(request).split()\n",
    "        #token = token.decode(\"utf-8\")\n",
    "        #check = headercheck(token)\n",
    "        check ='ok'\n",
    "        if check == 'ok':\n",
    "            pass\n",
    "        else:\n",
    "            return Response({\"status\": \"validation\", \"error\": \"user has been killed\"})\n",
    "        data=request.data\n",
    "        #analysis = data['analysis_name']\n",
    "        #filename = data['filename']\n",
    "        #version = data['version']\n",
    "        #username = data['username']\n",
    "        path=data['path']\n",
    "        date = data['date']\n",
    "        targetparameter = data['targetparameter']\n",
    "        try:\n",
    "            import numpy as np\n",
    "            #file = match_version(version, analysis, filename)\n",
    "            #data = read_file(file)  # spark data frame\n",
    "            #if str(type(data)) == \"<class 'str'>\":\n",
    "             #   data = read_file(filename)\n",
    "            #data = data.toPandas()\n",
    "            df=pd.read_csv(path)\n",
    "            df[date] = pd.to_datetime(df[date])\n",
    "            df[targetparameter] = df[targetparameter].astype(float)\n",
    "            df = df.sort_values(by=date)\n",
    "            df.set_index(date, inplace=True)\n",
    "            alag,acf_conf,palag,pacf_conf=acf_pacf_datapoints(df)\n",
    "            print(alag)\n",
    "            print(palag)\n",
    "            return Response({'status':'success'})\n"
   ]
  },
  {
   "cell_type": "code",
   "execution_count": 7,
   "metadata": {},
   "outputs": [],
   "source": [
    "from statsmodels.graphics.tsaplots import acf, pacf"
   ]
  },
  {
   "cell_type": "code",
   "execution_count": 24,
   "metadata": {},
   "outputs": [
    {
     "name": "stderr",
     "output_type": "stream",
     "text": [
      "/usr/local/lib/python3.6/dist-packages/statsmodels/tsa/stattools.py:572: FutureWarning: fft=True will become the default in a future version of statsmodels. To suppress this warning, explicitly set fft=False.\n",
      "  FutureWarning\n"
     ]
    },
    {
     "name": "stdout",
     "output_type": "stream",
     "text": [
      "    acf_lag\n",
      "0  1.000000\n",
      "1  0.774268\n",
      "2  0.630287\n",
      "3  0.585293\n",
      "4  0.577746\n",
      "        min       max\n",
      "0  0.000000  0.000000\n",
      "1 -0.032442  0.032442\n",
      "2 -0.048107  0.048107\n",
      "3 -0.056130  0.056130\n",
      "4 -0.062222  0.062222\n",
      "   pacf_lag\n",
      "0  1.000000\n",
      "1  0.774480\n",
      "2  0.076997\n",
      "3  0.189378\n",
      "4  0.152077\n",
      "        min       max\n",
      "0  0.000000  0.000000\n",
      "1 -0.032442  0.032442\n",
      "2 -0.032442  0.032442\n",
      "3 -0.032442  0.032442\n",
      "4 -0.032442  0.032442\n"
     ]
    }
   ],
   "source": [
    "def acf_pacf_datapoints(df):\n",
    "    acf=sm.graphics.tsa.acf(df,alpha=0.05)\n",
    "    alag=pd.DataFrame(acf[0],columns=['acf_lag'])\n",
    "    print(alag.head())\n",
    "    acf_conf=acf[1]-acf[0][:,None]\n",
    "    acf_conf=pd.DataFrame(acf_conf,columns=['min','max'])\n",
    "    print(acf_conf.head())\n",
    "    \n",
    "    \n",
    "    pacf=sm.graphics.tsa.pacf(df,alpha=0.05)\n",
    "    palag=pd.DataFrame(pacf[0],columns=['pacf_lag'])\n",
    "    print(palag.head())\n",
    "    pacf_conf=pacf[1]-pacf[0][:,None]\n",
    "    pacf_conf=pd.DataFrame(pacf_conf,columns=['min','max'])\n",
    "    print(pacf_conf.head())\n",
    "    return alag,acf_conf,palag,pacf_conf\n",
    "alag,acf_conf,palag,pacf_conf=acf_pacf_datapoints(df)"
   ]
  },
  {
   "cell_type": "code",
   "execution_count": 25,
   "metadata": {},
   "outputs": [
    {
     "data": {
      "text/plain": [
       "[<matplotlib.lines.Line2D at 0x7f5c6b2c3780>,\n",
       " <matplotlib.lines.Line2D at 0x7f5c6b27e2b0>]"
      ]
     },
     "execution_count": 25,
     "metadata": {},
     "output_type": "execute_result"
    },
    {
     "data": {
      "image/png": "[encoded data removed]",
      "text/plain": [
       "<Figure size 432x288 with 1 Axes>"
      ]
     },
     "metadata": {},
     "output_type": "display_data"
    }
   ],
   "source": [
    "import matplotlib.pyplot as plt\n",
    "plt.plot(alag)\n",
    "plt.plot(acf_conf)"
   ]
  },
  {
   "cell_type": "code",
   "execution_count": 26,
   "metadata": {},
   "outputs": [
    {
     "data": {
      "text/plain": [
       "[<matplotlib.lines.Line2D at 0x7f5c6b27e860>,\n",
       " <matplotlib.lines.Line2D at 0x7f5c6b1ed860>]"
      ]
     },
     "execution_count": 26,
     "metadata": {},
     "output_type": "execute_result"
    },
    {
     "data": {
      "image/png": "[encoded data removed]",
      "text/plain": [
       "<Figure size 432x288 with 1 Axes>"
      ]
     },
     "metadata": {},
     "output_type": "display_data"
    }
   ],
   "source": [
    "plt.plot(palag)\n",
    "plt.plot(pacf_conf)"
   ]
  },
  {
   "cell_type": "code",
   "execution_count": null,
   "metadata": {},
   "outputs": [],
   "source": []
  }
 ],
 "metadata": {
  "kernelspec": {
   "display_name": "Python 3",
   "language": "python",
   "name": "python3"
  },
  "language_info": {
   "codemirror_mode": {
    "name": "ipython",
    "version": 3
   },
   "file_extension": ".py",
   "mimetype": "text/x-python",
   "name": "python",
   "nbconvert_exporter": "python",
   "pygments_lexer": "ipython3",
   "version": "3.6.9"
  }
 },
 "nbformat": 4,
 "nbformat_minor": 2
}
