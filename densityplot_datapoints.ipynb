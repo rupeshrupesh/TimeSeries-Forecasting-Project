{
 "cells": [
  {
   "cell_type": "code",
   "execution_count": 1,
   "metadata": {},
   "outputs": [],
   "source": [
    "import os\n",
    "SPARK_HOME=\"/opt/spark\"\n",
    "# os.environ[\"PYSPARK_PYTHON\"] = \"python3\"\n",
    "os.environ[\"PYSPARK_PYTHON\"]=\"python\"\n",
    "os.environ[\"PYSPARK_DRIVER_PYTHON\"]=\"jupyter\"\n",
    "os.environ[\"PYSPARK_DRIVER_PYTHON_OPTS\"]=\"notebook\"\n",
    "os.environ[\"SPARK_HOME\"] = SPARK_HOME\n",
    "os.environ[\"SPARK_CLASSPATH\"] = \"/opt/spark/jars/sqljdbc4.jar\"\n",
    "\n",
    "from pyspark.sql import SparkSession\n",
    "spark = SparkSession \\\n",
    "        .builder \\\n",
    "        .appName(\"density_plot\") \\\n",
    "        .getOrCreate()"
   ]
  },
  {
   "cell_type": "code",
   "execution_count": 2,
   "metadata": {},
   "outputs": [],
   "source": [
    "#from pyspark.sql import SQLContext\n",
    "# sqlContext = SQLContext(spark)\n",
    "from pyspark.sql.functions import *\n",
    "from pyspark.sql.types import *"
   ]
  },
  {
   "cell_type": "code",
   "execution_count": 3,
   "metadata": {},
   "outputs": [
    {
     "name": "stdout",
     "output_type": "stream",
     "text": [
      "root\n",
      " |-- Month: string (nullable = true)\n",
      " |-- Monthly beer production: double (nullable = true)\n",
      "\n",
      "+-------+-----------------------+\n",
      "|  Month|Monthly beer production|\n",
      "+-------+-----------------------+\n",
      "|1956-01|                   93.2|\n",
      "|1956-02|                   96.0|\n",
      "|1956-03|                   95.2|\n",
      "|1956-04|                   77.1|\n",
      "|1956-05|                   70.9|\n",
      "|1956-06|                   64.8|\n",
      "|1956-07|                   70.1|\n",
      "|1956-08|                   77.3|\n",
      "|1956-09|                   79.5|\n",
      "|1956-10|                  100.6|\n",
      "|1956-11|                  100.7|\n",
      "|1956-12|                  107.1|\n",
      "|1957-01|                   95.9|\n",
      "|1957-02|                   82.8|\n",
      "|1957-03|                   83.3|\n",
      "|1957-04|                   80.0|\n",
      "|1957-05|                   80.4|\n",
      "|1957-06|                   67.5|\n",
      "|1957-07|                   75.7|\n",
      "|1957-08|                   71.1|\n",
      "+-------+-----------------------+\n",
      "only showing top 20 rows\n",
      "\n"
     ]
    }
   ],
   "source": [
    "df_path = \"/home/rupeshr/Desktop/TSA_Python/dataset/time series dataset/archive/monthly-beer-production-in-austr.csv\"\n",
    "df =spark.read.format(\"com.databricks.spark.csv\")\\\n",
    "                    .option(\"multiline\", \"true\")\\\n",
    "                    .option(\"header\", \"true\")\\\n",
    "                    .option(\"inferSchema\", \"true\")\\\n",
    "                    .option(\"sep\", ',')\\\n",
    "                    .option('escape', '\\\"')\\\n",
    "                    .option(\"allowSingleQuotes\", \"true\")\\\n",
    "                    .option(\"ignoreLeadingWhiteSpace\", \"true\")\\\n",
    "                    .option(\"ignoreTrailingWhiteSpace\", \"true\")\\\n",
    "                    .load(df_path)\n",
    "df.printSchema()\n",
    "df.show()"
   ]
  },
  {
   "cell_type": "code",
   "execution_count": 63,
   "metadata": {},
   "outputs": [
    {
     "name": "stdout",
     "output_type": "stream",
     "text": [
      "+--------------------+\n",
      "|       density_curve|\n",
      "+--------------------+\n",
      "|4.248306482665734E-6|\n",
      "|6.019157106646605E-6|\n",
      "|9.334901435254297E-6|\n",
      "|1.480827098717090...|\n",
      "|2.334032986373978...|\n",
      "| 3.61683592249298E-5|\n",
      "|5.490787439830103...|\n",
      "| 8.15772579401174E-5|\n",
      "|1.185918762533029...|\n",
      "|1.687148840553119...|\n",
      "|2.349549578326221...|\n",
      "|3.204073049911373...|\n",
      "|4.280431786415455E-4|\n",
      "|5.604636600973992E-4|\n",
      "|7.196437124751959E-4|\n",
      "|9.067000032420723E-4|\n",
      "|0.001121718317580003|\n",
      "|0.001363671839721...|\n",
      "|0.001630449839000...|\n",
      "|0.001918998785014...|\n",
      "+--------------------+\n",
      "only showing top 20 rows\n",
      "\n"
     ]
    },
    {
     "data": {
      "image/png": "[encoded data removed]",
      "text/plain": [
       "<Figure size 432x288 with 1 Axes>"
      ]
     },
     "metadata": {
      "needs_background": "light"
     },
     "output_type": "display_data"
    }
   ],
   "source": [
    "import pandas as pd\n",
    "from pyspark.sql.types import *\n",
    "from pyspark.sql import Window\n",
    "# Auxiliary functions\n",
    "# Pandas Types -> Spark Types\n",
    "#from edge.stats.sparksession import spark_session\n",
    "\n",
    "def equivalent_type(f):\n",
    "    if f == 'datetime64[ns]': return DateType()\n",
    "    elif f == 'int64': return LongType()\n",
    "    elif f == 'int32': return IntegerType()\n",
    "    elif f == 'float64': return DoubleType()\n",
    "    else: return StringType()\n",
    "def define_structure(string, format_type):\n",
    "    try: typo = equivalent_type(format_type)\n",
    "    except: typo = StringType()\n",
    "    return StructField(string, typo)\n",
    "# Converts pandas dataframe to spark dataframe\n",
    "def pandas_to_spark(df_pandas):\n",
    "    sqlContext = spark\n",
    "    columns = list(df_pandas.columns)\n",
    "    types = list(df_pandas.dtypes)\n",
    "    struct_list = []\n",
    "    for column, typo in zip(columns, types):\n",
    "        struct_list.append(define_structure(column, typo))\n",
    "    p_schema = StructType(struct_list)\n",
    "    return sqlContext.createDataFrame(df_pandas, p_schema)\n",
    "\n",
    "def densityplotdata(df, column):\n",
    "    for i in df.columns:\n",
    "        if i in column:\n",
    "            s = df.select(i).dtypes[0]\n",
    "            if s[1] == \"int\" or s[1] == \"float\" or s[1] == \"double\" or s[1] == \"bigint\" or s[1] == \"long\":\n",
    "                temp_df=df.select(i).toPandas()\n",
    "                for idx, var in enumerate(list(temp_df)):\n",
    "                    myPlot = sns.distplot(temp_df[var])\n",
    "                    lines2D = [obj for obj in myPlot.findobj() if str(type(obj)) == \"<class 'matplotlib.lines.Line2D'>\"]\n",
    "                    x, y = lines2D[idx].get_data()[0], lines2D[idx].get_data()[1]\n",
    "                    data=pd.DataFrame({'density_curve':y})\n",
    "                temp_df=pandas_to_spark(data)\n",
    "                return temp_df\n",
    "                    \n",
    "                \n",
    "data=densityplotdata(df,'Monthly beer production') # to get curve data points\n",
    "data.show()"
   ]
  },
  {
   "cell_type": "code",
   "execution_count": null,
   "metadata": {},
   "outputs": [],
   "source": []
  }
 ],
 "metadata": {
  "kernelspec": {
   "display_name": "Python [conda env:root] *",
   "language": "python",
   "name": "conda-root-py"
  },
  "language_info": {
   "codemirror_mode": {
    "name": "ipython",
    "version": 3
   },
   "file_extension": ".py",
   "mimetype": "text/x-python",
   "name": "python",
   "nbconvert_exporter": "python",
   "pygments_lexer": "ipython3",
   "version": "3.7.3"
  }
 },
 "nbformat": 4,
 "nbformat_minor": 2
}
