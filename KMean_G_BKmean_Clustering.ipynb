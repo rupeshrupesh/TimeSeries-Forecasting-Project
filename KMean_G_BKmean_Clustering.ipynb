{
 "cells": [
  {
   "cell_type": "code",
   "execution_count": 1,
   "metadata": {},
   "outputs": [],
   "source": [
    "import os\n",
    "SPARK_HOME=\"/opt/spark\"\n",
    "os.environ[\"PYSPARK_PYTHON\"] = \"python3\"\n",
    "# os.environ[\"PYSPARK_PYTHON\"]=\"python\"\n",
    "os.environ[\"PYSPARK_DRIVER_PYTHON\"]=\"jupyter\"\n",
    "os.environ[\"PYSPARK_DRIVER_PYTHON_OPTS\"]=\"notebook\"\n",
    "os.environ[\"SPARK_HOME\"] = SPARK_HOME\n",
    "os.environ[\"SPARK_CLASSPATH\"] = \"/opt/spark/jars/sqljdbc4.jar\"\n",
    "\n",
    " \n",
    "\n",
    "from pyspark.sql import SparkSession\n",
    "spark = SparkSession \\\n",
    "        .builder \\\n",
    "        .appName(\"Kmeans_Clustering\") \\\n",
    "        .getOrCreate()"
   ]
  },
  {
   "cell_type": "code",
   "execution_count": 2,
   "metadata": {},
   "outputs": [],
   "source": [
    "from pyspark.sql import SQLContext\n",
    "from pyspark.ml.clustering import KMeans\n",
    "from pyspark.ml.feature import VectorAssembler\n",
    "from pyspark.ml.feature import StandardScaler\n",
    "from notebook import utils\n",
    "%matplotlib inline"
   ]
  },
  {
   "cell_type": "code",
   "execution_count": 2,
   "metadata": {},
   "outputs": [
    {
     "name": "stdout",
     "output_type": "stream",
     "text": [
      "+------------------+----------------------+\n",
      "|Annual Income (k$)|Spending Score (1-100)|\n",
      "+------------------+----------------------+\n",
      "|                15|                    39|\n",
      "|                15|                    81|\n",
      "|                16|                     6|\n",
      "|                16|                    77|\n",
      "|                17|                    40|\n",
      "|                17|                    76|\n",
      "|                18|                     6|\n",
      "|                18|                    94|\n",
      "|                19|                     3|\n",
      "|                19|                    72|\n",
      "|                19|                    14|\n",
      "|                19|                    99|\n",
      "|                20|                    15|\n",
      "|                20|                    77|\n",
      "|                20|                    13|\n",
      "|                20|                    79|\n",
      "|                21|                    35|\n",
      "|                21|                    66|\n",
      "|                23|                    29|\n",
      "|                23|                    98|\n",
      "+------------------+----------------------+\n",
      "only showing top 20 rows\n",
      "\n"
     ]
    }
   ],
   "source": [
    "df_path = \"/home/rupeshr/Desktop/TSA_Python/cluster.csv\"\n",
    "df = spark.read.format(\"com.databricks.spark.csv\").option(\"header\", \"true\").option(\"inferSchema\", \"true\").load(df_path)\n",
    "df.show()"
   ]
  },
  {
   "cell_type": "code",
   "execution_count": 4,
   "metadata": {},
   "outputs": [
    {
     "data": {
      "text/plain": [
       "200"
      ]
     },
     "execution_count": 4,
     "metadata": {},
     "output_type": "execute_result"
    }
   ],
   "source": [
    "df.count() "
   ]
  },
  {
   "cell_type": "code",
   "execution_count": 3,
   "metadata": {},
   "outputs": [
    {
     "data": {
      "text/html": [
       "<div>\n",
       "<style scoped>\n",
       "    .dataframe tbody tr th:only-of-type {\n",
       "        vertical-align: middle;\n",
       "    }\n",
       "\n",
       "    .dataframe tbody tr th {\n",
       "        vertical-align: top;\n",
       "    }\n",
       "\n",
       "    .dataframe thead th {\n",
       "        text-align: right;\n",
       "    }\n",
       "</style>\n",
       "<table border=\"1\" class=\"dataframe\">\n",
       "  <thead>\n",
       "    <tr style=\"text-align: right;\">\n",
       "      <th></th>\n",
       "      <th>0</th>\n",
       "      <th>1</th>\n",
       "      <th>2</th>\n",
       "      <th>3</th>\n",
       "      <th>4</th>\n",
       "    </tr>\n",
       "  </thead>\n",
       "  <tbody>\n",
       "    <tr>\n",
       "      <th>summary</th>\n",
       "      <td>count</td>\n",
       "      <td>mean</td>\n",
       "      <td>stddev</td>\n",
       "      <td>min</td>\n",
       "      <td>max</td>\n",
       "    </tr>\n",
       "    <tr>\n",
       "      <th>Annual Income (k$)</th>\n",
       "      <td>200</td>\n",
       "      <td>60.56</td>\n",
       "      <td>26.26472116527124</td>\n",
       "      <td>15</td>\n",
       "      <td>137</td>\n",
       "    </tr>\n",
       "    <tr>\n",
       "      <th>Spending Score (1-100)</th>\n",
       "      <td>200</td>\n",
       "      <td>50.2</td>\n",
       "      <td>25.823521668370173</td>\n",
       "      <td>1</td>\n",
       "      <td>99</td>\n",
       "    </tr>\n",
       "  </tbody>\n",
       "</table>\n",
       "</div>"
      ],
      "text/plain": [
       "                            0      1                   2    3    4\n",
       "summary                 count   mean              stddev  min  max\n",
       "Annual Income (k$)        200  60.56   26.26472116527124   15  137\n",
       "Spending Score (1-100)    200   50.2  25.823521668370173    1   99"
      ]
     },
     "execution_count": 3,
     "metadata": {},
     "output_type": "execute_result"
    }
   ],
   "source": [
    "df.describe().toPandas().transpose()"
   ]
  },
  {
   "cell_type": "code",
   "execution_count": 25,
   "metadata": {},
   "outputs": [
    {
     "name": "stdout",
     "output_type": "stream",
     "text": [
      "+------------------+----------------------+\n",
      "|Annual Income (k$)|Spending Score (1-100)|\n",
      "+------------------+----------------------+\n",
      "|                15|                    39|\n",
      "|                15|                    81|\n",
      "|                16|                     6|\n",
      "|                16|                    77|\n",
      "|                17|                    40|\n",
      "|                17|                    76|\n",
      "|                18|                     6|\n",
      "|                18|                    94|\n",
      "|                19|                     3|\n",
      "|                19|                    72|\n",
      "|                19|                    14|\n",
      "|                19|                    99|\n",
      "|                20|                    15|\n",
      "|                20|                    77|\n",
      "|                20|                    13|\n",
      "|                20|                    79|\n",
      "|                21|                    35|\n",
      "|                21|                    66|\n",
      "|                23|                    29|\n",
      "|                23|                    98|\n",
      "+------------------+----------------------+\n",
      "only showing top 20 rows\n",
      "\n"
     ]
    }
   ],
   "source": [
    "workingdf=df.drop('Genre').drop('Age').drop('CustomerID')\n",
    "workingdf.show()"
   ]
  },
  {
   "cell_type": "code",
   "execution_count": 40,
   "metadata": {},
   "outputs": [
    {
     "data": {
      "text/plain": [
       "['Annual Income (k$)', 'Spending Score (1-100)']"
      ]
     },
     "execution_count": 40,
     "metadata": {},
     "output_type": "execute_result"
    }
   ],
   "source": [
    "workingdf.columns"
   ]
  },
  {
   "cell_type": "code",
   "execution_count": 46,
   "metadata": {},
   "outputs": [
    {
     "name": "stdout",
     "output_type": "stream",
     "text": [
      "+------------------+----------------------+----------------+\n",
      "|Annual Income (k$)|Spending Score (1-100)|feature_unscaled|\n",
      "+------------------+----------------------+----------------+\n",
      "|                15|                    39|     [15.0,39.0]|\n",
      "|                15|                    81|     [15.0,81.0]|\n",
      "|                16|                     6|      [16.0,6.0]|\n",
      "|                16|                    77|     [16.0,77.0]|\n",
      "|                17|                    40|     [17.0,40.0]|\n",
      "|                17|                    76|     [17.0,76.0]|\n",
      "|                18|                     6|      [18.0,6.0]|\n",
      "|                18|                    94|     [18.0,94.0]|\n",
      "|                19|                     3|      [19.0,3.0]|\n",
      "|                19|                    72|     [19.0,72.0]|\n",
      "|                19|                    14|     [19.0,14.0]|\n",
      "|                19|                    99|     [19.0,99.0]|\n",
      "|                20|                    15|     [20.0,15.0]|\n",
      "|                20|                    77|     [20.0,77.0]|\n",
      "|                20|                    13|     [20.0,13.0]|\n",
      "|                20|                    79|     [20.0,79.0]|\n",
      "|                21|                    35|     [21.0,35.0]|\n",
      "|                21|                    66|     [21.0,66.0]|\n",
      "|                23|                    29|     [23.0,29.0]|\n",
      "|                23|                    98|     [23.0,98.0]|\n",
      "+------------------+----------------------+----------------+\n",
      "only showing top 20 rows\n",
      "\n"
     ]
    }
   ],
   "source": [
    "featureUsed=['Annual Income (k$)', 'Spending Score (1-100)']\n",
    "assembler=VectorAssembler(inputCols=featureUsed, outputCol='feature_unscaled')\n",
    "assembled=assembler.transform(workingdf)\n",
    "assembled.show()"
   ]
  },
  {
   "cell_type": "code",
   "execution_count": 47,
   "metadata": {},
   "outputs": [],
   "source": [
    "from pyspark.ml.feature import PCA\n",
    "pca = PCA(k=2, inputCol=\"feature_unscaled\", outputCol=\"pcaFeatures\")\n",
    "model = pca.fit(assembled)\n",
    "result = model.transform(assembled)"
   ]
  },
  {
   "cell_type": "code",
   "execution_count": 48,
   "metadata": {},
   "outputs": [
    {
     "name": "stdout",
     "output_type": "stream",
     "text": [
      "+------------------+----------------------+----------------+--------------------+\n",
      "|Annual Income (k$)|Spending Score (1-100)|feature_unscaled|         pcaFeatures|\n",
      "+------------------+----------------------+----------------+--------------------+\n",
      "|                15|                    39|     [15.0,39.0]|[-24.673378469271...|\n",
      "|                15|                    81|     [15.0,81.0]|[-35.652563181047...|\n",
      "|                16|                     6|      [16.0,6.0]|[-17.012104278193...|\n",
      "|                16|                    77|     [16.0,77.0]|[-35.572154624291...|\n",
      "|                17|                    40|     [17.0,40.0]|[-26.865243793997...|\n",
      "|                17|                    76|     [17.0,76.0]|[-36.275973546947...|\n",
      "|                18|                     6|      [18.0,6.0]|[-18.942560443115...|\n",
      "|                18|                    94|     [18.0,94.0]|[-41.946566505883...|\n",
      "|                19|                     3|      [19.0,3.0]|[-19.123561046162...|\n",
      "|                19|                    72|     [19.0,72.0]|[-37.160793072652...|\n",
      "|                19|                    14|     [19.0,14.0]|[-21.999061804009...|\n",
      "|                19|                    99|     [19.0,99.0]|[-44.218840387365...|\n",
      "|                20|                    15|     [20.0,15.0]|[-23.225699046273...|\n",
      "|                20|                    77|     [20.0,77.0]|[-39.433066954133...|\n",
      "|                20|                    13|     [20.0,13.0]|[-22.702880726665...|\n",
      "|                20|                    79|     [20.0,79.0]|[-39.955885273742...|\n",
      "|                21|                    35|     [21.0,35.0]|[-29.419110324818...|\n",
      "|                21|                    66|     [21.0,66.0]|[-37.522794278748...|\n",
      "|                23|                    29|     [23.0,29.0]|[-29.781111530914...|\n",
      "|                23|                    98|     [23.0,98.0]|[-47.818343557403...|\n",
      "+------------------+----------------------+----------------+--------------------+\n",
      "only showing top 20 rows\n",
      "\n"
     ]
    }
   ],
   "source": [
    "result.show()"
   ]
  },
  {
   "cell_type": "code",
   "execution_count": 6,
   "metadata": {},
   "outputs": [],
   "source": [
    "rdd=df.rdd.map(list)"
   ]
  },
  {
   "cell_type": "code",
   "execution_count": 4,
   "metadata": {},
   "outputs": [],
   "source": [
    "from numpy import array\n",
    "from math import sqrt\n",
    "\n",
    "from pyspark.mllib.clustering import KMeans, KMeansModel"
   ]
  },
  {
   "cell_type": "code",
   "execution_count": 5,
   "metadata": {},
   "outputs": [
    {
     "name": "stdout",
     "output_type": "stream",
     "text": [
      "[15, 39]\n",
      "[15, 81]\n",
      "[16, 6]\n",
      "[16, 77]\n",
      "[17, 40]\n",
      "[17, 76]\n",
      "[18, 6]\n",
      "[18, 94]\n",
      "[19, 3]\n",
      "[19, 72]\n",
      "[19, 14]\n",
      "[19, 99]\n",
      "[20, 15]\n",
      "[20, 77]\n",
      "[20, 13]\n",
      "[20, 79]\n",
      "[21, 35]\n",
      "[21, 66]\n",
      "[23, 29]\n",
      "[23, 98]\n",
      "[24, 35]\n",
      "[24, 73]\n",
      "[25, 5]\n",
      "[25, 73]\n",
      "[28, 14]\n",
      "[28, 82]\n",
      "[28, 32]\n",
      "[28, 61]\n",
      "[29, 31]\n",
      "[29, 87]\n",
      "[30, 4]\n",
      "[30, 73]\n",
      "[33, 4]\n",
      "[33, 92]\n",
      "[33, 14]\n",
      "[33, 81]\n",
      "[34, 17]\n",
      "[34, 73]\n",
      "[37, 26]\n",
      "[37, 75]\n",
      "[38, 35]\n",
      "[38, 92]\n",
      "[39, 36]\n",
      "[39, 61]\n",
      "[39, 28]\n",
      "[39, 65]\n",
      "[40, 55]\n",
      "[40, 47]\n",
      "[40, 42]\n",
      "[40, 42]\n",
      "[42, 52]\n",
      "[42, 60]\n",
      "[43, 54]\n",
      "[43, 60]\n",
      "[43, 45]\n",
      "[43, 41]\n",
      "[44, 50]\n",
      "[44, 46]\n",
      "[46, 51]\n",
      "[46, 46]\n",
      "[46, 56]\n",
      "[46, 55]\n",
      "[47, 52]\n",
      "[47, 59]\n",
      "[48, 51]\n",
      "[48, 59]\n",
      "[48, 50]\n",
      "[48, 48]\n",
      "[48, 59]\n",
      "[48, 47]\n",
      "[49, 55]\n",
      "[49, 42]\n",
      "[50, 49]\n",
      "[50, 56]\n",
      "[54, 47]\n",
      "[54, 54]\n",
      "[54, 53]\n",
      "[54, 48]\n",
      "[54, 52]\n",
      "[54, 42]\n",
      "[54, 51]\n",
      "[54, 55]\n",
      "[54, 41]\n",
      "[54, 44]\n",
      "[54, 57]\n",
      "[54, 46]\n",
      "[57, 58]\n",
      "[57, 55]\n",
      "[58, 60]\n",
      "[58, 46]\n",
      "[59, 55]\n",
      "[59, 41]\n",
      "[60, 49]\n",
      "[60, 40]\n",
      "[60, 42]\n",
      "[60, 52]\n",
      "[60, 47]\n",
      "[60, 50]\n",
      "[61, 42]\n",
      "[61, 49]\n",
      "[62, 41]\n",
      "[62, 48]\n",
      "[62, 59]\n",
      "[62, 55]\n",
      "[62, 56]\n",
      "[62, 42]\n",
      "[63, 50]\n",
      "[63, 46]\n",
      "[63, 43]\n",
      "[63, 48]\n",
      "[63, 52]\n",
      "[63, 54]\n",
      "[64, 42]\n",
      "[64, 46]\n",
      "[65, 48]\n",
      "[65, 50]\n",
      "[65, 43]\n",
      "[65, 59]\n",
      "[67, 43]\n",
      "[67, 57]\n",
      "[67, 56]\n",
      "[67, 40]\n",
      "[69, 58]\n",
      "[69, 91]\n",
      "[70, 29]\n",
      "[70, 77]\n",
      "[71, 35]\n",
      "[71, 95]\n",
      "[71, 11]\n",
      "[71, 75]\n",
      "[71, 9]\n",
      "[71, 75]\n",
      "[72, 34]\n",
      "[72, 71]\n",
      "[73, 5]\n",
      "[73, 88]\n",
      "[73, 7]\n",
      "[73, 73]\n",
      "[74, 10]\n",
      "[74, 72]\n",
      "[75, 5]\n",
      "[75, 93]\n",
      "[76, 40]\n",
      "[76, 87]\n",
      "[77, 12]\n",
      "[77, 97]\n",
      "[77, 36]\n",
      "[77, 74]\n",
      "[78, 22]\n",
      "[78, 90]\n",
      "[78, 17]\n",
      "[78, 88]\n",
      "[78, 20]\n",
      "[78, 76]\n",
      "[78, 16]\n",
      "[78, 89]\n",
      "[78, 1]\n",
      "[78, 78]\n",
      "[78, 1]\n",
      "[78, 73]\n",
      "[79, 35]\n",
      "[79, 83]\n",
      "[81, 5]\n",
      "[81, 93]\n",
      "[85, 26]\n",
      "[85, 75]\n",
      "[86, 20]\n",
      "[86, 95]\n",
      "[87, 27]\n",
      "[87, 63]\n",
      "[87, 13]\n",
      "[87, 75]\n",
      "[87, 10]\n",
      "[87, 92]\n",
      "[88, 13]\n",
      "[88, 86]\n",
      "[88, 15]\n",
      "[88, 69]\n",
      "[93, 14]\n",
      "[93, 90]\n",
      "[97, 32]\n",
      "[97, 86]\n",
      "[98, 15]\n",
      "[98, 88]\n",
      "[99, 39]\n",
      "[99, 97]\n",
      "[101, 24]\n",
      "[101, 68]\n",
      "[103, 17]\n",
      "[103, 85]\n",
      "[103, 23]\n",
      "[103, 69]\n",
      "[113, 8]\n",
      "[113, 91]\n",
      "[120, 16]\n",
      "[120, 79]\n",
      "[126, 28]\n",
      "[126, 74]\n",
      "[137, 18]\n",
      "[137, 83]\n"
     ]
    }
   ],
   "source": [
    "rdd = df.rdd.map(list)\n",
    "for x in rdd.collect():\n",
    "    print(x)"
   ]
  },
  {
   "cell_type": "code",
   "execution_count": 8,
   "metadata": {},
   "outputs": [],
   "source": [
    "from pyspark.ml.clustering import KMeans\n",
    "from pyspark.ml.evaluation import ClusteringEvaluator\n",
    "\n",
    "# Loads data.\n",
    "dataset = spark.read.format(\"libsvm\").load(\"data/mllib/sample_kmeans_data.txt\")\n",
    "\n",
    "# Trains a k-means model.\n",
    "kmeans = KMeans().setK(2).setSeed(1)\n",
    "model = kmeans.fit(dataset)\n",
    "\n",
    "# Make predictions\n",
    "predictions = model.transform(dataset)\n",
    "\n",
    "# Evaluate clustering by computing Silhouette score\n",
    "evaluator = ClusteringEvaluator()\n",
    "\n",
    "silhouette = evaluator.evaluate(predictions)\n",
    "print(\"Silhouette with squared euclidean distance = \" + str(silhouette))\n",
    "\n",
    "# Shows the result.\n",
    "centers = model.clusterCenters()\n",
    "print(\"Cluster Centers: \")\n",
    "for center in centers:\n",
    "    print(center)"
   ]
  },
  {
   "cell_type": "code",
   "execution_count": 10,
   "metadata": {},
   "outputs": [],
   "source": [
    "from pyspark.ml.clustering import KMeans\n",
    "from pyspark.ml.evaluation import ClusteringEvaluator"
   ]
  },
  {
   "cell_type": "code",
   "execution_count": 12,
   "metadata": {},
   "outputs": [
    {
     "name": "stderr",
     "output_type": "stream",
     "text": [
      "Exception ignored in: <function JavaWrapper.__del__ at 0x7f243a349840>\n",
      "Traceback (most recent call last):\n",
      "  File \"/opt/spark/python/pyspark/ml/wrapper.py\", line 42, in __del__\n",
      "    if SparkContext._active_spark_context and self._java_obj is not None:\n",
      "AttributeError: 'ClusteringEvaluator' object has no attribute '_java_obj'\n"
     ]
    },
    {
     "ename": "IllegalArgumentException",
     "evalue": "features does not exist. Available: Annual Income (k$), Spending Score (1-100)",
     "output_type": "error",
     "traceback": [
      "\u001b[0;31m---------------------------------------------------------------------------\u001b[0m",
      "\u001b[0;31mIllegalArgumentException\u001b[0m                  Traceback (most recent call last)",
      "\u001b[0;32m<ipython-input-12-e6d54a3a98a1>\u001b[0m in \u001b[0;36m<module>\u001b[0;34m\u001b[0m\n\u001b[1;32m      1\u001b[0m \u001b[0mkm\u001b[0m \u001b[0;34m=\u001b[0m \u001b[0mKMeans\u001b[0m\u001b[0;34m(\u001b[0m\u001b[0;34m)\u001b[0m\u001b[0;34m.\u001b[0m\u001b[0msetK\u001b[0m\u001b[0;34m(\u001b[0m\u001b[0;36m2\u001b[0m\u001b[0;34m)\u001b[0m\u001b[0;34m.\u001b[0m\u001b[0msetSeed\u001b[0m\u001b[0;34m(\u001b[0m\u001b[0;36m1\u001b[0m\u001b[0;34m)\u001b[0m\u001b[0;34m\u001b[0m\u001b[0;34m\u001b[0m\u001b[0m\n\u001b[0;32m----> 2\u001b[0;31m \u001b[0mmodel\u001b[0m \u001b[0;34m=\u001b[0m \u001b[0mkm\u001b[0m\u001b[0;34m.\u001b[0m\u001b[0mfit\u001b[0m\u001b[0;34m(\u001b[0m\u001b[0mdf\u001b[0m\u001b[0;34m)\u001b[0m\u001b[0;34m\u001b[0m\u001b[0;34m\u001b[0m\u001b[0m\n\u001b[0m",
      "\u001b[0;32m/opt/spark/python/pyspark/ml/base.py\u001b[0m in \u001b[0;36mfit\u001b[0;34m(self, dataset, params)\u001b[0m\n\u001b[1;32m    127\u001b[0m                 \u001b[0;32mreturn\u001b[0m \u001b[0mself\u001b[0m\u001b[0;34m.\u001b[0m\u001b[0mcopy\u001b[0m\u001b[0;34m(\u001b[0m\u001b[0mparams\u001b[0m\u001b[0;34m)\u001b[0m\u001b[0;34m.\u001b[0m\u001b[0m_fit\u001b[0m\u001b[0;34m(\u001b[0m\u001b[0mdataset\u001b[0m\u001b[0;34m)\u001b[0m\u001b[0;34m\u001b[0m\u001b[0;34m\u001b[0m\u001b[0m\n\u001b[1;32m    128\u001b[0m             \u001b[0;32melse\u001b[0m\u001b[0;34m:\u001b[0m\u001b[0;34m\u001b[0m\u001b[0;34m\u001b[0m\u001b[0m\n\u001b[0;32m--> 129\u001b[0;31m                 \u001b[0;32mreturn\u001b[0m \u001b[0mself\u001b[0m\u001b[0;34m.\u001b[0m\u001b[0m_fit\u001b[0m\u001b[0;34m(\u001b[0m\u001b[0mdataset\u001b[0m\u001b[0;34m)\u001b[0m\u001b[0;34m\u001b[0m\u001b[0;34m\u001b[0m\u001b[0m\n\u001b[0m\u001b[1;32m    130\u001b[0m         \u001b[0;32melse\u001b[0m\u001b[0;34m:\u001b[0m\u001b[0;34m\u001b[0m\u001b[0;34m\u001b[0m\u001b[0m\n\u001b[1;32m    131\u001b[0m             raise ValueError(\"Params must be either a param map or a list/tuple of param maps, \"\n",
      "\u001b[0;32m/opt/spark/python/pyspark/ml/wrapper.py\u001b[0m in \u001b[0;36m_fit\u001b[0;34m(self, dataset)\u001b[0m\n\u001b[1;32m    319\u001b[0m \u001b[0;34m\u001b[0m\u001b[0m\n\u001b[1;32m    320\u001b[0m     \u001b[0;32mdef\u001b[0m \u001b[0m_fit\u001b[0m\u001b[0;34m(\u001b[0m\u001b[0mself\u001b[0m\u001b[0;34m,\u001b[0m \u001b[0mdataset\u001b[0m\u001b[0;34m)\u001b[0m\u001b[0;34m:\u001b[0m\u001b[0;34m\u001b[0m\u001b[0;34m\u001b[0m\u001b[0m\n\u001b[0;32m--> 321\u001b[0;31m         \u001b[0mjava_model\u001b[0m \u001b[0;34m=\u001b[0m \u001b[0mself\u001b[0m\u001b[0;34m.\u001b[0m\u001b[0m_fit_java\u001b[0m\u001b[0;34m(\u001b[0m\u001b[0mdataset\u001b[0m\u001b[0;34m)\u001b[0m\u001b[0;34m\u001b[0m\u001b[0;34m\u001b[0m\u001b[0m\n\u001b[0m\u001b[1;32m    322\u001b[0m         \u001b[0mmodel\u001b[0m \u001b[0;34m=\u001b[0m \u001b[0mself\u001b[0m\u001b[0;34m.\u001b[0m\u001b[0m_create_model\u001b[0m\u001b[0;34m(\u001b[0m\u001b[0mjava_model\u001b[0m\u001b[0;34m)\u001b[0m\u001b[0;34m\u001b[0m\u001b[0;34m\u001b[0m\u001b[0m\n\u001b[1;32m    323\u001b[0m         \u001b[0;32mreturn\u001b[0m \u001b[0mself\u001b[0m\u001b[0;34m.\u001b[0m\u001b[0m_copyValues\u001b[0m\u001b[0;34m(\u001b[0m\u001b[0mmodel\u001b[0m\u001b[0;34m)\u001b[0m\u001b[0;34m\u001b[0m\u001b[0;34m\u001b[0m\u001b[0m\n",
      "\u001b[0;32m/opt/spark/python/pyspark/ml/wrapper.py\u001b[0m in \u001b[0;36m_fit_java\u001b[0;34m(self, dataset)\u001b[0m\n\u001b[1;32m    316\u001b[0m         \"\"\"\n\u001b[1;32m    317\u001b[0m         \u001b[0mself\u001b[0m\u001b[0;34m.\u001b[0m\u001b[0m_transfer_params_to_java\u001b[0m\u001b[0;34m(\u001b[0m\u001b[0;34m)\u001b[0m\u001b[0;34m\u001b[0m\u001b[0;34m\u001b[0m\u001b[0m\n\u001b[0;32m--> 318\u001b[0;31m         \u001b[0;32mreturn\u001b[0m \u001b[0mself\u001b[0m\u001b[0;34m.\u001b[0m\u001b[0m_java_obj\u001b[0m\u001b[0;34m.\u001b[0m\u001b[0mfit\u001b[0m\u001b[0;34m(\u001b[0m\u001b[0mdataset\u001b[0m\u001b[0;34m.\u001b[0m\u001b[0m_jdf\u001b[0m\u001b[0;34m)\u001b[0m\u001b[0;34m\u001b[0m\u001b[0;34m\u001b[0m\u001b[0m\n\u001b[0m\u001b[1;32m    319\u001b[0m \u001b[0;34m\u001b[0m\u001b[0m\n\u001b[1;32m    320\u001b[0m     \u001b[0;32mdef\u001b[0m \u001b[0m_fit\u001b[0m\u001b[0;34m(\u001b[0m\u001b[0mself\u001b[0m\u001b[0;34m,\u001b[0m \u001b[0mdataset\u001b[0m\u001b[0;34m)\u001b[0m\u001b[0;34m:\u001b[0m\u001b[0;34m\u001b[0m\u001b[0;34m\u001b[0m\u001b[0m\n",
      "\u001b[0;32m/opt/spark/python/lib/py4j-0.10.9-src.zip/py4j/java_gateway.py\u001b[0m in \u001b[0;36m__call__\u001b[0;34m(self, *args)\u001b[0m\n\u001b[1;32m   1303\u001b[0m         \u001b[0manswer\u001b[0m \u001b[0;34m=\u001b[0m \u001b[0mself\u001b[0m\u001b[0;34m.\u001b[0m\u001b[0mgateway_client\u001b[0m\u001b[0;34m.\u001b[0m\u001b[0msend_command\u001b[0m\u001b[0;34m(\u001b[0m\u001b[0mcommand\u001b[0m\u001b[0;34m)\u001b[0m\u001b[0;34m\u001b[0m\u001b[0;34m\u001b[0m\u001b[0m\n\u001b[1;32m   1304\u001b[0m         return_value = get_return_value(\n\u001b[0;32m-> 1305\u001b[0;31m             answer, self.gateway_client, self.target_id, self.name)\n\u001b[0m\u001b[1;32m   1306\u001b[0m \u001b[0;34m\u001b[0m\u001b[0m\n\u001b[1;32m   1307\u001b[0m         \u001b[0;32mfor\u001b[0m \u001b[0mtemp_arg\u001b[0m \u001b[0;32min\u001b[0m \u001b[0mtemp_args\u001b[0m\u001b[0;34m:\u001b[0m\u001b[0;34m\u001b[0m\u001b[0;34m\u001b[0m\u001b[0m\n",
      "\u001b[0;32m/opt/spark/python/pyspark/sql/utils.py\u001b[0m in \u001b[0;36mdeco\u001b[0;34m(*a, **kw)\u001b[0m\n\u001b[1;32m    132\u001b[0m                 \u001b[0;31m# Hide where the exception came from that shows a non-Pythonic\u001b[0m\u001b[0;34m\u001b[0m\u001b[0;34m\u001b[0m\u001b[0;34m\u001b[0m\u001b[0m\n\u001b[1;32m    133\u001b[0m                 \u001b[0;31m# JVM exception message.\u001b[0m\u001b[0;34m\u001b[0m\u001b[0;34m\u001b[0m\u001b[0;34m\u001b[0m\u001b[0m\n\u001b[0;32m--> 134\u001b[0;31m                 \u001b[0mraise_from\u001b[0m\u001b[0;34m(\u001b[0m\u001b[0mconverted\u001b[0m\u001b[0;34m)\u001b[0m\u001b[0;34m\u001b[0m\u001b[0;34m\u001b[0m\u001b[0m\n\u001b[0m\u001b[1;32m    135\u001b[0m             \u001b[0;32melse\u001b[0m\u001b[0;34m:\u001b[0m\u001b[0;34m\u001b[0m\u001b[0;34m\u001b[0m\u001b[0m\n\u001b[1;32m    136\u001b[0m                 \u001b[0;32mraise\u001b[0m\u001b[0;34m\u001b[0m\u001b[0;34m\u001b[0m\u001b[0m\n",
      "\u001b[0;32m/opt/spark/python/pyspark/sql/utils.py\u001b[0m in \u001b[0;36mraise_from\u001b[0;34m(e)\u001b[0m\n",
      "\u001b[0;31mIllegalArgumentException\u001b[0m: features does not exist. Available: Annual Income (k$), Spending Score (1-100)"
     ]
    }
   ],
   "source": [
    "km = KMeans().setK(2).setSeed(1)\n",
    "model = km.fit(df)\n"
   ]
  },
  {
   "cell_type": "code",
   "execution_count": 9,
   "metadata": {},
   "outputs": [
    {
     "ename": "TypeError",
     "evalue": "Method __init__ forces keyword arguments.",
     "output_type": "error",
     "traceback": [
      "\u001b[0;31m---------------------------------------------------------------------------\u001b[0m",
      "\u001b[0;31mTypeError\u001b[0m                                 Traceback (most recent call last)",
      "\u001b[0;32m<ipython-input-9-7789c2175997>\u001b[0m in \u001b[0;36m<module>\u001b[0;34m\u001b[0m\n\u001b[0;32m----> 1\u001b[0;31m \u001b[0mevaluator\u001b[0m \u001b[0;34m=\u001b[0m \u001b[0mClusteringEvaluator\u001b[0m\u001b[0;34m(\u001b[0m\u001b[0mdf\u001b[0m\u001b[0;34m)\u001b[0m\u001b[0;34m\u001b[0m\u001b[0;34m\u001b[0m\u001b[0m\n\u001b[0m",
      "\u001b[0;32m/opt/spark/python/pyspark/__init__.py\u001b[0m in \u001b[0;36mwrapper\u001b[0;34m(self, *args, **kwargs)\u001b[0m\n\u001b[1;32m    106\u001b[0m     \u001b[0;32mdef\u001b[0m \u001b[0mwrapper\u001b[0m\u001b[0;34m(\u001b[0m\u001b[0mself\u001b[0m\u001b[0;34m,\u001b[0m \u001b[0;34m*\u001b[0m\u001b[0margs\u001b[0m\u001b[0;34m,\u001b[0m \u001b[0;34m**\u001b[0m\u001b[0mkwargs\u001b[0m\u001b[0;34m)\u001b[0m\u001b[0;34m:\u001b[0m\u001b[0;34m\u001b[0m\u001b[0;34m\u001b[0m\u001b[0m\n\u001b[1;32m    107\u001b[0m         \u001b[0;32mif\u001b[0m \u001b[0mlen\u001b[0m\u001b[0;34m(\u001b[0m\u001b[0margs\u001b[0m\u001b[0;34m)\u001b[0m \u001b[0;34m>\u001b[0m \u001b[0;36m0\u001b[0m\u001b[0;34m:\u001b[0m\u001b[0;34m\u001b[0m\u001b[0;34m\u001b[0m\u001b[0m\n\u001b[0;32m--> 108\u001b[0;31m             \u001b[0;32mraise\u001b[0m \u001b[0mTypeError\u001b[0m\u001b[0;34m(\u001b[0m\u001b[0;34m\"Method %s forces keyword arguments.\"\u001b[0m \u001b[0;34m%\u001b[0m \u001b[0mfunc\u001b[0m\u001b[0;34m.\u001b[0m\u001b[0m__name__\u001b[0m\u001b[0;34m)\u001b[0m\u001b[0;34m\u001b[0m\u001b[0;34m\u001b[0m\u001b[0m\n\u001b[0m\u001b[1;32m    109\u001b[0m         \u001b[0mself\u001b[0m\u001b[0;34m.\u001b[0m\u001b[0m_input_kwargs\u001b[0m \u001b[0;34m=\u001b[0m \u001b[0mkwargs\u001b[0m\u001b[0;34m\u001b[0m\u001b[0;34m\u001b[0m\u001b[0m\n\u001b[1;32m    110\u001b[0m         \u001b[0;32mreturn\u001b[0m \u001b[0mfunc\u001b[0m\u001b[0;34m(\u001b[0m\u001b[0mself\u001b[0m\u001b[0;34m,\u001b[0m \u001b[0;34m**\u001b[0m\u001b[0mkwargs\u001b[0m\u001b[0;34m)\u001b[0m\u001b[0;34m\u001b[0m\u001b[0;34m\u001b[0m\u001b[0m\n",
      "\u001b[0;31mTypeError\u001b[0m: Method __init__ forces keyword arguments."
     ]
    }
   ],
   "source": [
    "evaluator = ClusteringEvaluator(df)"
   ]
  },
  {
   "cell_type": "code",
   "execution_count": 27,
   "metadata": {},
   "outputs": [
    {
     "name": "stdout",
     "output_type": "stream",
     "text": [
      "<pyspark.mllib.clustering.KMeansModel object at 0x7f01ddb5c4a8>\n"
     ]
    }
   ],
   "source": [
    "clusters = KMeans.train(rdd, k=2)# maxIterations=10, initializationMode=\"random\")\n",
    "print(clusters)"
   ]
  },
  {
   "cell_type": "code",
   "execution_count": 26,
   "metadata": {},
   "outputs": [
    {
     "name": "stdout",
     "output_type": "stream",
     "text": [
      "PythonRDD[3166] at RDD at PythonRDD.scala:53\n"
     ]
    }
   ],
   "source": [
    "costs = rdd.map(lambda x: clusters.computeCost(x[1]))\n",
    "print(costs)"
   ]
  },
  {
   "cell_type": "code",
   "execution_count": 28,
   "metadata": {},
   "outputs": [
    {
     "name": "stdout",
     "output_type": "stream",
     "text": [
      "186206.760022586\n"
     ]
    }
   ],
   "source": [
    "WSSSE=clusters.computeCost(rdd)\n",
    "#WSSSE = rdd.map(lambda point: error(clusters,point)).reduce(lambda x, y: x + y)\n",
    "print(WSSSE)"
   ]
  },
  {
   "cell_type": "code",
   "execution_count": 21,
   "metadata": {},
   "outputs": [],
   "source": [
    "from pyspark.mllib.clustering import GaussianMixture, GaussianMixtureModel\n",
    "clusters = GaussianMixture.train(rdd, 2)"
   ]
  },
  {
   "cell_type": "code",
   "execution_count": 22,
   "metadata": {},
   "outputs": [
    {
     "ename": "AttributeError",
     "evalue": "'GaussianMixtureModel' object has no attribute 'computeCost'",
     "output_type": "error",
     "traceback": [
      "\u001b[0;31m---------------------------------------------------------------------------\u001b[0m",
      "\u001b[0;31mAttributeError\u001b[0m                            Traceback (most recent call last)",
      "\u001b[0;32m<ipython-input-22-83fb1d054f79>\u001b[0m in \u001b[0;36m<module>\u001b[0;34m\u001b[0m\n\u001b[0;32m----> 1\u001b[0;31m \u001b[0mclusters\u001b[0m\u001b[0;34m.\u001b[0m\u001b[0mcomputeCost\u001b[0m\u001b[0;34m(\u001b[0m\u001b[0mrdd\u001b[0m\u001b[0;34m)\u001b[0m\u001b[0;34m\u001b[0m\u001b[0;34m\u001b[0m\u001b[0m\n\u001b[0m",
      "\u001b[0;31mAttributeError\u001b[0m: 'GaussianMixtureModel' object has no attribute 'computeCost'"
     ]
    }
   ],
   "source": [
    "clusters.computeCost(rdd)"
   ]
  },
  {
   "cell_type": "code",
   "execution_count": 43,
   "metadata": {},
   "outputs": [],
   "source": [
    "def error(point):\n",
    "    center = clusters.centers[clusters.predict(point)]\n",
    "    return sqrt(sum([x**2 for x in (point - center)]))"
   ]
  },
  {
   "cell_type": "code",
   "execution_count": 44,
   "metadata": {},
   "outputs": [
    {
     "name": "stdout",
     "output_type": "stream",
     "text": [
      "Within Set Sum of Squared Error = 5141.802201232704\n"
     ]
    }
   ],
   "source": [
    "WSSSE = rdd.map(lambda point: error(point)).reduce(lambda x, y: x + y)\n",
    "print(\"Within Set Sum of Squared Error = \" + str(WSSSE))"
   ]
  },
  {
   "cell_type": "code",
   "execution_count": 12,
   "metadata": {},
   "outputs": [],
   "source": [
    "def error(clusters,point):\n",
    "    center = clusters.centers[clusters.predict(point)]\n",
    "    return sqrt(sum([x**2 for x in (point - center)]))"
   ]
  },
  {
   "cell_type": "code",
   "execution_count": 20,
   "metadata": {},
   "outputs": [
    {
     "name": "stdout",
     "output_type": "stream",
     "text": [
      "Training for cluster size 2 \n",
      "Within Set Sum of Squared Error = 181665.82312925166\n",
      "Training for cluster size 3 \n",
      "Within Set Sum of Squared Error = 132087.72428243398\n",
      "Training for cluster size 4 \n",
      "Within Set Sum of Squared Error = 73880.64496247192\n",
      "Training for cluster size 5 \n",
      "Within Set Sum of Squared Error = 89897.46144527977\n",
      "Training for cluster size 6 \n",
      "Within Set Sum of Squared Error = 37455.98455516027\n",
      "Training for cluster size 7 \n",
      "Within Set Sum of Squared Error = 33869.428028278024\n",
      "Training for cluster size 8 \n",
      "Within Set Sum of Squared Error = 27476.491106719353\n",
      "Training for cluster size 9 \n",
      "Within Set Sum of Squared Error = 24903.989065067322\n",
      "Training for cluster size 10 \n",
      "Within Set Sum of Squared Error = 21660.90996057514\n"
     ]
    }
   ],
   "source": [
    "def WCSS(data, clusters):\n",
    "    wsseList = []\n",
    "    for k in clusters:\n",
    "        print(\"Training for cluster size {} \".format(k))\n",
    "        clusters = KMeans.train(data, k)\n",
    "        WSSSE = clusters.computeCost(data)#data.map(lambda point: error(clusters,point)).reduce(lambda x, y: x + y)\n",
    "        print(\"Within Set Sum of Squared Error = \" + str(WSSSE))\n",
    "        wsseList.append(WSSSE)\n",
    "    return wsseList\n",
    "wsseList=WCSS(rdd,range(2,11))      "
   ]
  },
  {
   "cell_type": "code",
   "execution_count": 9,
   "metadata": {},
   "outputs": [
    {
     "data": {
      "text/plain": [
       "[<matplotlib.lines.Line2D at 0x7f01e1c0c940>]"
      ]
     },
     "execution_count": 9,
     "metadata": {},
     "output_type": "execute_result"
    },
    {
     "data": {
      "image/png": "[encoded data removed]",
      "text/plain": [
       "<Figure size 432x288 with 1 Axes>"
      ]
     },
     "metadata": {
      "needs_background": "light"
     },
     "output_type": "display_data"
    }
   ],
   "source": [
    "import matplotlib.pyplot as plt\n",
    "plt.plot(range(2,11),wsseList)"
   ]
  },
  {
   "cell_type": "code",
   "execution_count": null,
   "metadata": {},
   "outputs": [],
   "source": [
    "Training for cluster size 2 \n",
    "Within Set Sum of Squared Error = 5335.08216702424\n",
    "Training for cluster size 3 \n",
    "Within Set Sum of Squared Error = 3899.7055127003114\n",
    "Training for cluster size 4 \n",
    "Within Set Sum of Squared Error = 3302.7700174795536\n",
    "Training for cluster size 5 \n",
    "Within Set Sum of Squared Error = 2604.02527015835\n",
    "Training for cluster size 6 \n",
    "Within Set Sum of Squared Error = 2498.1444225381733\n",
    "Training for cluster size 7 \n",
    "Within Set Sum of Squared Error = 2293.5893978631952\n",
    "Training for cluster size 8 \n",
    "Within Set Sum of Squared Error = 2139.1906100815145\n",
    "Training for cluster size 9 \n",
    "Within Set Sum of Squared Error = 1919.8849008615443\n",
    "Training for cluster size 10 \n",
    "Within Set Sum of Squared Error = 1915.1072221295892"
   ]
  },
  {
   "cell_type": "code",
   "execution_count": 10,
   "metadata": {},
   "outputs": [
    {
     "name": "stdout",
     "output_type": "stream",
     "text": [
      "Bisecting K-means Cost = 183718.21400013665\n",
      "Bisecting K-means Cost = 128833.73653198653\n",
      "Bisecting K-means Cost = 102506.80712169778\n",
      "Bisecting K-means Cost = 71571.44840324226\n",
      "Bisecting K-means Cost = 51113.61408126454\n",
      "Bisecting K-means Cost = 43931.023838174275\n",
      "Bisecting K-means Cost = 42660.96828261871\n",
      "Bisecting K-means Cost = 23982.409558010026\n",
      "Bisecting K-means Cost = 22370.024028188334\n"
     ]
    },
    {
     "data": {
      "text/plain": [
       "[183718.21400013665,\n",
       " 128833.73653198653,\n",
       " 102506.80712169778,\n",
       " 71571.44840324226,\n",
       " 51113.61408126454,\n",
       " 43931.023838174275,\n",
       " 42660.96828261871,\n",
       " 23982.409558010026,\n",
       " 22370.024028188334]"
      ]
     },
     "execution_count": 10,
     "metadata": {},
     "output_type": "execute_result"
    }
   ],
   "source": [
    "from pyspark.mllib.clustering import BisectingKMeans\n",
    "\n",
    "def WCSS(data,clusters):\n",
    "    wsccList=[]\n",
    "    for k in clusters:\n",
    "        model = BisectingKMeans.train(data, k) #, maxIterations=5\n",
    "        cost = model.computeCost(data)\n",
    "        print(\"Bisecting K-means Cost = \" + str(cost))\n",
    "        wsccList.append(cost)\n",
    "    return wsccList\n",
    "WCSS(rdd,range(2,11))"
   ]
  },
  {
   "cell_type": "code",
   "execution_count": null,
   "metadata": {},
   "outputs": [],
   "source": [
    "class optimalcluster(APIView):\n",
    "    "
   ]
  },
  {
   "cell_type": "code",
   "execution_count": 11,
   "metadata": {},
   "outputs": [],
   "source": [
    "featureUsed=['Annual Income (k$)', 'Spending Score (1-100)']\n",
    "assembler=VectorAssembler(inputCols=featureUsed, outputCol='feature_unscaled')\n",
    "assembled=assembler.transform(workingdf)"
   ]
  },
  {
   "cell_type": "code",
   "execution_count": 12,
   "metadata": {},
   "outputs": [],
   "source": [
    "scaler=StandardScaler(inputCol='feature_unscaled', outputCol='features',withStd=True, withMean=True)\n",
    "scalerModel=scaler.fit(assembled)\n",
    "scaledData=scalerModel.transform(assembled)"
   ]
  },
  {
   "cell_type": "code",
   "execution_count": 15,
   "metadata": {},
   "outputs": [
    {
     "data": {
      "text/plain": [
       "DataFrame[features: vector]"
      ]
     },
     "execution_count": 15,
     "metadata": {},
     "output_type": "execute_result"
    }
   ],
   "source": [
    "scaledData=scaledData.select('features','CustomerID')\n",
    "elbowset=scaledData.filter((scaledData.CustomerID % 2)==0).select('features')\n",
    "elbowset.persist()"
   ]
  },
  {
   "cell_type": "code",
   "execution_count": 23,
   "metadata": {},
   "outputs": [],
   "source": [
    "from itertools import cycle, islice\n",
    "from math import sqrt\n",
    "from numpy import array\n",
    "#from pandas.tools.plotting import parallel_coordinates\n",
    "from pyspark.ml.clustering import KMeans as KM\n",
    "from pyspark.mllib.linalg import DenseVector\n",
    "import matplotlib.pyplot as plt\n",
    "import numpy as np\n",
    "import pandas as pd"
   ]
  },
  {
   "cell_type": "code",
   "execution_count": 41,
   "metadata": {},
   "outputs": [],
   "source": [
    "def elbow(elbowset, clusters):\n",
    "\twsseList = []\t\n",
    "\tfor k in clusters:\n",
    "\t\tprint(\"Training for cluster size {} \".format(k))\n",
    "\t\tkmeans = KM(k = k, seed = 1)\n",
    "\t\tmodel = kmeans.fit(elbowset)\n",
    "\t\ttransformed = model.transform(elbowset)\n",
    "\t\tfeaturesAndPrediction = transformed.select(\"features\", \"prediction\")\n",
    "\n",
    "\t\tW = model.computeCost(featuresAndPrediction, model)\n",
    "\t\tprint(\"......................WSSE = {} \".format(W))\n",
    "\n",
    "\t\twsseList.append(W)\n",
    "\treturn wsseList"
   ]
  },
  {
   "cell_type": "code",
   "execution_count": 28,
   "metadata": {},
   "outputs": [],
   "source": [
    "kmeans = KM(k = 2, seed = 1)"
   ]
  },
  {
   "cell_type": "code",
   "execution_count": 33,
   "metadata": {},
   "outputs": [
    {
     "name": "stdout",
     "output_type": "stream",
     "text": [
      "KMeansModel: uid=KMeans_d16a8ba75e52, k=2, distanceMeasure=euclidean, numFeatures=2\n"
     ]
    }
   ],
   "source": [
    "model = kmeans.fit(elbowset)\n",
    "print(model)"
   ]
  },
  {
   "cell_type": "code",
   "execution_count": 36,
   "metadata": {},
   "outputs": [
    {
     "name": "stdout",
     "output_type": "stream",
     "text": [
      "+--------------------+----------+\n",
      "|            features|prediction|\n",
      "+--------------------+----------+\n",
      "|[-1.7346462470822...|         0|\n",
      "|[-1.6965723610620...|         0|\n",
      "|[-1.6584984750417...|         0|\n",
      "|[-1.6204245890215...|         0|\n",
      "|[-1.5823507030012...|         0|\n",
      "|[-1.5823507030012...|         0|\n",
      "|[-1.5442768169810...|         0|\n",
      "|[-1.5442768169810...|         0|\n",
      "|[-1.5062029309608...|         0|\n",
      "|[-1.4300551589203...|         0|\n",
      "|[-1.3919812729000...|         0|\n",
      "|[-1.3539073868798...|         0|\n",
      "|[-1.2396857288191...|         0|\n",
      "|[-1.2396857288191...|         0|\n",
      "|[-1.2016118427988...|         0|\n",
      "|[-1.1635379567786...|         0|\n",
      "|[-1.0493162987178...|         0|\n",
      "|[-1.0493162987178...|         0|\n",
      "|[-1.0112424126976...|         0|\n",
      "|[-0.8970207546369...|         0|\n",
      "+--------------------+----------+\n",
      "only showing top 20 rows\n",
      "\n"
     ]
    }
   ],
   "source": [
    "transformed = model.transform(elbowset)\n",
    "transformed.show()"
   ]
  },
  {
   "cell_type": "code",
   "execution_count": 32,
   "metadata": {},
   "outputs": [
    {
     "name": "stdout",
     "output_type": "stream",
     "text": [
      "+--------------------+----------+\n",
      "|            features|prediction|\n",
      "+--------------------+----------+\n",
      "|[-1.7346462470822...|         0|\n",
      "|[-1.6965723610620...|         0|\n",
      "|[-1.6584984750417...|         0|\n",
      "|[-1.6204245890215...|         0|\n",
      "|[-1.5823507030012...|         0|\n",
      "|[-1.5823507030012...|         0|\n",
      "|[-1.5442768169810...|         0|\n",
      "|[-1.5442768169810...|         0|\n",
      "|[-1.5062029309608...|         0|\n",
      "|[-1.4300551589203...|         0|\n",
      "|[-1.3919812729000...|         0|\n",
      "|[-1.3539073868798...|         0|\n",
      "|[-1.2396857288191...|         0|\n",
      "|[-1.2396857288191...|         0|\n",
      "|[-1.2016118427988...|         0|\n",
      "|[-1.1635379567786...|         0|\n",
      "|[-1.0493162987178...|         0|\n",
      "|[-1.0493162987178...|         0|\n",
      "|[-1.0112424126976...|         0|\n",
      "|[-0.8970207546369...|         0|\n",
      "+--------------------+----------+\n",
      "only showing top 20 rows\n",
      "\n"
     ]
    }
   ],
   "source": [
    "featuresAndPrediction = transformed.select(\"features\", \"prediction\")\n",
    "featuresAndPrediction.show()"
   ]
  },
  {
   "cell_type": "code",
   "execution_count": 37,
   "metadata": {},
   "outputs": [
    {
     "ename": "AttributeError",
     "evalue": "'KMeansModel' object has no attribute 'centers'",
     "output_type": "error",
     "traceback": [
      "\u001b[0;31m---------------------------------------------------------------------------\u001b[0m",
      "\u001b[0;31mAttributeError\u001b[0m                            Traceback (most recent call last)",
      "\u001b[0;32m<ipython-input-37-8fa3f278c7ac>\u001b[0m in \u001b[0;36m<module>\u001b[0;34m\u001b[0m\n\u001b[1;32m      2\u001b[0m     \u001b[0mcenter\u001b[0m \u001b[0;34m=\u001b[0m \u001b[0mmodel\u001b[0m\u001b[0;34m.\u001b[0m\u001b[0mcenters\u001b[0m\u001b[0;34m[\u001b[0m\u001b[0mmodel\u001b[0m\u001b[0;34m.\u001b[0m\u001b[0mpredict\u001b[0m\u001b[0;34m(\u001b[0m\u001b[0mpoint\u001b[0m\u001b[0;34m)\u001b[0m\u001b[0;34m]\u001b[0m\u001b[0;34m\u001b[0m\u001b[0;34m\u001b[0m\u001b[0m\n\u001b[1;32m      3\u001b[0m     \u001b[0;32mreturn\u001b[0m \u001b[0msqrt\u001b[0m\u001b[0;34m(\u001b[0m\u001b[0msum\u001b[0m\u001b[0;34m(\u001b[0m\u001b[0;34m[\u001b[0m\u001b[0mx\u001b[0m\u001b[0;34m**\u001b[0m\u001b[0;36m2\u001b[0m \u001b[0;32mfor\u001b[0m \u001b[0mx\u001b[0m \u001b[0;32min\u001b[0m \u001b[0;34m(\u001b[0m\u001b[0mpoint\u001b[0m \u001b[0;34m-\u001b[0m \u001b[0mcenter\u001b[0m\u001b[0;34m)\u001b[0m\u001b[0;34m]\u001b[0m\u001b[0;34m)\u001b[0m\u001b[0;34m)\u001b[0m\u001b[0;34m\u001b[0m\u001b[0;34m\u001b[0m\u001b[0m\n\u001b[0;32m----> 4\u001b[0;31m \u001b[0merror\u001b[0m\u001b[0;34m(\u001b[0m\u001b[0mfeaturesAndPrediction\u001b[0m\u001b[0;34m)\u001b[0m\u001b[0;34m\u001b[0m\u001b[0;34m\u001b[0m\u001b[0m\n\u001b[0m",
      "\u001b[0;32m<ipython-input-37-8fa3f278c7ac>\u001b[0m in \u001b[0;36merror\u001b[0;34m(point)\u001b[0m\n\u001b[1;32m      1\u001b[0m \u001b[0;32mdef\u001b[0m \u001b[0merror\u001b[0m\u001b[0;34m(\u001b[0m\u001b[0mpoint\u001b[0m\u001b[0;34m)\u001b[0m\u001b[0;34m:\u001b[0m\u001b[0;34m\u001b[0m\u001b[0;34m\u001b[0m\u001b[0m\n\u001b[0;32m----> 2\u001b[0;31m     \u001b[0mcenter\u001b[0m \u001b[0;34m=\u001b[0m \u001b[0mmodel\u001b[0m\u001b[0;34m.\u001b[0m\u001b[0mcenters\u001b[0m\u001b[0;34m[\u001b[0m\u001b[0mmodel\u001b[0m\u001b[0;34m.\u001b[0m\u001b[0mpredict\u001b[0m\u001b[0;34m(\u001b[0m\u001b[0mpoint\u001b[0m\u001b[0;34m)\u001b[0m\u001b[0;34m]\u001b[0m\u001b[0;34m\u001b[0m\u001b[0;34m\u001b[0m\u001b[0m\n\u001b[0m\u001b[1;32m      3\u001b[0m     \u001b[0;32mreturn\u001b[0m \u001b[0msqrt\u001b[0m\u001b[0;34m(\u001b[0m\u001b[0msum\u001b[0m\u001b[0;34m(\u001b[0m\u001b[0;34m[\u001b[0m\u001b[0mx\u001b[0m\u001b[0;34m**\u001b[0m\u001b[0;36m2\u001b[0m \u001b[0;32mfor\u001b[0m \u001b[0mx\u001b[0m \u001b[0;32min\u001b[0m \u001b[0;34m(\u001b[0m\u001b[0mpoint\u001b[0m \u001b[0;34m-\u001b[0m \u001b[0mcenter\u001b[0m\u001b[0;34m)\u001b[0m\u001b[0;34m]\u001b[0m\u001b[0;34m)\u001b[0m\u001b[0;34m)\u001b[0m\u001b[0;34m\u001b[0m\u001b[0;34m\u001b[0m\u001b[0m\n\u001b[1;32m      4\u001b[0m \u001b[0merror\u001b[0m\u001b[0;34m(\u001b[0m\u001b[0mfeaturesAndPrediction\u001b[0m\u001b[0;34m)\u001b[0m\u001b[0;34m\u001b[0m\u001b[0;34m\u001b[0m\u001b[0m\n",
      "\u001b[0;31mAttributeError\u001b[0m: 'KMeansModel' object has no attribute 'centers'"
     ]
    }
   ],
   "source": [
    "def error(point):\n",
    "    center = model.centers[model.predict(point)]\n",
    "    return sqrt(sum([x**2 for x in (point - center)]))\n",
    "error(featuresAndPrediction)"
   ]
  },
  {
   "cell_type": "code",
   "execution_count": 42,
   "metadata": {},
   "outputs": [
    {
     "name": "stdout",
     "output_type": "stream",
     "text": [
      "Training for cluster size 2 \n"
     ]
    },
    {
     "ename": "AttributeError",
     "evalue": "'KMeansModel' object has no attribute 'computeCost'",
     "output_type": "error",
     "traceback": [
      "\u001b[0;31m---------------------------------------------------------------------------\u001b[0m",
      "\u001b[0;31mAttributeError\u001b[0m                            Traceback (most recent call last)",
      "\u001b[0;32m<ipython-input-42-dff424141288>\u001b[0m in \u001b[0;36m<module>\u001b[0;34m\u001b[0m\n\u001b[0;32m----> 1\u001b[0;31m \u001b[0melbow\u001b[0m\u001b[0;34m(\u001b[0m\u001b[0melbowset\u001b[0m\u001b[0;34m,\u001b[0m\u001b[0mrange\u001b[0m\u001b[0;34m(\u001b[0m\u001b[0;36m2\u001b[0m\u001b[0;34m,\u001b[0m\u001b[0;36m11\u001b[0m\u001b[0;34m)\u001b[0m\u001b[0;34m)\u001b[0m\u001b[0;34m\u001b[0m\u001b[0;34m\u001b[0m\u001b[0m\n\u001b[0m",
      "\u001b[0;32m<ipython-input-41-7123d806fb9a>\u001b[0m in \u001b[0;36melbow\u001b[0;34m(elbowset, clusters)\u001b[0m\n\u001b[1;32m      8\u001b[0m                 \u001b[0mfeaturesAndPrediction\u001b[0m \u001b[0;34m=\u001b[0m \u001b[0mtransformed\u001b[0m\u001b[0;34m.\u001b[0m\u001b[0mselect\u001b[0m\u001b[0;34m(\u001b[0m\u001b[0;34m\"features\"\u001b[0m\u001b[0;34m,\u001b[0m \u001b[0;34m\"prediction\"\u001b[0m\u001b[0;34m)\u001b[0m\u001b[0;34m\u001b[0m\u001b[0;34m\u001b[0m\u001b[0m\n\u001b[1;32m      9\u001b[0m \u001b[0;34m\u001b[0m\u001b[0m\n\u001b[0;32m---> 10\u001b[0;31m                 \u001b[0mW\u001b[0m \u001b[0;34m=\u001b[0m \u001b[0mmodel\u001b[0m\u001b[0;34m.\u001b[0m\u001b[0mcomputeCost\u001b[0m\u001b[0;34m(\u001b[0m\u001b[0mfeaturesAndPrediction\u001b[0m\u001b[0;34m,\u001b[0m \u001b[0mmodel\u001b[0m\u001b[0;34m)\u001b[0m\u001b[0;34m\u001b[0m\u001b[0;34m\u001b[0m\u001b[0m\n\u001b[0m\u001b[1;32m     11\u001b[0m                 \u001b[0mprint\u001b[0m\u001b[0;34m(\u001b[0m\u001b[0;34m\"......................WSSE = {} \"\u001b[0m\u001b[0;34m.\u001b[0m\u001b[0mformat\u001b[0m\u001b[0;34m(\u001b[0m\u001b[0mW\u001b[0m\u001b[0;34m)\u001b[0m\u001b[0;34m)\u001b[0m\u001b[0;34m\u001b[0m\u001b[0;34m\u001b[0m\u001b[0m\n\u001b[1;32m     12\u001b[0m \u001b[0;34m\u001b[0m\u001b[0m\n",
      "\u001b[0;31mAttributeError\u001b[0m: 'KMeansModel' object has no attribute 'computeCost'"
     ]
    }
   ],
   "source": [
    "elbow(elbowset,range(2,11))"
   ]
  },
  {
   "cell_type": "code",
   "execution_count": 63,
   "metadata": {},
   "outputs": [
    {
     "ename": "AttributeError",
     "evalue": "'KMeansModel' object has no attribute 'computeCost'",
     "output_type": "error",
     "traceback": [
      "\u001b[0;31m---------------------------------------------------------------------------\u001b[0m",
      "\u001b[0;31mAttributeError\u001b[0m                            Traceback (most recent call last)",
      "\u001b[0;32m<ipython-input-63-3f920e5ca9d1>\u001b[0m in \u001b[0;36m<module>\u001b[0;34m\u001b[0m\n\u001b[1;32m      5\u001b[0m \u001b[0mevaluator\u001b[0m \u001b[0;34m=\u001b[0m \u001b[0mClusteringEvaluator\u001b[0m\u001b[0;34m(\u001b[0m\u001b[0;34m)\u001b[0m\u001b[0;34m\u001b[0m\u001b[0;34m\u001b[0m\u001b[0m\n\u001b[1;32m      6\u001b[0m \u001b[0msilhouette\u001b[0m \u001b[0;34m=\u001b[0m \u001b[0mevaluator\u001b[0m\u001b[0;34m.\u001b[0m\u001b[0mevaluate\u001b[0m\u001b[0;34m(\u001b[0m\u001b[0mclus\u001b[0m\u001b[0;34m)\u001b[0m\u001b[0;34m\u001b[0m\u001b[0;34m\u001b[0m\u001b[0m\n\u001b[0;32m----> 7\u001b[0;31m \u001b[0mwsse\u001b[0m \u001b[0;34m=\u001b[0m \u001b[0mmodel\u001b[0m\u001b[0;34m.\u001b[0m\u001b[0mcomputeCost\u001b[0m\u001b[0;34m(\u001b[0m\u001b[0melbowset\u001b[0m\u001b[0;34m)\u001b[0m\u001b[0;34m\u001b[0m\u001b[0;34m\u001b[0m\u001b[0m\n\u001b[0m",
      "\u001b[0;31mAttributeError\u001b[0m: 'KMeansModel' object has no attribute 'computeCost'"
     ]
    }
   ],
   "source": [
    "from pyspark.ml.evaluation import ClusteringEvaluator\n",
    "km = KM(k=2,seed=1)\n",
    "model = km.fit(elbowset)\n",
    "clus = model.transform(elbowset)\n",
    "evaluator = ClusteringEvaluator()\n",
    "silhouette = evaluator.evaluate(clus)\n",
    "wsse = model.computeCost(elbowset)"
   ]
  },
  {
   "cell_type": "code",
   "execution_count": 53,
   "metadata": {},
   "outputs": [
    {
     "name": "stdout",
     "output_type": "stream",
     "text": [
      "0.687117696120979\n"
     ]
    },
    {
     "data": {
      "text/plain": [
       "[('features', 'vector')]"
      ]
     },
     "execution_count": 53,
     "metadata": {},
     "output_type": "execute_result"
    }
   ],
   "source": [
    "print(silhouette)\n",
    "elbowset.dtypes"
   ]
  },
  {
   "cell_type": "code",
   "execution_count": 62,
   "metadata": {},
   "outputs": [
    {
     "ename": "AttributeError",
     "evalue": "'KMeansModel' object has no attribute 'centers'",
     "output_type": "error",
     "traceback": [
      "\u001b[0;31m---------------------------------------------------------------------------\u001b[0m",
      "\u001b[0;31mAttributeError\u001b[0m                            Traceback (most recent call last)",
      "\u001b[0;32m<ipython-input-62-2da5a7a3c644>\u001b[0m in \u001b[0;36m<module>\u001b[0;34m\u001b[0m\n\u001b[0;32m----> 1\u001b[0;31m \u001b[0mcenter\u001b[0m \u001b[0;34m=\u001b[0m \u001b[0mmodel\u001b[0m\u001b[0;34m.\u001b[0m\u001b[0mcenters\u001b[0m\u001b[0;34m[\u001b[0m\u001b[0mmodel\u001b[0m\u001b[0;34m.\u001b[0m\u001b[0mpredict\u001b[0m\u001b[0;34m(\u001b[0m\u001b[0melbowset\u001b[0m\u001b[0;34m)\u001b[0m\u001b[0;34m]\u001b[0m\u001b[0;34m\u001b[0m\u001b[0;34m\u001b[0m\u001b[0m\n\u001b[0m",
      "\u001b[0;31mAttributeError\u001b[0m: 'KMeansModel' object has no attribute 'centers'"
     ]
    }
   ],
   "source": [
    "center = model.centers[model.predict(elbowset)]"
   ]
  },
  {
   "cell_type": "code",
   "execution_count": null,
   "metadata": {},
   "outputs": [],
   "source": [
    "kmeans = KM(k = 2, seed = 1)\n",
    "model = kmeans.fit(elbowset)\n",
    "transformed = model.transform(elbowset)\n",
    "Training for cluster size 2 \n",
    "Within Set Sum of Squared Error = 5394.567794225921\n",
    "Training for cluster size 3 \n",
    "Within Set Sum of Squared Error = 3899.7055127003114\n",
    "Training for cluster size 4 \n",
    "Within Set Sum of Squared Error = 3302.7700174795536\n",
    "Training for cluster size 5 \n",
    "Within Set Sum of Squared Error = 3123.7558976976056\n",
    "Training for cluster size 6 \n",
    "Within Set Sum of Squared Error = 2420.097586507952\n",
    "Training for cluster size 7 \n",
    "Within Set Sum of Squared Error = 2179.1633394092155\n",
    "Training for cluster size 8 \n",
    "Within Set Sum of Squared Error = 2010.26248542168"
   ]
  }
 ],
 "metadata": {
  "kernelspec": {
   "display_name": "Python [conda env:root] *",
   "language": "python",
   "name": "conda-root-py"
  },
  "language_info": {
   "codemirror_mode": {
    "name": "ipython",
    "version": 3
   },
   "file_extension": ".py",
   "mimetype": "text/x-python",
   "name": "python",
   "nbconvert_exporter": "python",
   "pygments_lexer": "ipython3",
   "version": "3.7.3"
  }
 },
 "nbformat": 4,
 "nbformat_minor": 2
}
